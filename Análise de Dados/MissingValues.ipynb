{
 "cells": [
  {
   "cell_type": "markdown",
   "metadata": {},
   "source": [
    "<img src=\"https://s3-sa-east-1.amazonaws.com/preditiva.ai/diversos/preditiva_assinatura.jpg\">\n",
    "\n",
    "# Preparação dos Dados (*Data Prep*)"
   ]
  },
  {
   "cell_type": "markdown",
   "metadata": {},
   "source": [
    "Nesta série de notebooks consolidamos as principais operações comuns a etapas de preparação dos dados com o Pandas. Utilize como referência para suas manipulações de dados nas etapas iniciais de projetos de Dados."
   ]
  },
  {
   "cell_type": "markdown",
   "metadata": {},
   "source": [
    "## *Missing Values* ou Dados Faltantes"
   ]
  },
  {
   "cell_type": "markdown",
   "metadata": {},
   "source": [
    "Algo comum em manipulação de dados é lidar com **dados faltantes**. O Pandas fornece uma série de métodos para lidar com esses problemas em dataframes. Veja o exemplo a seguir:"
   ]
  },
  {
   "cell_type": "code",
   "execution_count": null,
   "metadata": {},
   "outputs": [],
   "source": [
    "import pandas as pd"
   ]
  },
  {
   "cell_type": "code",
   "execution_count": null,
   "metadata": {},
   "outputs": [],
   "source": [
    "df1 = pd.DataFrame({'aluno': ['Joao','Maria','Helena','Joel','Gabriel'],\n",
    "                    'idade': [30,25,18,29,45]})\n",
    "df1"
   ]
  },
  {
   "cell_type": "code",
   "execution_count": null,
   "metadata": {},
   "outputs": [],
   "source": [
    "df2 = pd.DataFrame({'nome': ['Joel','Gabriel'],\n",
    "                    'altura': [1.60,1.70]})\n",
    "df2"
   ]
  },
  {
   "cell_type": "markdown",
   "metadata": {},
   "source": [
    "Como vimos em seções anteriores, o merge abaixo produziu **dados faltantes (NaN)** pois a tabela \"right\" não tinha a altura para os 3 primeiros alunos."
   ]
  },
  {
   "cell_type": "code",
   "execution_count": null,
   "metadata": {},
   "outputs": [],
   "source": [
    "df1e2 = pd.merge(df1,\n",
    "                 df2,\n",
    "                 how='left',\n",
    "                 left_on='aluno',\n",
    "                 right_on='nome')\\\n",
    "          .drop('nome', axis=1) # o axis = 1 representa uma coluna\n",
    "df1e2"
   ]
  },
  {
   "cell_type": "markdown",
   "metadata": {},
   "source": [
    "Sempre que lidamos com um dataframe novo é muito importante detectar se temos **dados faltantes**. Podemos fazer isso da seguinte forma:"
   ]
  },
  {
   "cell_type": "code",
   "execution_count": null,
   "metadata": {},
   "outputs": [],
   "source": [
    "df1e2.isna()"
   ]
  },
  {
   "cell_type": "markdown",
   "metadata": {},
   "source": [
    "Utilizando o código abaixo, conseguimos rapidamente identificar que a variável altura tem 3 linhas com **dados faltantes**:"
   ]
  },
  {
   "cell_type": "code",
   "execution_count": null,
   "metadata": {},
   "outputs": [],
   "source": [
    "df1e2.isna().sum()"
   ]
  },
  {
   "cell_type": "markdown",
   "metadata": {},
   "source": [
    "Agora que detectamos, precisamos decidir o que fazer com os **dados faltantes**. Algumas técnicas de modelagem não conseguem lidar com *missing values*, e dependendo da situação uma alternativa pode ser simplesmente __excluir os registros__ que não tem todas as informações."
   ]
  },
  {
   "cell_type": "code",
   "execution_count": null,
   "metadata": {},
   "outputs": [],
   "source": [
    "df1e2"
   ]
  },
  {
   "cell_type": "code",
   "execution_count": null,
   "metadata": {},
   "outputs": [],
   "source": [
    "df1e2.dropna()"
   ]
  },
  {
   "cell_type": "markdown",
   "metadata": {},
   "source": [
    "Mas a operação acima foi muito drástica, pois perdemos todas as informações dos 3 primeiros alunos. Uma alternativa seria então excluir a variável com **dados faltantes**, nesse caso, a variável altura."
   ]
  },
  {
   "cell_type": "code",
   "execution_count": null,
   "metadata": {},
   "outputs": [],
   "source": [
    "df1e2.dropna(axis='columns')"
   ]
  },
  {
   "cell_type": "markdown",
   "metadata": {},
   "source": [
    "Novamente, descartamos as informações de altura para todos os registros (nesse caso, dos 2 últimos alunos). Por fim, uma outra alternativa é realizar a **imputação de dados** nos valores faltantes em vez de excluí-los. Existem diversas formas de fazer isso:"
   ]
  },
  {
   "cell_type": "code",
   "execution_count": null,
   "metadata": {},
   "outputs": [],
   "source": [
    "df1e2"
   ]
  },
  {
   "cell_type": "markdown",
   "metadata": {},
   "source": [
    "A forma mais simples é substituir os **dados faltantes** por um valor fixo:"
   ]
  },
  {
   "cell_type": "code",
   "execution_count": null,
   "metadata": {},
   "outputs": [],
   "source": [
    "df1e2.fillna(2) # preenche 2 em todos os NaNs"
   ]
  },
  {
   "cell_type": "markdown",
   "metadata": {},
   "source": [
    "Uma forma um pouco melhor é substituir os **dados faltantes** pelo valor médio da variável:"
   ]
  },
  {
   "cell_type": "code",
   "execution_count": null,
   "metadata": {},
   "outputs": [],
   "source": [
    "df1e2.fillna(df1e2['altura'].mean())"
   ]
  },
  {
   "cell_type": "markdown",
   "metadata": {},
   "source": [
    "Existem formas bastante sofisticadas, que chegam a utilizar modelos para estimar os valores faltantes. Tudo dependerá da importância desses dados e do nível de esforço que vale a pena para preencher os **dados faltantes** da melhor forma."
   ]
  },
  {
   "cell_type": "markdown",
   "metadata": {},
   "source": [
    "## Outras referências"
   ]
  },
  {
   "cell_type": "markdown",
   "metadata": {},
   "source": [
    "Existem vários outros comandos que podemos usar na etapa de Pré-Processamento. Uma busca na internet por \"Cheat Sheet\" Pandas retorna dezenas de opções de resumos. Independentemente do resumo usado, o mais importante é praticar sempre que possível em diversas bases diferentes até essa habilidade ser desenvolvida. \n",
    "\n",
    "Aqui separamos uma referência da própria biblioteca Pandas: https://pandas.pydata.org/Pandas_Cheat_Sheet.pdf"
   ]
  },
  {
   "cell_type": "markdown",
   "metadata": {},
   "source": [
    " "
   ]
  }
 ],
 "metadata": {
  "kernelspec": {
   "display_name": "Python 3",
   "language": "python",
   "name": "python3"
  },
  "language_info": {
   "codemirror_mode": {
    "name": "ipython",
    "version": 3
   },
   "file_extension": ".py",
   "mimetype": "text/x-python",
   "name": "python",
   "nbconvert_exporter": "python",
   "pygments_lexer": "ipython3",
   "version": "3.8.3"
  },
  "toc-autonumbering": true
 },
 "nbformat": 4,
 "nbformat_minor": 4
}
