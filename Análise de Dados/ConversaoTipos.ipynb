{
 "cells": [
  {
   "cell_type": "markdown",
   "metadata": {},
   "source": [
    "<img src=\"https://s3-sa-east-1.amazonaws.com/preditiva.ai/diversos/preditiva_assinatura.jpg\">\n",
    "\n",
    "# Preparação dos Dados (Data Prep)"
   ]
  },
  {
   "cell_type": "markdown",
   "metadata": {},
   "source": [
    "Nesta série de notebooks consolidamos as principais operações comuns a etapas de preparação dos dados com o Pandas. Utilize como referência para suas manipulações de dados nas etapas iniciais de projetos de Dados."
   ]
  },
  {
   "cell_type": "markdown",
   "metadata": {
    "tags": [],
    "toc-hr-collapsed": true
   },
   "source": [
    "## Conversões de Tipos de Dados"
   ]
  },
  {
   "cell_type": "markdown",
   "metadata": {},
   "source": [
    "Mais um tipo de operação bastante comum na preparção dos dados é a **conversão de tipos de dados**, como por exemplo números ou datas armazenadas como texto."
   ]
  },
  {
   "cell_type": "code",
   "execution_count": null,
   "metadata": {},
   "outputs": [],
   "source": [
    "import pandas as pd"
   ]
  },
  {
   "cell_type": "code",
   "execution_count": null,
   "metadata": {},
   "outputs": [],
   "source": [
    "df = pd.DataFrame({'variavel_a':['1.1', '2.2', '3.3'],\n",
    "                   'variavel_b':['4', '5', '6'],\n",
    "                   'variavel_c':['10/10/2021', '11/12/2020', '15/09/2019']})\n",
    "df"
   ]
  },
  {
   "cell_type": "markdown",
   "metadata": {},
   "source": [
    "Veja que as **variáveis a e b** são  dados numéricos e a **variável c** é uma variável de data. Todas elas estão armazenadas como texto:"
   ]
  },
  {
   "cell_type": "code",
   "execution_count": null,
   "metadata": {},
   "outputs": [],
   "source": [
    "df.dtypes"
   ]
  },
  {
   "cell_type": "markdown",
   "metadata": {},
   "source": [
    "O método **astype** converte o tipo das variáveis de acordo com o especificado no dicionário passado como argumento:"
   ]
  },
  {
   "cell_type": "code",
   "execution_count": null,
   "metadata": {},
   "outputs": [],
   "source": [
    "df = df.astype({\n",
    "    'variavel_a':'float64',\n",
    "    'variavel_b':'int64'\n",
    "})"
   ]
  },
  {
   "cell_type": "code",
   "execution_count": null,
   "metadata": {},
   "outputs": [],
   "source": [
    "df"
   ]
  },
  {
   "cell_type": "code",
   "execution_count": null,
   "metadata": {},
   "outputs": [],
   "source": [
    "df.dtypes"
   ]
  },
  {
   "cell_type": "markdown",
   "metadata": {},
   "source": [
    "Para converter entre outros formatos, basta mudar o tipo de dados desejado."
   ]
  },
  {
   "cell_type": "markdown",
   "metadata": {},
   "source": [
    "Na conversão de variáveis com informação de Data utilizaremos a biblioteca **datetime**, que possui funções específicas para lidar com a grande variedade de formatos existentes."
   ]
  },
  {
   "cell_type": "code",
   "execution_count": null,
   "metadata": {},
   "outputs": [],
   "source": [
    "df['variavel_c'] = pd.to_datetime(df['variavel_c'], format='%d/%m/%Y')\n",
    "df"
   ]
  },
  {
   "cell_type": "code",
   "execution_count": null,
   "metadata": {},
   "outputs": [],
   "source": [
    "df.dtypes"
   ]
  },
  {
   "cell_type": "markdown",
   "metadata": {},
   "source": [
    "Observe que agora a **variável c** apresenta o tipo `datetime64[ns]`. "
   ]
  },
  {
   "cell_type": "markdown",
   "metadata": {},
   "source": [
    "## Outras referências"
   ]
  },
  {
   "cell_type": "markdown",
   "metadata": {},
   "source": [
    "Existem vários outros comandos que podemos usar na etapa de Pré-Processamento. Uma busca na internet por \"Cheat Sheet\" Pandas retorna dezenas de opções de resumos. Independentemente do resumo usado, o mais importante é praticar sempre que possível em diversas bases diferentes até essa habilidade ser desenvolvida. \n",
    "\n",
    "Aqui separamos uma referência da própria biblioteca Pandas: https://pandas.pydata.org/Pandas_Cheat_Sheet.pdf"
   ]
  }
 ],
 "metadata": {
  "kernelspec": {
   "display_name": "Python 3",
   "language": "python",
   "name": "python3"
  },
  "language_info": {
   "codemirror_mode": {
    "name": "ipython",
    "version": 3
   },
   "file_extension": ".py",
   "mimetype": "text/x-python",
   "name": "python",
   "nbconvert_exporter": "python",
   "pygments_lexer": "ipython3",
   "version": "3.8.3"
  },
  "toc-autonumbering": true
 },
 "nbformat": 4,
 "nbformat_minor": 4
}
