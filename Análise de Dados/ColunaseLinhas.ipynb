{
 "cells": [
  {
   "cell_type": "markdown",
   "metadata": {},
   "source": [
    "<img src=\"https://s3-sa-east-1.amazonaws.com/preditiva.ai/diversos/preditiva_assinatura.jpg\">\n",
    "\n",
    "# Preparação dos Dados (Data Prep)"
   ]
  },
  {
   "cell_type": "markdown",
   "metadata": {},
   "source": [
    "Nesta série de notebooks consolidamos as principais operações comuns a etapas de preparação dos dados com o Pandas. Utilize como referência para suas manipulações de dados nas etapas iniciais de projetos de Dados."
   ]
  },
  {
   "cell_type": "markdown",
   "metadata": {
    "tags": []
   },
   "source": [
    "## Transformações de Colunas e Linhas"
   ]
  },
  {
   "cell_type": "markdown",
   "metadata": {},
   "source": [
    "Dependendo da organização original dos dados e o tipo de análise necessária para resolver um problema de negócios, pode ser necessário fazer algumas **transformações entre colunas e linhas** de um DataFrame. Veja o exemplo a seguir:"
   ]
  },
  {
   "cell_type": "code",
   "execution_count": null,
   "metadata": {},
   "outputs": [],
   "source": [
    "import pandas as pd\n",
    "import seaborn as sns"
   ]
  },
  {
   "cell_type": "code",
   "execution_count": null,
   "metadata": {},
   "outputs": [],
   "source": [
    "df_tips = sns.load_dataset('tips')\n",
    "df_tips"
   ]
  },
  {
   "cell_type": "markdown",
   "metadata": {},
   "source": [
    "Vamos começar fazendo uma agregação para saber a quantidade de pessoas por dia da semana e gênero. A variável *size* indica a quantidade de pessoas."
   ]
  },
  {
   "cell_type": "code",
   "execution_count": null,
   "metadata": {},
   "outputs": [],
   "source": [
    "df_tips_daysex = df_tips.groupby(['day', 'sex'])\\\n",
    "                        .agg({'size': 'sum'})\n",
    "df_tips_daysex"
   ]
  },
  {
   "cell_type": "markdown",
   "metadata": {},
   "source": [
    "### Comando: Unstack\n",
    "O método **unstack()** transforma os índices do DataFrame em variáveis. Se não especificarmos qual o nível do índice a ser transformado, o método **unstack()** considerará o nível mais baixo:"
   ]
  },
  {
   "cell_type": "code",
   "execution_count": null,
   "metadata": {},
   "outputs": [],
   "source": [
    "df_tips_daysex2 = df_tips_daysex.unstack()\n",
    "df_tips_daysex2"
   ]
  },
  {
   "cell_type": "markdown",
   "metadata": {},
   "source": [
    "Mas é possível escolher o nível desejado utilizando o argumento **level**:"
   ]
  },
  {
   "cell_type": "code",
   "execution_count": null,
   "metadata": {},
   "outputs": [],
   "source": [
    "df_tips_daysex2 = df_tips_daysex.unstack(level=0)\n",
    "df_tips_daysex2"
   ]
  },
  {
   "cell_type": "markdown",
   "metadata": {},
   "source": [
    "### Comando: Stack\n",
    "O método **stack()** transforma as variáveis em índices do DataFrame."
   ]
  },
  {
   "cell_type": "code",
   "execution_count": null,
   "metadata": {},
   "outputs": [],
   "source": [
    "df_tips_daysex2"
   ]
  },
  {
   "cell_type": "code",
   "execution_count": null,
   "metadata": {},
   "outputs": [],
   "source": [
    "df_tips_daysex2.stack()"
   ]
  },
  {
   "cell_type": "markdown",
   "metadata": {},
   "source": [
    "Assim como no método **unstack()**, é possível escolher o nível desejado utilizando o argumento **level**:"
   ]
  },
  {
   "cell_type": "code",
   "execution_count": null,
   "metadata": {},
   "outputs": [],
   "source": [
    "df_tips_daysex2.stack(level=0)"
   ]
  },
  {
   "cell_type": "markdown",
   "metadata": {},
   "source": [
    "### Comando: Melt\n",
    "\n",
    "O método **melt()** faz o empilhamento de diversas variáveis, transformando-as em níveis de uma nova variável."
   ]
  },
  {
   "cell_type": "code",
   "execution_count": null,
   "metadata": {},
   "outputs": [],
   "source": [
    "df = pd.DataFrame({\n",
    "    'first': ['John', 'Mary'],\n",
    "    'last': ['Doe', 'Bo'],\n",
    "    'height': [5.5, 6.0],\n",
    "    'weight': [130, 150]\n",
    "})\n",
    "df"
   ]
  },
  {
   "cell_type": "markdown",
   "metadata": {},
   "source": [
    "No exemplo a seguir, queremos que as variáveis **height** e **weight** sejam empilhadas na variável **measures**:"
   ]
  },
  {
   "cell_type": "code",
   "execution_count": null,
   "metadata": {},
   "outputs": [],
   "source": [
    "# # O comando Melt faz o \"stacking\" em uma etapa\n",
    "df.melt(id_vars=['first', 'last'],\n",
    "        var_name='measures')"
   ]
  },
  {
   "cell_type": "markdown",
   "metadata": {},
   "source": [
    "É possível fazer o mesmo com o comando \"stack\", porém teria que ser feito em duas etapas:"
   ]
  },
  {
   "cell_type": "code",
   "execution_count": null,
   "metadata": {},
   "outputs": [],
   "source": [
    "df.set_index(['first', 'last'], inplace=True)\n",
    "df"
   ]
  },
  {
   "cell_type": "code",
   "execution_count": null,
   "metadata": {},
   "outputs": [],
   "source": [
    "df.stack().reset_index()"
   ]
  },
  {
   "cell_type": "markdown",
   "metadata": {},
   "source": [
    "## Outras referências"
   ]
  },
  {
   "cell_type": "markdown",
   "metadata": {},
   "source": [
    "Existem vários outros comandos que podemos usar na etapa de Pré-Processamento. Uma busca na internet por \"Cheat Sheet\" Pandas retorna dezenas de opções de resumos. Independentemente do resumo usado, o mais importante é praticar sempre que possível em diversas bases diferentes até essa habilidade ser desenvolvida. \n",
    "\n",
    "Aqui separamos uma referência da própria biblioteca Pandas: https://pandas.pydata.org/Pandas_Cheat_Sheet.pdf\n",
    "\n",
    "E nesse repositório do GitHub você pode encontrar uma série de exemplos do livro **Python for Data Analysis: Data Wrangling with Pandas, NumPy, and IPython**: https://github.com/wesm/pydata-book"
   ]
  }
 ],
 "metadata": {
  "kernelspec": {
   "display_name": "Python 3",
   "language": "python",
   "name": "python3"
  },
  "language_info": {
   "codemirror_mode": {
    "name": "ipython",
    "version": 3
   },
   "file_extension": ".py",
   "mimetype": "text/x-python",
   "name": "python",
   "nbconvert_exporter": "python",
   "pygments_lexer": "ipython3",
   "version": "3.8.3"
  },
  "toc-autonumbering": true
 },
 "nbformat": 4,
 "nbformat_minor": 4
}
