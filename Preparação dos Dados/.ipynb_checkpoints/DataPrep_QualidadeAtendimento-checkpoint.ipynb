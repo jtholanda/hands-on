{
 "cells": [
  {
   "cell_type": "markdown",
   "metadata": {
    "tags": []
   },
   "source": [
    "<img src=\"https://s3-sa-east-1.amazonaws.com/preditiva.ai/diversos/preditiva_assinatura.jpg\">\n",
    "\n",
    "# Preparação dos Dados (Data Prep)"
   ]
  },
  {
   "cell_type": "markdown",
   "metadata": {
    "tags": [],
    "toc-hr-collapsed": true
   },
   "source": [
    "## Estudo de Caso: Qualidade na Central de Atendimento"
   ]
  },
  {
   "cell_type": "markdown",
   "metadata": {},
   "source": [
    "Uma empresa de Contact Center fez uma pesquisa no momento da contratação de um grupo de colaboradores (agentes de atendimento) através do <a href=\"https://pt.surveymonkey.com/\">Survey Monkey</a>. Após 6 meses da contratação verificou se quais colaboradores atingiram um bom desempenho de Qualidade e dos indicadores operacionais e estes agentes foram identificados com o valor 1 na coluna \"Target\".\n",
    "\n",
    "Antes de criar um modelo que possa ser utilizado para entender os fatores mais associados a uma boa performance futura, o time de Atendimento ao Cliente precisa processar os dados brutos da ferramenta de pesquisa e realizar algumas análises exploratórias. Você como Cientista de Dados está encarregado desta tarefa de preparação dos dados brutos."
   ]
  },
  {
   "cell_type": "markdown",
   "metadata": {},
   "source": [
    "### Dados Brutos do Questionário"
   ]
  },
  {
   "cell_type": "code",
   "execution_count": null,
   "metadata": {},
   "outputs": [],
   "source": [
    "import pandas as pd"
   ]
  },
  {
   "cell_type": "code",
   "execution_count": null,
   "metadata": {},
   "outputs": [],
   "source": [
    "df_bruto = pd.read_csv('dados_contact_center_survey.csv', \n",
    "                       sep = \";\", \n",
    "                       low_memory=False, \n",
    "                       header=[0,1])\n",
    "df_bruto.head()"
   ]
  },
  {
   "cell_type": "code",
   "execution_count": null,
   "metadata": {},
   "outputs": [],
   "source": [
    "df_bruto.shape"
   ]
  },
  {
   "cell_type": "markdown",
   "metadata": {},
   "source": [
    "### Dados de Desempenho"
   ]
  },
  {
   "cell_type": "code",
   "execution_count": null,
   "metadata": {},
   "outputs": [],
   "source": [
    "df_desempenho = pd.read_csv('dados_contact_center_survey_desempenho.csv', \n",
    "                            sep = \";\", \n",
    "                            low_memory=False)\n",
    "df_desempenho.head()"
   ]
  },
  {
   "cell_type": "markdown",
   "metadata": {},
   "source": [
    "### Dados Esperados pelo time de Atendimento ao Cliente para a Análise Exploratória"
   ]
  },
  {
   "cell_type": "code",
   "execution_count": null,
   "metadata": {},
   "outputs": [],
   "source": [
    "df_proc = pd.read_csv('dados_contact_center_survey_processado.csv', \n",
    "                      sep = \";\")"
   ]
  },
  {
   "cell_type": "code",
   "execution_count": null,
   "metadata": {},
   "outputs": [],
   "source": [
    "df_proc.head()"
   ]
  },
  {
   "cell_type": "markdown",
   "metadata": {
    "toc-hr-collapsed": true
   },
   "source": [
    "## Correção dos nomes das variáveis\n",
    "Perceba que o dataframe orginal tem um problema no cabeçalho: temos duas linhas para definir o nome das variáveis com cada resposta dos colaboradores. Para corrigir isso, realizaremos algumas etapas utilizando diferentes funções do Pandas e vários recursos do Python. Por isso, é importante que o Cientista de Dados conheça diversas ferramentas diferentes para poder escolher a mais adequada para se utilizar em cada tarefa."
   ]
  },
  {
   "cell_type": "code",
   "execution_count": null,
   "metadata": {},
   "outputs": [],
   "source": [
    "df_bruto.head()"
   ]
  },
  {
   "cell_type": "markdown",
   "metadata": {},
   "source": [
    "### Identificação do índice dos textos das questões.\n",
    "Esse índice será utilizado nas etapas seguintes."
   ]
  },
  {
   "cell_type": "code",
   "execution_count": null,
   "metadata": {
    "tags": []
   },
   "outputs": [],
   "source": [
    "indices = [i for i, c in enumerate(df_bruto.columns) if not c[0].startswith('Unnamed')]\n",
    "indices"
   ]
  },
  {
   "cell_type": "markdown",
   "metadata": {},
   "source": [
    "### Obtenção do texto da questão.\n",
    "Esse texto será utilizado para atribuir os nomes às variáveis."
   ]
  },
  {
   "cell_type": "code",
   "execution_count": null,
   "metadata": {
    "tags": []
   },
   "outputs": [],
   "source": [
    "questions = [c[0] for c in df_bruto.columns if not c[0].startswith('Unnamed')]\n",
    "questions"
   ]
  },
  {
   "cell_type": "markdown",
   "metadata": {},
   "source": [
    "### Definição das fatias do DataFrame.\n",
    "Essas fatias serão utilizadas para selecionar os blocos de variáveis relacionados a cada questão."
   ]
  },
  {
   "cell_type": "code",
   "execution_count": null,
   "metadata": {
    "tags": []
   },
   "outputs": [],
   "source": [
    "slices = [slice(i, j) for i, j in zip(indices, indices[1:] + [None])]\n",
    "slices"
   ]
  },
  {
   "cell_type": "markdown",
   "metadata": {},
   "source": [
    "### Pipeline de Preparação dos Dados\n",
    "Em cada bloco de variáveis serão realizados os seguintes processamentos:\n",
    "1. Atribuição do índice para unificação das perguntas\n",
    "2. Empilhamento das diversas respostas possíveis: **pd.melt()**\n",
    "3. Seleção dos registros com respostas\n",
    "\n",
    "Ao final, teremos em cada linha os colaboradores (respondentes) e em cada coluna as perguntas."
   ]
  },
  {
   "cell_type": "code",
   "execution_count": null,
   "metadata": {
    "tags": []
   },
   "outputs": [],
   "source": [
    "# Cria lista para armazenar cada fatia tratada do DataFrame\n",
    "data = []\n",
    "\n",
    "for i, q in enumerate(slices):\n",
    "\n",
    "    # Obtém a variável Id_Agente para utilizar como índice\n",
    "    d = pd.concat([df_bruto.iloc[:,0], df_bruto.iloc[:,slices[i]]], axis=1)\n",
    "    \n",
    "    # Empilha as diversas respostas possíveis em 1 variável\n",
    "    d = d.melt(id_vars = 'Id_Agente', var_name=questions[i], col_level=1)\n",
    "    \n",
    "    # Seleciona apenas os registros que tiveram resposta\n",
    "    d = d.loc[d['value'] == 1]\n",
    "    \n",
    "    # Define Id_Agente como índice\n",
    "    d.index = d['Id_Agente']\n",
    "    \n",
    "    # Elimina as variáveis Id_Agente e value para evita repetições\n",
    "    d.drop(['Id_Agente', 'value'], axis=1, inplace=True)\n",
    "    \n",
    "    # Adiciona a fatia na lista\n",
    "    data.append(d)"
   ]
  },
  {
   "cell_type": "code",
   "execution_count": null,
   "metadata": {},
   "outputs": [],
   "source": [
    "data[35]"
   ]
  },
  {
   "cell_type": "markdown",
   "metadata": {},
   "source": [
    "### Preparação das variáveis extra questões"
   ]
  },
  {
   "cell_type": "code",
   "execution_count": null,
   "metadata": {},
   "outputs": [],
   "source": [
    "df_prim = df_bruto.iloc[:,0:2].copy()\n",
    "df_prim.columns = df_prim.columns.droplevel(0)\n",
    "df_prim.index = df_prim['Id_Agente']\n",
    "df_prim"
   ]
  },
  {
   "cell_type": "markdown",
   "metadata": {},
   "source": [
    "### Unificação dos Dados"
   ]
  },
  {
   "cell_type": "code",
   "execution_count": null,
   "metadata": {},
   "outputs": [],
   "source": [
    "data.insert(0, df_prim)"
   ]
  },
  {
   "cell_type": "code",
   "execution_count": null,
   "metadata": {
    "tags": []
   },
   "outputs": [],
   "source": [
    "data"
   ]
  },
  {
   "cell_type": "code",
   "execution_count": null,
   "metadata": {},
   "outputs": [],
   "source": [
    "df_corrigido = pd.concat(data, axis=1)\n",
    "df_corrigido.fillna('0 - Sem resposta', inplace=True)\n",
    "df_corrigido.reset_index(drop=True, inplace=True)\n",
    "df_corrigido"
   ]
  },
  {
   "cell_type": "markdown",
   "metadata": {
    "toc-hr-collapsed": true
   },
   "source": [
    "## Verificação de dados duplicados"
   ]
  },
  {
   "cell_type": "code",
   "execution_count": null,
   "metadata": {},
   "outputs": [],
   "source": [
    "df_corrigido.duplicated().sum()"
   ]
  },
  {
   "cell_type": "code",
   "execution_count": null,
   "metadata": {},
   "outputs": [],
   "source": [
    "df_corrigido = df_corrigido.drop_duplicates()\n",
    "df_corrigido.shape"
   ]
  },
  {
   "cell_type": "markdown",
   "metadata": {
    "toc-hr-collapsed": true
   },
   "source": [
    "## Adição dos dados de desempenho\n",
    "Utilizaremos o Pandas Merge para unificar a base de questões e a base de desempenho."
   ]
  },
  {
   "cell_type": "code",
   "execution_count": null,
   "metadata": {},
   "outputs": [],
   "source": [
    "df_completa = pd.merge(left=df_corrigido, \n",
    "                       right=df_desempenho, \n",
    "                       how='left', \n",
    "                       left_on='Id_Agente', right_on='Id_Agente')\n",
    "df_completa"
   ]
  },
  {
   "cell_type": "markdown",
   "metadata": {},
   "source": [
    "# Análise Exploratória dos Dados"
   ]
  },
  {
   "cell_type": "markdown",
   "metadata": {
    "toc-hr-collapsed": true
   },
   "source": [
    "## Utilizando o SweetViz"
   ]
  },
  {
   "cell_type": "code",
   "execution_count": null,
   "metadata": {},
   "outputs": [],
   "source": [
    "# Instale o pacote em seu ambiente virtual com \"pip install sweetviz\"\n",
    "import sweetviz as sv\n",
    "\n",
    "# Executa o Data Profiling\n",
    "aed_sv = sv.analyze(df_completa, \n",
    "                    target_feat='Target')\n",
    "\n",
    "# Salva o arquivo HTML final com o relatório\n",
    "aed_sv.show_html('aed_sv.html')"
   ]
  },
  {
   "cell_type": "markdown",
   "metadata": {},
   "source": [
    "## Utilizando o Pandas Profiling"
   ]
  },
  {
   "cell_type": "code",
   "execution_count": null,
   "metadata": {
    "tags": []
   },
   "outputs": [],
   "source": [
    "# Instale o pacote em seu ambiente virtual com \"pip install pandas_profiling\".\n",
    "import pandas_profiling\n",
    "\n",
    "# Executa Data Profiling\n",
    "aed_pp = df_completa.profile_report()\n",
    "\n",
    "# Salva o arquivo HTML final com o relatório\n",
    "aed_pp.to_file(output_file=\"aed_pp.html\")"
   ]
  },
  {
   "cell_type": "markdown",
   "metadata": {},
   "source": [
    "# Aplicação: Quais questões estão mais associadas ao bom desempenho dos agentes?\n",
    "Identifique quais questões estão mais associadas ao bom desempenho dos agentes e explique como essa associação ocorre na base de dados."
   ]
  },
  {
   "cell_type": "code",
   "execution_count": null,
   "metadata": {},
   "outputs": [],
   "source": []
  }
 ],
 "metadata": {
  "kernelspec": {
   "display_name": "Python 3",
   "language": "python",
   "name": "python3"
  },
  "language_info": {
   "codemirror_mode": {
    "name": "ipython",
    "version": 3
   },
   "file_extension": ".py",
   "mimetype": "text/x-python",
   "name": "python",
   "nbconvert_exporter": "python",
   "pygments_lexer": "ipython3",
   "version": "3.8.3"
  }
 },
 "nbformat": 4,
 "nbformat_minor": 4
}
