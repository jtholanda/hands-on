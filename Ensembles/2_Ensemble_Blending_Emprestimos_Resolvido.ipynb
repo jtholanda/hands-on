{
 "cells": [
  {
   "cell_type": "markdown",
   "metadata": {},
   "source": [
    "<img src=\"https://s3-sa-east-1.amazonaws.com/preditiva.ai/diversos/preditiva_assinatura.jpg\">\n",
    "\n",
    "# *Blending* - Melhorando o modelo de concessão de crédito"
   ]
  },
  {
   "cell_type": "markdown",
   "metadata": {},
   "source": [
    "## Importação das bibliotecas"
   ]
  },
  {
   "cell_type": "code",
   "execution_count": 7,
   "metadata": {},
   "outputs": [
    {
     "name": "stdout",
     "output_type": "stream",
     "text": [
      "Requirement already satisfied: pandas_profiling in c:\\users\\thiago\\anaconda3\\lib\\site-packages (3.2.0)\n",
      "Requirement already satisfied: joblib~=1.1.0 in c:\\users\\thiago\\anaconda3\\lib\\site-packages (from pandas_profiling) (1.1.1)\n",
      "Requirement already satisfied: scipy>=1.4.1 in c:\\users\\thiago\\anaconda3\\lib\\site-packages (from pandas_profiling) (1.11.1)\n",
      "Requirement already satisfied: pandas!=1.0.0,!=1.0.1,!=1.0.2,!=1.1.0,>=0.25.3 in c:\\users\\thiago\\anaconda3\\lib\\site-packages (from pandas_profiling) (2.0.3)\n",
      "Requirement already satisfied: matplotlib>=3.2.0 in c:\\users\\thiago\\anaconda3\\lib\\site-packages (from pandas_profiling) (3.7.2)\n",
      "Requirement already satisfied: pydantic>=1.8.1 in c:\\users\\thiago\\anaconda3\\lib\\site-packages (from pandas_profiling) (2.6.4)\n",
      "Requirement already satisfied: PyYAML>=5.0.0 in c:\\users\\thiago\\anaconda3\\lib\\site-packages (from pandas_profiling) (6.0)\n",
      "Requirement already satisfied: jinja2>=2.11.1 in c:\\users\\thiago\\anaconda3\\lib\\site-packages (from pandas_profiling) (3.1.2)\n",
      "Requirement already satisfied: markupsafe~=2.1.1 in c:\\users\\thiago\\anaconda3\\lib\\site-packages (from pandas_profiling) (2.1.1)\n",
      "Requirement already satisfied: visions[type_image_path]==0.7.4 in c:\\users\\thiago\\anaconda3\\lib\\site-packages (from pandas_profiling) (0.7.4)\n",
      "Requirement already satisfied: numpy>=1.16.0 in c:\\users\\thiago\\anaconda3\\lib\\site-packages (from pandas_profiling) (1.24.3)\n",
      "Requirement already satisfied: htmlmin>=0.1.12 in c:\\users\\thiago\\anaconda3\\lib\\site-packages (from pandas_profiling) (0.1.12)\n",
      "Requirement already satisfied: missingno>=0.4.2 in c:\\users\\thiago\\anaconda3\\lib\\site-packages (from pandas_profiling) (0.5.2)\n",
      "Requirement already satisfied: phik>=0.11.1 in c:\\users\\thiago\\anaconda3\\lib\\site-packages (from pandas_profiling) (0.12.4)\n",
      "Requirement already satisfied: tangled-up-in-unicode==0.2.0 in c:\\users\\thiago\\anaconda3\\lib\\site-packages (from pandas_profiling) (0.2.0)\n",
      "Requirement already satisfied: requests>=2.24.0 in c:\\users\\thiago\\anaconda3\\lib\\site-packages (from pandas_profiling) (2.31.0)\n",
      "Requirement already satisfied: tqdm>=4.48.2 in c:\\users\\thiago\\anaconda3\\lib\\site-packages (from pandas_profiling) (4.65.0)\n",
      "Requirement already satisfied: seaborn>=0.10.1 in c:\\users\\thiago\\anaconda3\\lib\\site-packages (from pandas_profiling) (0.12.2)\n",
      "Requirement already satisfied: multimethod>=1.4 in c:\\users\\thiago\\anaconda3\\lib\\site-packages (from pandas_profiling) (1.11.2)\n",
      "Requirement already satisfied: attrs>=19.3.0 in c:\\users\\thiago\\anaconda3\\lib\\site-packages (from visions[type_image_path]==0.7.4->pandas_profiling) (22.1.0)\n",
      "Requirement already satisfied: networkx>=2.4 in c:\\users\\thiago\\anaconda3\\lib\\site-packages (from visions[type_image_path]==0.7.4->pandas_profiling) (3.1)\n",
      "Requirement already satisfied: imagehash in c:\\users\\thiago\\anaconda3\\lib\\site-packages (from visions[type_image_path]==0.7.4->pandas_profiling) (4.3.1)\n",
      "Requirement already satisfied: Pillow in c:\\users\\thiago\\anaconda3\\lib\\site-packages (from visions[type_image_path]==0.7.4->pandas_profiling) (9.4.0)\n",
      "Requirement already satisfied: contourpy>=1.0.1 in c:\\users\\thiago\\anaconda3\\lib\\site-packages (from matplotlib>=3.2.0->pandas_profiling) (1.0.5)\n",
      "Requirement already satisfied: cycler>=0.10 in c:\\users\\thiago\\anaconda3\\lib\\site-packages (from matplotlib>=3.2.0->pandas_profiling) (0.11.0)\n",
      "Requirement already satisfied: fonttools>=4.22.0 in c:\\users\\thiago\\anaconda3\\lib\\site-packages (from matplotlib>=3.2.0->pandas_profiling) (4.25.0)\n",
      "Requirement already satisfied: kiwisolver>=1.0.1 in c:\\users\\thiago\\anaconda3\\lib\\site-packages (from matplotlib>=3.2.0->pandas_profiling) (1.4.4)\n",
      "Requirement already satisfied: packaging>=20.0 in c:\\users\\thiago\\anaconda3\\lib\\site-packages (from matplotlib>=3.2.0->pandas_profiling) (23.1)\n",
      "Requirement already satisfied: pyparsing<3.1,>=2.3.1 in c:\\users\\thiago\\anaconda3\\lib\\site-packages (from matplotlib>=3.2.0->pandas_profiling) (3.0.9)\n",
      "Requirement already satisfied: python-dateutil>=2.7 in c:\\users\\thiago\\anaconda3\\lib\\site-packages (from matplotlib>=3.2.0->pandas_profiling) (2.8.2)\n",
      "Requirement already satisfied: pytz>=2020.1 in c:\\users\\thiago\\anaconda3\\lib\\site-packages (from pandas!=1.0.0,!=1.0.1,!=1.0.2,!=1.1.0,>=0.25.3->pandas_profiling) (2023.3.post1)\n",
      "Requirement already satisfied: tzdata>=2022.1 in c:\\users\\thiago\\anaconda3\\lib\\site-packages (from pandas!=1.0.0,!=1.0.1,!=1.0.2,!=1.1.0,>=0.25.3->pandas_profiling) (2023.3)\n",
      "Requirement already satisfied: annotated-types>=0.4.0 in c:\\users\\thiago\\anaconda3\\lib\\site-packages (from pydantic>=1.8.1->pandas_profiling) (0.6.0)\n",
      "Requirement already satisfied: pydantic-core==2.16.3 in c:\\users\\thiago\\anaconda3\\lib\\site-packages (from pydantic>=1.8.1->pandas_profiling) (2.16.3)\n",
      "Requirement already satisfied: typing-extensions>=4.6.1 in c:\\users\\thiago\\anaconda3\\lib\\site-packages (from pydantic>=1.8.1->pandas_profiling) (4.7.1)\n",
      "Requirement already satisfied: charset-normalizer<4,>=2 in c:\\users\\thiago\\anaconda3\\lib\\site-packages (from requests>=2.24.0->pandas_profiling) (2.0.4)\n",
      "Requirement already satisfied: idna<4,>=2.5 in c:\\users\\thiago\\anaconda3\\lib\\site-packages (from requests>=2.24.0->pandas_profiling) (3.4)\n",
      "Requirement already satisfied: urllib3<3,>=1.21.1 in c:\\users\\thiago\\anaconda3\\lib\\site-packages (from requests>=2.24.0->pandas_profiling) (1.26.16)\n",
      "Requirement already satisfied: certifi>=2017.4.17 in c:\\users\\thiago\\anaconda3\\lib\\site-packages (from requests>=2.24.0->pandas_profiling) (2023.7.22)\n",
      "Requirement already satisfied: colorama in c:\\users\\thiago\\anaconda3\\lib\\site-packages (from tqdm>=4.48.2->pandas_profiling) (0.4.6)\n",
      "Requirement already satisfied: six>=1.5 in c:\\users\\thiago\\anaconda3\\lib\\site-packages (from python-dateutil>=2.7->matplotlib>=3.2.0->pandas_profiling) (1.16.0)\n",
      "Requirement already satisfied: PyWavelets in c:\\users\\thiago\\anaconda3\\lib\\site-packages (from imagehash->visions[type_image_path]==0.7.4->pandas_profiling) (1.4.1)\n",
      "Note: you may need to restart the kernel to use updated packages.\n"
     ]
    }
   ],
   "source": [
    "!pip install pandas_profiling"
   ]
  },
  {
   "cell_type": "code",
   "execution_count": 8,
   "metadata": {},
   "outputs": [],
   "source": [
    "# Módulos de manipulação de dados\n",
    "import pandas as pd\n",
    "import numpy as np\n",
    "\n",
    "# Pacotes gráficos\n",
    "%matplotlib inline\n",
    "import matplotlib.pyplot as plt\n",
    "import seaborn as sns\n",
    "\n",
    "# Pacotes de modelagem\n",
    "import sklearn as sk\n",
    "from sklearn.model_selection import train_test_split\n",
    "from sklearn.linear_model import LogisticRegression\n",
    "from sklearn.tree import DecisionTreeClassifier\n",
    "\n",
    "# Métricas de Desempenho\n",
    "import preditiva"
   ]
  },
  {
   "cell_type": "markdown",
   "metadata": {},
   "source": [
    "## Importação da base de dados"
   ]
  },
  {
   "cell_type": "code",
   "execution_count": 9,
   "metadata": {},
   "outputs": [
    {
     "data": {
      "text/html": [
       "<div>\n",
       "<style scoped>\n",
       "    .dataframe tbody tr th:only-of-type {\n",
       "        vertical-align: middle;\n",
       "    }\n",
       "\n",
       "    .dataframe tbody tr th {\n",
       "        vertical-align: top;\n",
       "    }\n",
       "\n",
       "    .dataframe thead th {\n",
       "        text-align: right;\n",
       "    }\n",
       "</style>\n",
       "<table border=\"1\" class=\"dataframe\">\n",
       "  <thead>\n",
       "    <tr style=\"text-align: right;\">\n",
       "      <th></th>\n",
       "      <th>Idade</th>\n",
       "      <th>Genero</th>\n",
       "      <th>Escolaridade</th>\n",
       "      <th>Tipo_Moradia</th>\n",
       "      <th>Saldo_Investimento</th>\n",
       "      <th>Saldo_Conta_Corrente</th>\n",
       "      <th>Valor_Emprestimo</th>\n",
       "      <th>Duracao_Emprestimo</th>\n",
       "      <th>Default</th>\n",
       "    </tr>\n",
       "  </thead>\n",
       "  <tbody>\n",
       "    <tr>\n",
       "      <th>0</th>\n",
       "      <td>67</td>\n",
       "      <td>M</td>\n",
       "      <td>Graduacao</td>\n",
       "      <td>Propria</td>\n",
       "      <td>Sem investimento</td>\n",
       "      <td>Pouco</td>\n",
       "      <td>1169</td>\n",
       "      <td>6</td>\n",
       "      <td>0</td>\n",
       "    </tr>\n",
       "    <tr>\n",
       "      <th>1</th>\n",
       "      <td>22</td>\n",
       "      <td>H</td>\n",
       "      <td>Graduacao</td>\n",
       "      <td>Propria</td>\n",
       "      <td>Pouco</td>\n",
       "      <td>Moderado</td>\n",
       "      <td>5951</td>\n",
       "      <td>48</td>\n",
       "      <td>1</td>\n",
       "    </tr>\n",
       "    <tr>\n",
       "      <th>2</th>\n",
       "      <td>49</td>\n",
       "      <td>M</td>\n",
       "      <td>Pos Graduacao</td>\n",
       "      <td>Propria</td>\n",
       "      <td>Pouco</td>\n",
       "      <td>Sem conta</td>\n",
       "      <td>2096</td>\n",
       "      <td>12</td>\n",
       "      <td>0</td>\n",
       "    </tr>\n",
       "    <tr>\n",
       "      <th>3</th>\n",
       "      <td>45</td>\n",
       "      <td>M</td>\n",
       "      <td>Graduacao</td>\n",
       "      <td>De favor</td>\n",
       "      <td>Pouco</td>\n",
       "      <td>Pouco</td>\n",
       "      <td>7882</td>\n",
       "      <td>42</td>\n",
       "      <td>0</td>\n",
       "    </tr>\n",
       "    <tr>\n",
       "      <th>4</th>\n",
       "      <td>53</td>\n",
       "      <td>M</td>\n",
       "      <td>Graduacao</td>\n",
       "      <td>De favor</td>\n",
       "      <td>Pouco</td>\n",
       "      <td>Pouco</td>\n",
       "      <td>4870</td>\n",
       "      <td>24</td>\n",
       "      <td>1</td>\n",
       "    </tr>\n",
       "    <tr>\n",
       "      <th>...</th>\n",
       "      <td>...</td>\n",
       "      <td>...</td>\n",
       "      <td>...</td>\n",
       "      <td>...</td>\n",
       "      <td>...</td>\n",
       "      <td>...</td>\n",
       "      <td>...</td>\n",
       "      <td>...</td>\n",
       "      <td>...</td>\n",
       "    </tr>\n",
       "    <tr>\n",
       "      <th>995</th>\n",
       "      <td>31</td>\n",
       "      <td>H</td>\n",
       "      <td>Pos Graduacao</td>\n",
       "      <td>Propria</td>\n",
       "      <td>Pouco</td>\n",
       "      <td>Sem conta</td>\n",
       "      <td>1736</td>\n",
       "      <td>12</td>\n",
       "      <td>0</td>\n",
       "    </tr>\n",
       "    <tr>\n",
       "      <th>996</th>\n",
       "      <td>40</td>\n",
       "      <td>M</td>\n",
       "      <td>Ensino Medio</td>\n",
       "      <td>Propria</td>\n",
       "      <td>Pouco</td>\n",
       "      <td>Pouco</td>\n",
       "      <td>3857</td>\n",
       "      <td>30</td>\n",
       "      <td>0</td>\n",
       "    </tr>\n",
       "    <tr>\n",
       "      <th>997</th>\n",
       "      <td>38</td>\n",
       "      <td>M</td>\n",
       "      <td>Graduacao</td>\n",
       "      <td>Propria</td>\n",
       "      <td>Pouco</td>\n",
       "      <td>Sem conta</td>\n",
       "      <td>804</td>\n",
       "      <td>12</td>\n",
       "      <td>0</td>\n",
       "    </tr>\n",
       "    <tr>\n",
       "      <th>998</th>\n",
       "      <td>23</td>\n",
       "      <td>M</td>\n",
       "      <td>Graduacao</td>\n",
       "      <td>De favor</td>\n",
       "      <td>Pouco</td>\n",
       "      <td>Pouco</td>\n",
       "      <td>1845</td>\n",
       "      <td>45</td>\n",
       "      <td>1</td>\n",
       "    </tr>\n",
       "    <tr>\n",
       "      <th>999</th>\n",
       "      <td>27</td>\n",
       "      <td>M</td>\n",
       "      <td>Graduacao</td>\n",
       "      <td>Propria</td>\n",
       "      <td>Moderado</td>\n",
       "      <td>Moderado</td>\n",
       "      <td>4576</td>\n",
       "      <td>45</td>\n",
       "      <td>0</td>\n",
       "    </tr>\n",
       "  </tbody>\n",
       "</table>\n",
       "<p>1000 rows × 9 columns</p>\n",
       "</div>"
      ],
      "text/plain": [
       "     Idade Genero   Escolaridade Tipo_Moradia Saldo_Investimento  \\\n",
       "0       67      M      Graduacao      Propria   Sem investimento   \n",
       "1       22      H      Graduacao      Propria              Pouco   \n",
       "2       49      M  Pos Graduacao      Propria              Pouco   \n",
       "3       45      M      Graduacao     De favor              Pouco   \n",
       "4       53      M      Graduacao     De favor              Pouco   \n",
       "..     ...    ...            ...          ...                ...   \n",
       "995     31      H  Pos Graduacao      Propria              Pouco   \n",
       "996     40      M   Ensino Medio      Propria              Pouco   \n",
       "997     38      M      Graduacao      Propria              Pouco   \n",
       "998     23      M      Graduacao     De favor              Pouco   \n",
       "999     27      M      Graduacao      Propria           Moderado   \n",
       "\n",
       "    Saldo_Conta_Corrente  Valor_Emprestimo  Duracao_Emprestimo  Default  \n",
       "0                  Pouco              1169                   6        0  \n",
       "1               Moderado              5951                  48        1  \n",
       "2              Sem conta              2096                  12        0  \n",
       "3                  Pouco              7882                  42        0  \n",
       "4                  Pouco              4870                  24        1  \n",
       "..                   ...               ...                 ...      ...  \n",
       "995            Sem conta              1736                  12        0  \n",
       "996                Pouco              3857                  30        0  \n",
       "997            Sem conta               804                  12        0  \n",
       "998                Pouco              1845                  45        1  \n",
       "999             Moderado              4576                  45        0  \n",
       "\n",
       "[1000 rows x 9 columns]"
      ]
     },
     "execution_count": 9,
     "metadata": {},
     "output_type": "execute_result"
    }
   ],
   "source": [
    "df_emprestimos = pd.read_csv('emprestimos.csv', sep=';')\n",
    "df_emprestimos"
   ]
  },
  {
   "cell_type": "markdown",
   "metadata": {
    "tags": []
   },
   "source": [
    "## Preparação dos Dados"
   ]
  },
  {
   "cell_type": "markdown",
   "metadata": {},
   "source": [
    "### Missing Values"
   ]
  },
  {
   "cell_type": "code",
   "execution_count": 12,
   "metadata": {},
   "outputs": [
    {
     "data": {
      "text/plain": [
       "Idade                   0\n",
       "Genero                  0\n",
       "Escolaridade            0\n",
       "Tipo_Moradia            0\n",
       "Saldo_Investimento      0\n",
       "Saldo_Conta_Corrente    0\n",
       "Valor_Emprestimo        0\n",
       "Duracao_Emprestimo      0\n",
       "Default                 0\n",
       "dtype: int64"
      ]
     },
     "execution_count": 12,
     "metadata": {},
     "output_type": "execute_result"
    }
   ],
   "source": [
    "df_emprestimos.isnull().sum()"
   ]
  },
  {
   "cell_type": "markdown",
   "metadata": {},
   "source": [
    "### Duplicações"
   ]
  },
  {
   "cell_type": "code",
   "execution_count": 14,
   "metadata": {},
   "outputs": [
    {
     "data": {
      "text/plain": [
       "0"
      ]
     },
     "execution_count": 14,
     "metadata": {},
     "output_type": "execute_result"
    }
   ],
   "source": [
    "df_emprestimos.duplicated().sum()"
   ]
  },
  {
   "cell_type": "markdown",
   "metadata": {},
   "source": [
    "### Tipos de Variáveis"
   ]
  },
  {
   "cell_type": "code",
   "execution_count": 15,
   "metadata": {},
   "outputs": [
    {
     "name": "stdout",
     "output_type": "stream",
     "text": [
      "<class 'pandas.core.frame.DataFrame'>\n",
      "RangeIndex: 1000 entries, 0 to 999\n",
      "Data columns (total 9 columns):\n",
      " #   Column                Non-Null Count  Dtype \n",
      "---  ------                --------------  ----- \n",
      " 0   Idade                 1000 non-null   int64 \n",
      " 1   Genero                1000 non-null   object\n",
      " 2   Escolaridade          1000 non-null   object\n",
      " 3   Tipo_Moradia          1000 non-null   object\n",
      " 4   Saldo_Investimento    1000 non-null   object\n",
      " 5   Saldo_Conta_Corrente  1000 non-null   object\n",
      " 6   Valor_Emprestimo      1000 non-null   int64 \n",
      " 7   Duracao_Emprestimo    1000 non-null   int64 \n",
      " 8   Default               1000 non-null   int64 \n",
      "dtypes: int64(4), object(5)\n",
      "memory usage: 70.4+ KB\n"
     ]
    }
   ],
   "source": [
    "df_emprestimos.info()"
   ]
  },
  {
   "cell_type": "markdown",
   "metadata": {
    "tags": []
   },
   "source": [
    "## Análise Exploratória dos Dados"
   ]
  },
  {
   "cell_type": "markdown",
   "metadata": {},
   "source": [
    "### Dispersão por Classe"
   ]
  },
  {
   "cell_type": "code",
   "execution_count": 16,
   "metadata": {},
   "outputs": [
    {
     "name": "stderr",
     "output_type": "stream",
     "text": [
      "C:\\Users\\Thiago\\anaconda3\\Lib\\site-packages\\seaborn\\axisgrid.py:118: UserWarning: The figure layout has changed to tight\n",
      "  self._figure.tight_layout(*args, **kwargs)\n"
     ]
    },
    {
     "data": {
      "image/png": "[encoded data removed]",
      "text/plain": [
       "<Figure size 812.111x750 with 12 Axes>"
      ]
     },
     "metadata": {},
     "output_type": "display_data"
    }
   ],
   "source": [
    "import matplotlib\n",
    "matplotlib.use('module://ipykernel.pylab.backend_inline')\n",
    "\n",
    "sns.pairplot(df_emprestimos, hue='Default');"
   ]
  },
  {
   "cell_type": "markdown",
   "metadata": {},
   "source": [
    "### Relatórios Pandas Profiling e SweetViz"
   ]
  },
  {
   "cell_type": "code",
   "execution_count": 17,
   "metadata": {},
   "outputs": [
    {
     "name": "stderr",
     "output_type": "stream",
     "text": [
      "C:\\Users\\Thiago\\AppData\\Roaming\\Python\\Python311\\site-packages\\ydata_profiling\\profile_report.py:354: UserWarning: Try running command: 'pip install --upgrade Pillow' to avoid ValueError\n",
      "  warnings.warn(\n"
     ]
    },
    {
     "data": {
      "application/vnd.jupyter.widget-view+json": {
       "model_id": "ce3241f8de6d458f96b89ace37fdeed3",
       "version_major": 2,
       "version_minor": 0
      },
      "text/plain": [
       "Summarize dataset:   0%|          | 0/5 [00:00<?, ?it/s]"
      ]
     },
     "metadata": {},
     "output_type": "display_data"
    },
    {
     "data": {
      "application/vnd.jupyter.widget-view+json": {
       "model_id": "586dfad1b6474972acbbdad1b862ec92",
       "version_major": 2,
       "version_minor": 0
      },
      "text/plain": [
       "Generate report structure:   0%|          | 0/1 [00:00<?, ?it/s]"
      ]
     },
     "metadata": {},
     "output_type": "display_data"
    },
    {
     "data": {
      "application/vnd.jupyter.widget-view+json": {
       "model_id": "d968dfa43684458c82a0184e64743833",
       "version_major": 2,
       "version_minor": 0
      },
      "text/plain": [
       "Render HTML:   0%|          | 0/1 [00:00<?, ?it/s]"
      ]
     },
     "metadata": {},
     "output_type": "display_data"
    },
    {
     "data": {
      "application/vnd.jupyter.widget-view+json": {
       "model_id": "e57cebe4c39d4cffb1e4ba058f3dc6d9",
       "version_major": 2,
       "version_minor": 0
      },
      "text/plain": [
       "Export report to file:   0%|          | 0/1 [00:00<?, ?it/s]"
      ]
     },
     "metadata": {},
     "output_type": "display_data"
    },
    {
     "data": {
      "application/vnd.jupyter.widget-view+json": {
       "model_id": "5c6e8ff7346a4469a0cd98d7397c0c66",
       "version_major": 2,
       "version_minor": 0
      },
      "text/plain": [
       "                                             |                                             | [  0%]   00:00 ->…"
      ]
     },
     "metadata": {},
     "output_type": "display_data"
    },
    {
     "name": "stdout",
     "output_type": "stream",
     "text": [
      "Report base_aed_sv.html was generated! NOTEBOOK/COLAB USERS: the web browser MAY not pop up, regardless, the report IS saved in your notebook/colab files.\n"
     ]
    }
   ],
   "source": [
    "perfil_pp, perfil_sv = preditiva.gera_relatorios_aed(df=df_emprestimos,\n",
    "                                                     target_feat='Default')\n",
    "sns.reset_defaults()"
   ]
  },
  {
   "cell_type": "markdown",
   "metadata": {},
   "source": [
    "## Desenvolvimento dos Modelos"
   ]
  },
  {
   "cell_type": "markdown",
   "metadata": {},
   "source": [
    "### Definição do *Target* e das *Features*"
   ]
  },
  {
   "cell_type": "code",
   "execution_count": 18,
   "metadata": {},
   "outputs": [
    {
     "data": {
      "text/html": [
       "<div>\n",
       "<style scoped>\n",
       "    .dataframe tbody tr th:only-of-type {\n",
       "        vertical-align: middle;\n",
       "    }\n",
       "\n",
       "    .dataframe tbody tr th {\n",
       "        vertical-align: top;\n",
       "    }\n",
       "\n",
       "    .dataframe thead th {\n",
       "        text-align: right;\n",
       "    }\n",
       "</style>\n",
       "<table border=\"1\" class=\"dataframe\">\n",
       "  <thead>\n",
       "    <tr style=\"text-align: right;\">\n",
       "      <th></th>\n",
       "      <th>Idade</th>\n",
       "      <th>Genero</th>\n",
       "      <th>Escolaridade</th>\n",
       "      <th>Tipo_Moradia</th>\n",
       "      <th>Saldo_Investimento</th>\n",
       "      <th>Saldo_Conta_Corrente</th>\n",
       "      <th>Valor_Emprestimo</th>\n",
       "      <th>Duracao_Emprestimo</th>\n",
       "      <th>Default</th>\n",
       "    </tr>\n",
       "  </thead>\n",
       "  <tbody>\n",
       "    <tr>\n",
       "      <th>0</th>\n",
       "      <td>67</td>\n",
       "      <td>M</td>\n",
       "      <td>Graduacao</td>\n",
       "      <td>Propria</td>\n",
       "      <td>Sem investimento</td>\n",
       "      <td>Pouco</td>\n",
       "      <td>1169</td>\n",
       "      <td>6</td>\n",
       "      <td>0</td>\n",
       "    </tr>\n",
       "    <tr>\n",
       "      <th>1</th>\n",
       "      <td>22</td>\n",
       "      <td>H</td>\n",
       "      <td>Graduacao</td>\n",
       "      <td>Propria</td>\n",
       "      <td>Pouco</td>\n",
       "      <td>Moderado</td>\n",
       "      <td>5951</td>\n",
       "      <td>48</td>\n",
       "      <td>1</td>\n",
       "    </tr>\n",
       "    <tr>\n",
       "      <th>2</th>\n",
       "      <td>49</td>\n",
       "      <td>M</td>\n",
       "      <td>Pos Graduacao</td>\n",
       "      <td>Propria</td>\n",
       "      <td>Pouco</td>\n",
       "      <td>Sem conta</td>\n",
       "      <td>2096</td>\n",
       "      <td>12</td>\n",
       "      <td>0</td>\n",
       "    </tr>\n",
       "    <tr>\n",
       "      <th>3</th>\n",
       "      <td>45</td>\n",
       "      <td>M</td>\n",
       "      <td>Graduacao</td>\n",
       "      <td>De favor</td>\n",
       "      <td>Pouco</td>\n",
       "      <td>Pouco</td>\n",
       "      <td>7882</td>\n",
       "      <td>42</td>\n",
       "      <td>0</td>\n",
       "    </tr>\n",
       "    <tr>\n",
       "      <th>4</th>\n",
       "      <td>53</td>\n",
       "      <td>M</td>\n",
       "      <td>Graduacao</td>\n",
       "      <td>De favor</td>\n",
       "      <td>Pouco</td>\n",
       "      <td>Pouco</td>\n",
       "      <td>4870</td>\n",
       "      <td>24</td>\n",
       "      <td>1</td>\n",
       "    </tr>\n",
       "  </tbody>\n",
       "</table>\n",
       "</div>"
      ],
      "text/plain": [
       "   Idade Genero   Escolaridade Tipo_Moradia Saldo_Investimento  \\\n",
       "0     67      M      Graduacao      Propria   Sem investimento   \n",
       "1     22      H      Graduacao      Propria              Pouco   \n",
       "2     49      M  Pos Graduacao      Propria              Pouco   \n",
       "3     45      M      Graduacao     De favor              Pouco   \n",
       "4     53      M      Graduacao     De favor              Pouco   \n",
       "\n",
       "  Saldo_Conta_Corrente  Valor_Emprestimo  Duracao_Emprestimo  Default  \n",
       "0                Pouco              1169                   6        0  \n",
       "1             Moderado              5951                  48        1  \n",
       "2            Sem conta              2096                  12        0  \n",
       "3                Pouco              7882                  42        0  \n",
       "4                Pouco              4870                  24        1  "
      ]
     },
     "execution_count": 18,
     "metadata": {},
     "output_type": "execute_result"
    }
   ],
   "source": [
    "df_emprestimos.head()"
   ]
  },
  {
   "cell_type": "code",
   "execution_count": 20,
   "metadata": {},
   "outputs": [],
   "source": [
    "# Target (variável resposta)\n",
    "y_var = 'Default'\n",
    "y = df_emprestimos[y_var]\n",
    "\n",
    "# Features (variáveis explicativas)\n",
    "x_var = ['Idade','Genero','Escolaridade','Tipo_Moradia',\n",
    "         'Saldo_Investimento','Saldo_Conta_Corrente',\n",
    "         'Valor_Emprestimo','Duracao_Emprestimo']\n",
    "x = pd.get_dummies(df_emprestimos[x_var], drop_first=True)"
   ]
  },
  {
   "cell_type": "code",
   "execution_count": 21,
   "metadata": {},
   "outputs": [
    {
     "data": {
      "text/plain": [
       "0    0\n",
       "1    1\n",
       "2    0\n",
       "3    0\n",
       "4    1\n",
       "Name: Default, dtype: int64"
      ]
     },
     "execution_count": 21,
     "metadata": {},
     "output_type": "execute_result"
    }
   ],
   "source": [
    "y.head()"
   ]
  },
  {
   "cell_type": "code",
   "execution_count": 22,
   "metadata": {},
   "outputs": [
    {
     "data": {
      "text/html": [
       "<div>\n",
       "<style scoped>\n",
       "    .dataframe tbody tr th:only-of-type {\n",
       "        vertical-align: middle;\n",
       "    }\n",
       "\n",
       "    .dataframe tbody tr th {\n",
       "        vertical-align: top;\n",
       "    }\n",
       "\n",
       "    .dataframe thead th {\n",
       "        text-align: right;\n",
       "    }\n",
       "</style>\n",
       "<table border=\"1\" class=\"dataframe\">\n",
       "  <thead>\n",
       "    <tr style=\"text-align: right;\">\n",
       "      <th></th>\n",
       "      <th>Idade</th>\n",
       "      <th>Valor_Emprestimo</th>\n",
       "      <th>Duracao_Emprestimo</th>\n",
       "      <th>Genero_M</th>\n",
       "      <th>Escolaridade_Graduacao</th>\n",
       "      <th>Escolaridade_Pos Graduacao</th>\n",
       "      <th>Tipo_Moradia_De favor</th>\n",
       "      <th>Tipo_Moradia_Propria</th>\n",
       "      <th>Saldo_Investimento_Moderado</th>\n",
       "      <th>Saldo_Investimento_Pouco</th>\n",
       "      <th>Saldo_Investimento_Sem investimento</th>\n",
       "      <th>Saldo_Conta_Corrente_Moderado</th>\n",
       "      <th>Saldo_Conta_Corrente_Pouco</th>\n",
       "      <th>Saldo_Conta_Corrente_Sem conta</th>\n",
       "    </tr>\n",
       "  </thead>\n",
       "  <tbody>\n",
       "    <tr>\n",
       "      <th>0</th>\n",
       "      <td>67</td>\n",
       "      <td>1169</td>\n",
       "      <td>6</td>\n",
       "      <td>True</td>\n",
       "      <td>True</td>\n",
       "      <td>False</td>\n",
       "      <td>False</td>\n",
       "      <td>True</td>\n",
       "      <td>False</td>\n",
       "      <td>False</td>\n",
       "      <td>True</td>\n",
       "      <td>False</td>\n",
       "      <td>True</td>\n",
       "      <td>False</td>\n",
       "    </tr>\n",
       "    <tr>\n",
       "      <th>1</th>\n",
       "      <td>22</td>\n",
       "      <td>5951</td>\n",
       "      <td>48</td>\n",
       "      <td>False</td>\n",
       "      <td>True</td>\n",
       "      <td>False</td>\n",
       "      <td>False</td>\n",
       "      <td>True</td>\n",
       "      <td>False</td>\n",
       "      <td>True</td>\n",
       "      <td>False</td>\n",
       "      <td>True</td>\n",
       "      <td>False</td>\n",
       "      <td>False</td>\n",
       "    </tr>\n",
       "    <tr>\n",
       "      <th>2</th>\n",
       "      <td>49</td>\n",
       "      <td>2096</td>\n",
       "      <td>12</td>\n",
       "      <td>True</td>\n",
       "      <td>False</td>\n",
       "      <td>True</td>\n",
       "      <td>False</td>\n",
       "      <td>True</td>\n",
       "      <td>False</td>\n",
       "      <td>True</td>\n",
       "      <td>False</td>\n",
       "      <td>False</td>\n",
       "      <td>False</td>\n",
       "      <td>True</td>\n",
       "    </tr>\n",
       "    <tr>\n",
       "      <th>3</th>\n",
       "      <td>45</td>\n",
       "      <td>7882</td>\n",
       "      <td>42</td>\n",
       "      <td>True</td>\n",
       "      <td>True</td>\n",
       "      <td>False</td>\n",
       "      <td>True</td>\n",
       "      <td>False</td>\n",
       "      <td>False</td>\n",
       "      <td>True</td>\n",
       "      <td>False</td>\n",
       "      <td>False</td>\n",
       "      <td>True</td>\n",
       "      <td>False</td>\n",
       "    </tr>\n",
       "    <tr>\n",
       "      <th>4</th>\n",
       "      <td>53</td>\n",
       "      <td>4870</td>\n",
       "      <td>24</td>\n",
       "      <td>True</td>\n",
       "      <td>True</td>\n",
       "      <td>False</td>\n",
       "      <td>True</td>\n",
       "      <td>False</td>\n",
       "      <td>False</td>\n",
       "      <td>True</td>\n",
       "      <td>False</td>\n",
       "      <td>False</td>\n",
       "      <td>True</td>\n",
       "      <td>False</td>\n",
       "    </tr>\n",
       "  </tbody>\n",
       "</table>\n",
       "</div>"
      ],
      "text/plain": [
       "   Idade  Valor_Emprestimo  Duracao_Emprestimo  Genero_M  \\\n",
       "0     67              1169                   6      True   \n",
       "1     22              5951                  48     False   \n",
       "2     49              2096                  12      True   \n",
       "3     45              7882                  42      True   \n",
       "4     53              4870                  24      True   \n",
       "\n",
       "   Escolaridade_Graduacao  Escolaridade_Pos Graduacao  Tipo_Moradia_De favor  \\\n",
       "0                    True                       False                  False   \n",
       "1                    True                       False                  False   \n",
       "2                   False                        True                  False   \n",
       "3                    True                       False                   True   \n",
       "4                    True                       False                   True   \n",
       "\n",
       "   Tipo_Moradia_Propria  Saldo_Investimento_Moderado  \\\n",
       "0                  True                        False   \n",
       "1                  True                        False   \n",
       "2                  True                        False   \n",
       "3                 False                        False   \n",
       "4                 False                        False   \n",
       "\n",
       "   Saldo_Investimento_Pouco  Saldo_Investimento_Sem investimento  \\\n",
       "0                     False                                 True   \n",
       "1                      True                                False   \n",
       "2                      True                                False   \n",
       "3                      True                                False   \n",
       "4                      True                                False   \n",
       "\n",
       "   Saldo_Conta_Corrente_Moderado  Saldo_Conta_Corrente_Pouco  \\\n",
       "0                          False                        True   \n",
       "1                           True                       False   \n",
       "2                          False                       False   \n",
       "3                          False                        True   \n",
       "4                          False                        True   \n",
       "\n",
       "   Saldo_Conta_Corrente_Sem conta  \n",
       "0                           False  \n",
       "1                           False  \n",
       "2                            True  \n",
       "3                           False  \n",
       "4                           False  "
      ]
     },
     "execution_count": 22,
     "metadata": {},
     "output_type": "execute_result"
    }
   ],
   "source": [
    "x.head()"
   ]
  },
  {
   "cell_type": "markdown",
   "metadata": {},
   "source": [
    "### Divisão das bases em Treino e Teste"
   ]
  },
  {
   "cell_type": "code",
   "execution_count": 23,
   "metadata": {},
   "outputs": [],
   "source": [
    "# Divisão em treino e teste\n",
    "x_train, x_test, y_train, y_test = train_test_split(x, y, \n",
    "                                                    test_size=0.30,\n",
    "                                                    random_state=42)"
   ]
  },
  {
   "cell_type": "code",
   "execution_count": 24,
   "metadata": {},
   "outputs": [
    {
     "data": {
      "text/plain": [
       "541    0\n",
       "440    0\n",
       "482    0\n",
       "422    0\n",
       "778    0\n",
       "Name: Default, dtype: int64"
      ]
     },
     "execution_count": 24,
     "metadata": {},
     "output_type": "execute_result"
    }
   ],
   "source": [
    "y_train.head()"
   ]
  },
  {
   "cell_type": "code",
   "execution_count": 25,
   "metadata": {},
   "outputs": [
    {
     "data": {
      "text/html": [
       "<div>\n",
       "<style scoped>\n",
       "    .dataframe tbody tr th:only-of-type {\n",
       "        vertical-align: middle;\n",
       "    }\n",
       "\n",
       "    .dataframe tbody tr th {\n",
       "        vertical-align: top;\n",
       "    }\n",
       "\n",
       "    .dataframe thead th {\n",
       "        text-align: right;\n",
       "    }\n",
       "</style>\n",
       "<table border=\"1\" class=\"dataframe\">\n",
       "  <thead>\n",
       "    <tr style=\"text-align: right;\">\n",
       "      <th></th>\n",
       "      <th>Idade</th>\n",
       "      <th>Valor_Emprestimo</th>\n",
       "      <th>Duracao_Emprestimo</th>\n",
       "      <th>Genero_M</th>\n",
       "      <th>Escolaridade_Graduacao</th>\n",
       "      <th>Escolaridade_Pos Graduacao</th>\n",
       "      <th>Tipo_Moradia_De favor</th>\n",
       "      <th>Tipo_Moradia_Propria</th>\n",
       "      <th>Saldo_Investimento_Moderado</th>\n",
       "      <th>Saldo_Investimento_Pouco</th>\n",
       "      <th>Saldo_Investimento_Sem investimento</th>\n",
       "      <th>Saldo_Conta_Corrente_Moderado</th>\n",
       "      <th>Saldo_Conta_Corrente_Pouco</th>\n",
       "      <th>Saldo_Conta_Corrente_Sem conta</th>\n",
       "    </tr>\n",
       "  </thead>\n",
       "  <tbody>\n",
       "    <tr>\n",
       "      <th>541</th>\n",
       "      <td>60</td>\n",
       "      <td>2032</td>\n",
       "      <td>24</td>\n",
       "      <td>True</td>\n",
       "      <td>True</td>\n",
       "      <td>False</td>\n",
       "      <td>True</td>\n",
       "      <td>False</td>\n",
       "      <td>False</td>\n",
       "      <td>True</td>\n",
       "      <td>False</td>\n",
       "      <td>False</td>\n",
       "      <td>False</td>\n",
       "      <td>True</td>\n",
       "    </tr>\n",
       "    <tr>\n",
       "      <th>440</th>\n",
       "      <td>39</td>\n",
       "      <td>1884</td>\n",
       "      <td>12</td>\n",
       "      <td>True</td>\n",
       "      <td>False</td>\n",
       "      <td>False</td>\n",
       "      <td>False</td>\n",
       "      <td>True</td>\n",
       "      <td>False</td>\n",
       "      <td>True</td>\n",
       "      <td>False</td>\n",
       "      <td>False</td>\n",
       "      <td>False</td>\n",
       "      <td>True</td>\n",
       "    </tr>\n",
       "    <tr>\n",
       "      <th>482</th>\n",
       "      <td>57</td>\n",
       "      <td>3622</td>\n",
       "      <td>30</td>\n",
       "      <td>False</td>\n",
       "      <td>True</td>\n",
       "      <td>False</td>\n",
       "      <td>False</td>\n",
       "      <td>False</td>\n",
       "      <td>False</td>\n",
       "      <td>False</td>\n",
       "      <td>False</td>\n",
       "      <td>False</td>\n",
       "      <td>True</td>\n",
       "      <td>False</td>\n",
       "    </tr>\n",
       "    <tr>\n",
       "      <th>422</th>\n",
       "      <td>47</td>\n",
       "      <td>958</td>\n",
       "      <td>12</td>\n",
       "      <td>True</td>\n",
       "      <td>False</td>\n",
       "      <td>True</td>\n",
       "      <td>False</td>\n",
       "      <td>True</td>\n",
       "      <td>False</td>\n",
       "      <td>True</td>\n",
       "      <td>False</td>\n",
       "      <td>True</td>\n",
       "      <td>False</td>\n",
       "      <td>False</td>\n",
       "    </tr>\n",
       "    <tr>\n",
       "      <th>778</th>\n",
       "      <td>38</td>\n",
       "      <td>5711</td>\n",
       "      <td>36</td>\n",
       "      <td>True</td>\n",
       "      <td>False</td>\n",
       "      <td>False</td>\n",
       "      <td>False</td>\n",
       "      <td>True</td>\n",
       "      <td>False</td>\n",
       "      <td>False</td>\n",
       "      <td>False</td>\n",
       "      <td>False</td>\n",
       "      <td>False</td>\n",
       "      <td>True</td>\n",
       "    </tr>\n",
       "  </tbody>\n",
       "</table>\n",
       "</div>"
      ],
      "text/plain": [
       "     Idade  Valor_Emprestimo  Duracao_Emprestimo  Genero_M  \\\n",
       "541     60              2032                  24      True   \n",
       "440     39              1884                  12      True   \n",
       "482     57              3622                  30     False   \n",
       "422     47               958                  12      True   \n",
       "778     38              5711                  36      True   \n",
       "\n",
       "     Escolaridade_Graduacao  Escolaridade_Pos Graduacao  \\\n",
       "541                    True                       False   \n",
       "440                   False                       False   \n",
       "482                    True                       False   \n",
       "422                   False                        True   \n",
       "778                   False                       False   \n",
       "\n",
       "     Tipo_Moradia_De favor  Tipo_Moradia_Propria  Saldo_Investimento_Moderado  \\\n",
       "541                   True                 False                        False   \n",
       "440                  False                  True                        False   \n",
       "482                  False                 False                        False   \n",
       "422                  False                  True                        False   \n",
       "778                  False                  True                        False   \n",
       "\n",
       "     Saldo_Investimento_Pouco  Saldo_Investimento_Sem investimento  \\\n",
       "541                      True                                False   \n",
       "440                      True                                False   \n",
       "482                     False                                False   \n",
       "422                      True                                False   \n",
       "778                     False                                False   \n",
       "\n",
       "     Saldo_Conta_Corrente_Moderado  Saldo_Conta_Corrente_Pouco  \\\n",
       "541                          False                       False   \n",
       "440                          False                       False   \n",
       "482                          False                        True   \n",
       "422                           True                       False   \n",
       "778                          False                       False   \n",
       "\n",
       "     Saldo_Conta_Corrente_Sem conta  \n",
       "541                            True  \n",
       "440                            True  \n",
       "482                           False  \n",
       "422                           False  \n",
       "778                            True  "
      ]
     },
     "execution_count": 25,
     "metadata": {},
     "output_type": "execute_result"
    }
   ],
   "source": [
    "x_train.head()"
   ]
  },
  {
   "cell_type": "code",
   "execution_count": 26,
   "metadata": {},
   "outputs": [
    {
     "data": {
      "text/plain": [
       "(700, 14)"
      ]
     },
     "execution_count": 26,
     "metadata": {},
     "output_type": "execute_result"
    }
   ],
   "source": [
    "x_train.shape"
   ]
  },
  {
   "cell_type": "code",
   "execution_count": 27,
   "metadata": {},
   "outputs": [
    {
     "data": {
      "text/plain": [
       "(300, 14)"
      ]
     },
     "execution_count": 27,
     "metadata": {},
     "output_type": "execute_result"
    }
   ],
   "source": [
    "x_test.shape"
   ]
  },
  {
   "cell_type": "markdown",
   "metadata": {},
   "source": [
    "### Treine / Ajuste um Modelo e calcule as métricas de desempenho"
   ]
  },
  {
   "cell_type": "code",
   "execution_count": 28,
   "metadata": {},
   "outputs": [
    {
     "data": {
      "text/html": [
       "<div>\n",
       "<style scoped>\n",
       "    .dataframe tbody tr th:only-of-type {\n",
       "        vertical-align: middle;\n",
       "    }\n",
       "\n",
       "    .dataframe tbody tr th {\n",
       "        vertical-align: top;\n",
       "    }\n",
       "\n",
       "    .dataframe thead th {\n",
       "        text-align: right;\n",
       "    }\n",
       "</style>\n",
       "<table border=\"1\" class=\"dataframe\">\n",
       "  <thead>\n",
       "    <tr style=\"text-align: right;\">\n",
       "      <th></th>\n",
       "      <th>Treino</th>\n",
       "      <th>Teste</th>\n",
       "      <th>Variação</th>\n",
       "    </tr>\n",
       "  </thead>\n",
       "  <tbody>\n",
       "    <tr>\n",
       "      <th>Acurácia</th>\n",
       "      <td>0.754286</td>\n",
       "      <td>0.740000</td>\n",
       "      <td>-0.02</td>\n",
       "    </tr>\n",
       "    <tr>\n",
       "      <th>AUROC</th>\n",
       "      <td>0.764050</td>\n",
       "      <td>0.766970</td>\n",
       "      <td>0.00</td>\n",
       "    </tr>\n",
       "    <tr>\n",
       "      <th>KS</th>\n",
       "      <td>0.421550</td>\n",
       "      <td>0.440507</td>\n",
       "      <td>0.04</td>\n",
       "    </tr>\n",
       "    <tr>\n",
       "      <th>Precision</th>\n",
       "      <td>0.643411</td>\n",
       "      <td>0.627451</td>\n",
       "      <td>-0.02</td>\n",
       "    </tr>\n",
       "    <tr>\n",
       "      <th>Recall</th>\n",
       "      <td>0.397129</td>\n",
       "      <td>0.351648</td>\n",
       "      <td>-0.11</td>\n",
       "    </tr>\n",
       "    <tr>\n",
       "      <th>F1</th>\n",
       "      <td>0.491124</td>\n",
       "      <td>0.450704</td>\n",
       "      <td>-0.08</td>\n",
       "    </tr>\n",
       "  </tbody>\n",
       "</table>\n",
       "</div>"
      ],
      "text/plain": [
       "             Treino     Teste  Variação\n",
       "Acurácia   0.754286  0.740000     -0.02\n",
       "AUROC      0.764050  0.766970      0.00\n",
       "KS         0.421550  0.440507      0.04\n",
       "Precision  0.643411  0.627451     -0.02\n",
       "Recall     0.397129  0.351648     -0.11\n",
       "F1         0.491124  0.450704     -0.08"
      ]
     },
     "execution_count": 28,
     "metadata": {},
     "output_type": "execute_result"
    }
   ],
   "source": [
    "# Ajuste do Modelo\n",
    "modelo_rl = LogisticRegression()\n",
    "modelo_rl.fit(x_train, y_train)\n",
    "\n",
    "# Métricas de Desempenho\n",
    "preditiva.calcula_desempenho(modelo_rl, x_train, y_train, x_test, y_test)"
   ]
  },
  {
   "cell_type": "markdown",
   "metadata": {},
   "source": [
    "### Importação do Score de um modelo externo"
   ]
  },
  {
   "cell_type": "code",
   "execution_count": 30,
   "metadata": {},
   "outputs": [
    {
     "data": {
      "text/html": [
       "<div>\n",
       "<style scoped>\n",
       "    .dataframe tbody tr th:only-of-type {\n",
       "        vertical-align: middle;\n",
       "    }\n",
       "\n",
       "    .dataframe tbody tr th {\n",
       "        vertical-align: top;\n",
       "    }\n",
       "\n",
       "    .dataframe thead th {\n",
       "        text-align: right;\n",
       "    }\n",
       "</style>\n",
       "<table border=\"1\" class=\"dataframe\">\n",
       "  <thead>\n",
       "    <tr style=\"text-align: right;\">\n",
       "      <th></th>\n",
       "      <th>row ID</th>\n",
       "      <th>Prob_Bureaux</th>\n",
       "    </tr>\n",
       "  </thead>\n",
       "  <tbody>\n",
       "    <tr>\n",
       "      <th>0</th>\n",
       "      <td>Row0</td>\n",
       "      <td>0.359671</td>\n",
       "    </tr>\n",
       "    <tr>\n",
       "      <th>1</th>\n",
       "      <td>Row1</td>\n",
       "      <td>0.277591</td>\n",
       "    </tr>\n",
       "    <tr>\n",
       "      <th>2</th>\n",
       "      <td>Row2</td>\n",
       "      <td>0.343538</td>\n",
       "    </tr>\n",
       "    <tr>\n",
       "      <th>3</th>\n",
       "      <td>Row3</td>\n",
       "      <td>0.348337</td>\n",
       "    </tr>\n",
       "    <tr>\n",
       "      <th>4</th>\n",
       "      <td>Row4</td>\n",
       "      <td>0.464622</td>\n",
       "    </tr>\n",
       "    <tr>\n",
       "      <th>...</th>\n",
       "      <td>...</td>\n",
       "      <td>...</td>\n",
       "    </tr>\n",
       "    <tr>\n",
       "      <th>995</th>\n",
       "      <td>Row995</td>\n",
       "      <td>0.151015</td>\n",
       "    </tr>\n",
       "    <tr>\n",
       "      <th>996</th>\n",
       "      <td>Row996</td>\n",
       "      <td>0.362011</td>\n",
       "    </tr>\n",
       "    <tr>\n",
       "      <th>997</th>\n",
       "      <td>Row997</td>\n",
       "      <td>0.423744</td>\n",
       "    </tr>\n",
       "    <tr>\n",
       "      <th>998</th>\n",
       "      <td>Row998</td>\n",
       "      <td>0.561119</td>\n",
       "    </tr>\n",
       "    <tr>\n",
       "      <th>999</th>\n",
       "      <td>Row999</td>\n",
       "      <td>0.307077</td>\n",
       "    </tr>\n",
       "  </tbody>\n",
       "</table>\n",
       "<p>1000 rows × 2 columns</p>\n",
       "</div>"
      ],
      "text/plain": [
       "     row ID  Prob_Bureaux\n",
       "0      Row0      0.359671\n",
       "1      Row1      0.277591\n",
       "2      Row2      0.343538\n",
       "3      Row3      0.348337\n",
       "4      Row4      0.464622\n",
       "..      ...           ...\n",
       "995  Row995      0.151015\n",
       "996  Row996      0.362011\n",
       "997  Row997      0.423744\n",
       "998  Row998      0.561119\n",
       "999  Row999      0.307077\n",
       "\n",
       "[1000 rows x 2 columns]"
      ]
     },
     "execution_count": 30,
     "metadata": {},
     "output_type": "execute_result"
    }
   ],
   "source": [
    "bureaux = pd.read_excel('base_bureaux.xlsx')\n",
    "bureaux"
   ]
  },
  {
   "cell_type": "markdown",
   "metadata": {},
   "source": [
    "### Geração dos Scores dos Modelos 1 e 2 na base original"
   ]
  },
  {
   "cell_type": "code",
   "execution_count": 31,
   "metadata": {},
   "outputs": [],
   "source": [
    "df_emprestimos['Prob_Interno'] = modelo_rl.predict_proba(pd.get_dummies(df_emprestimos[x_var], drop_first=True))[:,1]\n",
    "df_emprestimos['Prob_Bureaux'] = bureaux['Prob_Bureaux']"
   ]
  },
  {
   "cell_type": "code",
   "execution_count": 32,
   "metadata": {},
   "outputs": [
    {
     "data": {
      "text/html": [
       "<div>\n",
       "<style scoped>\n",
       "    .dataframe tbody tr th:only-of-type {\n",
       "        vertical-align: middle;\n",
       "    }\n",
       "\n",
       "    .dataframe tbody tr th {\n",
       "        vertical-align: top;\n",
       "    }\n",
       "\n",
       "    .dataframe thead th {\n",
       "        text-align: right;\n",
       "    }\n",
       "</style>\n",
       "<table border=\"1\" class=\"dataframe\">\n",
       "  <thead>\n",
       "    <tr style=\"text-align: right;\">\n",
       "      <th></th>\n",
       "      <th>Idade</th>\n",
       "      <th>Genero</th>\n",
       "      <th>Escolaridade</th>\n",
       "      <th>Tipo_Moradia</th>\n",
       "      <th>Saldo_Investimento</th>\n",
       "      <th>Saldo_Conta_Corrente</th>\n",
       "      <th>Valor_Emprestimo</th>\n",
       "      <th>Duracao_Emprestimo</th>\n",
       "      <th>Default</th>\n",
       "      <th>Prob_Interno</th>\n",
       "      <th>Prob_Bureaux</th>\n",
       "    </tr>\n",
       "  </thead>\n",
       "  <tbody>\n",
       "    <tr>\n",
       "      <th>0</th>\n",
       "      <td>67</td>\n",
       "      <td>M</td>\n",
       "      <td>Graduacao</td>\n",
       "      <td>Propria</td>\n",
       "      <td>Sem investimento</td>\n",
       "      <td>Pouco</td>\n",
       "      <td>1169</td>\n",
       "      <td>6</td>\n",
       "      <td>0</td>\n",
       "      <td>0.071071</td>\n",
       "      <td>0.359671</td>\n",
       "    </tr>\n",
       "    <tr>\n",
       "      <th>1</th>\n",
       "      <td>22</td>\n",
       "      <td>H</td>\n",
       "      <td>Graduacao</td>\n",
       "      <td>Propria</td>\n",
       "      <td>Pouco</td>\n",
       "      <td>Moderado</td>\n",
       "      <td>5951</td>\n",
       "      <td>48</td>\n",
       "      <td>1</td>\n",
       "      <td>0.702031</td>\n",
       "      <td>0.277591</td>\n",
       "    </tr>\n",
       "    <tr>\n",
       "      <th>2</th>\n",
       "      <td>49</td>\n",
       "      <td>M</td>\n",
       "      <td>Pos Graduacao</td>\n",
       "      <td>Propria</td>\n",
       "      <td>Pouco</td>\n",
       "      <td>Sem conta</td>\n",
       "      <td>2096</td>\n",
       "      <td>12</td>\n",
       "      <td>0</td>\n",
       "      <td>0.069606</td>\n",
       "      <td>0.343538</td>\n",
       "    </tr>\n",
       "    <tr>\n",
       "      <th>3</th>\n",
       "      <td>45</td>\n",
       "      <td>M</td>\n",
       "      <td>Graduacao</td>\n",
       "      <td>De favor</td>\n",
       "      <td>Pouco</td>\n",
       "      <td>Pouco</td>\n",
       "      <td>7882</td>\n",
       "      <td>42</td>\n",
       "      <td>0</td>\n",
       "      <td>0.697846</td>\n",
       "      <td>0.348337</td>\n",
       "    </tr>\n",
       "    <tr>\n",
       "      <th>4</th>\n",
       "      <td>53</td>\n",
       "      <td>M</td>\n",
       "      <td>Graduacao</td>\n",
       "      <td>De favor</td>\n",
       "      <td>Pouco</td>\n",
       "      <td>Pouco</td>\n",
       "      <td>4870</td>\n",
       "      <td>24</td>\n",
       "      <td>1</td>\n",
       "      <td>0.483243</td>\n",
       "      <td>0.464622</td>\n",
       "    </tr>\n",
       "    <tr>\n",
       "      <th>...</th>\n",
       "      <td>...</td>\n",
       "      <td>...</td>\n",
       "      <td>...</td>\n",
       "      <td>...</td>\n",
       "      <td>...</td>\n",
       "      <td>...</td>\n",
       "      <td>...</td>\n",
       "      <td>...</td>\n",
       "      <td>...</td>\n",
       "      <td>...</td>\n",
       "      <td>...</td>\n",
       "    </tr>\n",
       "    <tr>\n",
       "      <th>995</th>\n",
       "      <td>31</td>\n",
       "      <td>H</td>\n",
       "      <td>Pos Graduacao</td>\n",
       "      <td>Propria</td>\n",
       "      <td>Pouco</td>\n",
       "      <td>Sem conta</td>\n",
       "      <td>1736</td>\n",
       "      <td>12</td>\n",
       "      <td>0</td>\n",
       "      <td>0.150890</td>\n",
       "      <td>0.151015</td>\n",
       "    </tr>\n",
       "    <tr>\n",
       "      <th>996</th>\n",
       "      <td>40</td>\n",
       "      <td>M</td>\n",
       "      <td>Ensino Medio</td>\n",
       "      <td>Propria</td>\n",
       "      <td>Pouco</td>\n",
       "      <td>Pouco</td>\n",
       "      <td>3857</td>\n",
       "      <td>30</td>\n",
       "      <td>0</td>\n",
       "      <td>0.469593</td>\n",
       "      <td>0.362011</td>\n",
       "    </tr>\n",
       "    <tr>\n",
       "      <th>997</th>\n",
       "      <td>38</td>\n",
       "      <td>M</td>\n",
       "      <td>Graduacao</td>\n",
       "      <td>Propria</td>\n",
       "      <td>Pouco</td>\n",
       "      <td>Sem conta</td>\n",
       "      <td>804</td>\n",
       "      <td>12</td>\n",
       "      <td>0</td>\n",
       "      <td>0.078251</td>\n",
       "      <td>0.423744</td>\n",
       "    </tr>\n",
       "    <tr>\n",
       "      <th>998</th>\n",
       "      <td>23</td>\n",
       "      <td>M</td>\n",
       "      <td>Graduacao</td>\n",
       "      <td>De favor</td>\n",
       "      <td>Pouco</td>\n",
       "      <td>Pouco</td>\n",
       "      <td>1845</td>\n",
       "      <td>45</td>\n",
       "      <td>1</td>\n",
       "      <td>0.796490</td>\n",
       "      <td>0.561119</td>\n",
       "    </tr>\n",
       "    <tr>\n",
       "      <th>999</th>\n",
       "      <td>27</td>\n",
       "      <td>M</td>\n",
       "      <td>Graduacao</td>\n",
       "      <td>Propria</td>\n",
       "      <td>Moderado</td>\n",
       "      <td>Moderado</td>\n",
       "      <td>4576</td>\n",
       "      <td>45</td>\n",
       "      <td>0</td>\n",
       "      <td>0.469479</td>\n",
       "      <td>0.307077</td>\n",
       "    </tr>\n",
       "  </tbody>\n",
       "</table>\n",
       "<p>1000 rows × 11 columns</p>\n",
       "</div>"
      ],
      "text/plain": [
       "     Idade Genero   Escolaridade Tipo_Moradia Saldo_Investimento  \\\n",
       "0       67      M      Graduacao      Propria   Sem investimento   \n",
       "1       22      H      Graduacao      Propria              Pouco   \n",
       "2       49      M  Pos Graduacao      Propria              Pouco   \n",
       "3       45      M      Graduacao     De favor              Pouco   \n",
       "4       53      M      Graduacao     De favor              Pouco   \n",
       "..     ...    ...            ...          ...                ...   \n",
       "995     31      H  Pos Graduacao      Propria              Pouco   \n",
       "996     40      M   Ensino Medio      Propria              Pouco   \n",
       "997     38      M      Graduacao      Propria              Pouco   \n",
       "998     23      M      Graduacao     De favor              Pouco   \n",
       "999     27      M      Graduacao      Propria           Moderado   \n",
       "\n",
       "    Saldo_Conta_Corrente  Valor_Emprestimo  Duracao_Emprestimo  Default  \\\n",
       "0                  Pouco              1169                   6        0   \n",
       "1               Moderado              5951                  48        1   \n",
       "2              Sem conta              2096                  12        0   \n",
       "3                  Pouco              7882                  42        0   \n",
       "4                  Pouco              4870                  24        1   \n",
       "..                   ...               ...                 ...      ...   \n",
       "995            Sem conta              1736                  12        0   \n",
       "996                Pouco              3857                  30        0   \n",
       "997            Sem conta               804                  12        0   \n",
       "998                Pouco              1845                  45        1   \n",
       "999             Moderado              4576                  45        0   \n",
       "\n",
       "     Prob_Interno  Prob_Bureaux  \n",
       "0        0.071071      0.359671  \n",
       "1        0.702031      0.277591  \n",
       "2        0.069606      0.343538  \n",
       "3        0.697846      0.348337  \n",
       "4        0.483243      0.464622  \n",
       "..            ...           ...  \n",
       "995      0.150890      0.151015  \n",
       "996      0.469593      0.362011  \n",
       "997      0.078251      0.423744  \n",
       "998      0.796490      0.561119  \n",
       "999      0.469479      0.307077  \n",
       "\n",
       "[1000 rows x 11 columns]"
      ]
     },
     "execution_count": 32,
     "metadata": {},
     "output_type": "execute_result"
    }
   ],
   "source": [
    "df_emprestimos"
   ]
  },
  {
   "cell_type": "markdown",
   "metadata": {},
   "source": [
    "### Separação da nova base em Treino e Teste"
   ]
  },
  {
   "cell_type": "code",
   "execution_count": 33,
   "metadata": {},
   "outputs": [],
   "source": [
    "# Separação das variáveis explicativas e a variável target\n",
    "y_var = 'Default'\n",
    "y = df_emprestimos[y_var]\n",
    "\n",
    "x_var_blend = ['Prob_Interno','Prob_Bureaux']\n",
    "x_blend = pd.get_dummies(df_emprestimos[x_var_blend], drop_first=True)\n",
    "\n",
    "# Divisão em treino e teste\n",
    "x_blend_train, x_blend_test, y_blend_train, y_blend_test = train_test_split(x_blend, y, \n",
    "                                                                            test_size=0.30,\n",
    "                                                                            random_state=42)"
   ]
  },
  {
   "cell_type": "code",
   "execution_count": 34,
   "metadata": {},
   "outputs": [
    {
     "data": {
      "text/plain": [
       "541    0\n",
       "440    0\n",
       "482    0\n",
       "422    0\n",
       "778    0\n",
       "Name: Default, dtype: int64"
      ]
     },
     "execution_count": 34,
     "metadata": {},
     "output_type": "execute_result"
    }
   ],
   "source": [
    "y_blend_train.head()"
   ]
  },
  {
   "cell_type": "code",
   "execution_count": 35,
   "metadata": {},
   "outputs": [
    {
     "data": {
      "text/html": [
       "<div>\n",
       "<style scoped>\n",
       "    .dataframe tbody tr th:only-of-type {\n",
       "        vertical-align: middle;\n",
       "    }\n",
       "\n",
       "    .dataframe tbody tr th {\n",
       "        vertical-align: top;\n",
       "    }\n",
       "\n",
       "    .dataframe thead th {\n",
       "        text-align: right;\n",
       "    }\n",
       "</style>\n",
       "<table border=\"1\" class=\"dataframe\">\n",
       "  <thead>\n",
       "    <tr style=\"text-align: right;\">\n",
       "      <th></th>\n",
       "      <th>Prob_Interno</th>\n",
       "      <th>Prob_Bureaux</th>\n",
       "    </tr>\n",
       "  </thead>\n",
       "  <tbody>\n",
       "    <tr>\n",
       "      <th>541</th>\n",
       "      <td>0.118915</td>\n",
       "      <td>0.267779</td>\n",
       "    </tr>\n",
       "    <tr>\n",
       "      <th>440</th>\n",
       "      <td>0.092477</td>\n",
       "      <td>0.277792</td>\n",
       "    </tr>\n",
       "    <tr>\n",
       "      <th>482</th>\n",
       "      <td>0.398425</td>\n",
       "      <td>0.180088</td>\n",
       "    </tr>\n",
       "    <tr>\n",
       "      <th>422</th>\n",
       "      <td>0.208885</td>\n",
       "      <td>0.381842</td>\n",
       "    </tr>\n",
       "    <tr>\n",
       "      <th>778</th>\n",
       "      <td>0.145770</td>\n",
       "      <td>0.284455</td>\n",
       "    </tr>\n",
       "  </tbody>\n",
       "</table>\n",
       "</div>"
      ],
      "text/plain": [
       "     Prob_Interno  Prob_Bureaux\n",
       "541      0.118915      0.267779\n",
       "440      0.092477      0.277792\n",
       "482      0.398425      0.180088\n",
       "422      0.208885      0.381842\n",
       "778      0.145770      0.284455"
      ]
     },
     "execution_count": 35,
     "metadata": {},
     "output_type": "execute_result"
    }
   ],
   "source": [
    "x_blend_train.head()"
   ]
  },
  {
   "cell_type": "markdown",
   "metadata": {},
   "source": [
    "### Blending dos Modelos usando Árvore de Decisão"
   ]
  },
  {
   "cell_type": "code",
   "execution_count": 39,
   "metadata": {},
   "outputs": [
    {
     "data": {
      "text/html": [
       "<div>\n",
       "<style scoped>\n",
       "    .dataframe tbody tr th:only-of-type {\n",
       "        vertical-align: middle;\n",
       "    }\n",
       "\n",
       "    .dataframe tbody tr th {\n",
       "        vertical-align: top;\n",
       "    }\n",
       "\n",
       "    .dataframe thead th {\n",
       "        text-align: right;\n",
       "    }\n",
       "</style>\n",
       "<table border=\"1\" class=\"dataframe\">\n",
       "  <thead>\n",
       "    <tr style=\"text-align: right;\">\n",
       "      <th></th>\n",
       "      <th>Treino</th>\n",
       "      <th>Teste</th>\n",
       "      <th>Variação</th>\n",
       "    </tr>\n",
       "  </thead>\n",
       "  <tbody>\n",
       "    <tr>\n",
       "      <th>Acurácia</th>\n",
       "      <td>0.850000</td>\n",
       "      <td>0.836667</td>\n",
       "      <td>-0.02</td>\n",
       "    </tr>\n",
       "    <tr>\n",
       "      <th>AUROC</th>\n",
       "      <td>0.916054</td>\n",
       "      <td>0.884510</td>\n",
       "      <td>-0.03</td>\n",
       "    </tr>\n",
       "    <tr>\n",
       "      <th>KS</th>\n",
       "      <td>0.677038</td>\n",
       "      <td>0.618066</td>\n",
       "      <td>-0.09</td>\n",
       "    </tr>\n",
       "    <tr>\n",
       "      <th>Precision</th>\n",
       "      <td>0.765306</td>\n",
       "      <td>0.750000</td>\n",
       "      <td>-0.02</td>\n",
       "    </tr>\n",
       "    <tr>\n",
       "      <th>Recall</th>\n",
       "      <td>0.717703</td>\n",
       "      <td>0.692308</td>\n",
       "      <td>-0.04</td>\n",
       "    </tr>\n",
       "    <tr>\n",
       "      <th>F1</th>\n",
       "      <td>0.740741</td>\n",
       "      <td>0.720000</td>\n",
       "      <td>-0.03</td>\n",
       "    </tr>\n",
       "  </tbody>\n",
       "</table>\n",
       "</div>"
      ],
      "text/plain": [
       "             Treino     Teste  Variação\n",
       "Acurácia   0.850000  0.836667     -0.02\n",
       "AUROC      0.916054  0.884510     -0.03\n",
       "KS         0.677038  0.618066     -0.09\n",
       "Precision  0.765306  0.750000     -0.02\n",
       "Recall     0.717703  0.692308     -0.04\n",
       "F1         0.740741  0.720000     -0.03"
      ]
     },
     "execution_count": 39,
     "metadata": {},
     "output_type": "execute_result"
    }
   ],
   "source": [
    "# Treinamento do Modelo\n",
    "modelo_blend = DecisionTreeClassifier(max_depth=4)\n",
    "modelo_blend.fit(x_blend_train, y_blend_train)\n",
    "\n",
    "# Métricas de Desempenho\n",
    "preditiva.calcula_desempenho(modelo_blend, x_blend_train, y_blend_train, x_blend_test, y_blend_test)"
   ]
  },
  {
   "cell_type": "markdown",
   "metadata": {},
   "source": [
    "### Comparação com Modelo Interno"
   ]
  },
  {
   "cell_type": "code",
   "execution_count": 40,
   "metadata": {},
   "outputs": [
    {
     "data": {
      "text/html": [
       "<div>\n",
       "<style scoped>\n",
       "    .dataframe tbody tr th:only-of-type {\n",
       "        vertical-align: middle;\n",
       "    }\n",
       "\n",
       "    .dataframe tbody tr th {\n",
       "        vertical-align: top;\n",
       "    }\n",
       "\n",
       "    .dataframe thead th {\n",
       "        text-align: right;\n",
       "    }\n",
       "</style>\n",
       "<table border=\"1\" class=\"dataframe\">\n",
       "  <thead>\n",
       "    <tr style=\"text-align: right;\">\n",
       "      <th></th>\n",
       "      <th>Treino</th>\n",
       "      <th>Teste</th>\n",
       "      <th>Variação</th>\n",
       "    </tr>\n",
       "  </thead>\n",
       "  <tbody>\n",
       "    <tr>\n",
       "      <th>Acurácia</th>\n",
       "      <td>0.754286</td>\n",
       "      <td>0.740000</td>\n",
       "      <td>-0.02</td>\n",
       "    </tr>\n",
       "    <tr>\n",
       "      <th>AUROC</th>\n",
       "      <td>0.764050</td>\n",
       "      <td>0.766970</td>\n",
       "      <td>0.00</td>\n",
       "    </tr>\n",
       "    <tr>\n",
       "      <th>KS</th>\n",
       "      <td>0.421550</td>\n",
       "      <td>0.440507</td>\n",
       "      <td>0.04</td>\n",
       "    </tr>\n",
       "    <tr>\n",
       "      <th>Precision</th>\n",
       "      <td>0.643411</td>\n",
       "      <td>0.627451</td>\n",
       "      <td>-0.02</td>\n",
       "    </tr>\n",
       "    <tr>\n",
       "      <th>Recall</th>\n",
       "      <td>0.397129</td>\n",
       "      <td>0.351648</td>\n",
       "      <td>-0.11</td>\n",
       "    </tr>\n",
       "    <tr>\n",
       "      <th>F1</th>\n",
       "      <td>0.491124</td>\n",
       "      <td>0.450704</td>\n",
       "      <td>-0.08</td>\n",
       "    </tr>\n",
       "  </tbody>\n",
       "</table>\n",
       "</div>"
      ],
      "text/plain": [
       "             Treino     Teste  Variação\n",
       "Acurácia   0.754286  0.740000     -0.02\n",
       "AUROC      0.764050  0.766970      0.00\n",
       "KS         0.421550  0.440507      0.04\n",
       "Precision  0.643411  0.627451     -0.02\n",
       "Recall     0.397129  0.351648     -0.11\n",
       "F1         0.491124  0.450704     -0.08"
      ]
     },
     "execution_count": 40,
     "metadata": {},
     "output_type": "execute_result"
    }
   ],
   "source": [
    "# Modelo Interno\n",
    "preditiva.calcula_desempenho(modelo_rl, x_train, y_train, x_test, y_test)"
   ]
  },
  {
   "cell_type": "markdown",
   "metadata": {},
   "source": [
    "### Impacto trazido pelo Modelo do Bureaux"
   ]
  },
  {
   "cell_type": "code",
   "execution_count": 41,
   "metadata": {},
   "outputs": [],
   "source": [
    "from sklearn.metrics import confusion_matrix, ConfusionMatrixDisplay"
   ]
  },
  {
   "cell_type": "code",
   "execution_count": 42,
   "metadata": {},
   "outputs": [],
   "source": [
    "y_pred_rl = modelo_rl.predict(x)\n",
    "y_pred_blend = modelo_blend.predict(x_blend)"
   ]
  },
  {
   "cell_type": "code",
   "execution_count": 43,
   "metadata": {},
   "outputs": [
    {
     "data": {
      "image/png": "[encoded data removed]",
      "text/plain": [
       "<Figure size 640x480 with 2 Axes>"
      ]
     },
     "metadata": {},
     "output_type": "display_data"
    }
   ],
   "source": [
    "# Matriz de Confusão do Modelo Interno\n",
    "%matplotlib inline\n",
    "cm_interno = confusion_matrix(y, y_pred_rl)\n",
    "ConfusionMatrixDisplay(cm_interno).plot();"
   ]
  },
  {
   "cell_type": "code",
   "execution_count": 44,
   "metadata": {},
   "outputs": [
    {
     "data": {
      "image/png": "[encoded data removed]",
      "text/plain": [
       "<Figure size 640x480 with 2 Axes>"
      ]
     },
     "metadata": {},
     "output_type": "display_data"
    }
   ],
   "source": [
    "# Matriz de Confusão do Modelo Blend\n",
    "%matplotlib inline\n",
    "cm_blend = confusion_matrix(y, y_pred_blend)\n",
    "ConfusionMatrixDisplay(cm_blend).plot();"
   ]
  },
  {
   "cell_type": "code",
   "execution_count": null,
   "metadata": {},
   "outputs": [],
   "source": []
  }
 ],
 "metadata": {
  "kernelspec": {
   "display_name": "Python 3 (ipykernel)",
   "language": "python",
   "name": "python3"
  },
  "language_info": {
   "codemirror_mode": {
    "name": "ipython",
    "version": 3
   },
   "file_extension": ".py",
   "mimetype": "text/x-python",
   "name": "python",
   "nbconvert_exporter": "python",
   "pygments_lexer": "ipython3",
   "version": "3.11.5"
  },
  "toc-autonumbering": true
 },
 "nbformat": 4,
 "nbformat_minor": 4
}
