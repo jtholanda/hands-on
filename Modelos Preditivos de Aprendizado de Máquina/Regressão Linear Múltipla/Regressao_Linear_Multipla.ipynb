{
 "cells": [
  {
   "cell_type": "markdown",
   "metadata": {},
   "source": [
    "<img src=\"https://s3-sa-east-1.amazonaws.com/preditiva.ai/diversos/preditiva_assinatura.jpg\">\n",
    "\n",
    "# Regressão Linear Múltipla"
   ]
  },
  {
   "cell_type": "markdown",
   "metadata": {},
   "source": [
    "## Hands-On: Diagnóstico do Modelo - Análise dos Resíduos"
   ]
  },
  {
   "cell_type": "code",
   "execution_count": 1,
   "metadata": {},
   "outputs": [],
   "source": [
    "# Pacotes de manipulação de dados\n",
    "import numpy as np\n",
    "import pandas as pd\n",
    "\n",
    "# Pacotes gráficos\n",
    "import matplotlib.pyplot as plt\n",
    "import seaborn as sns\n",
    "\n",
    "# Pacotes de modelagem\n",
    "import statsmodels as sms\n",
    "import statsmodels.api as sm"
   ]
  },
  {
   "cell_type": "markdown",
   "metadata": {},
   "source": [
    "### Importação da base de dados"
   ]
  },
  {
   "cell_type": "code",
   "execution_count": 2,
   "metadata": {},
   "outputs": [
    {
     "data": {
      "text/plain": [
       "(46, 5)"
      ]
     },
     "execution_count": 2,
     "metadata": {},
     "output_type": "execute_result"
    }
   ],
   "source": [
    "df = pd.read_csv('base_funcionarios_v4.csv', \n",
    "                 sep=',', \n",
    "                 index_col=0)\n",
    "df.shape"
   ]
  },
  {
   "cell_type": "code",
   "execution_count": 3,
   "metadata": {},
   "outputs": [
    {
     "data": {
      "text/html": [
       "<div>\n",
       "<style scoped>\n",
       "    .dataframe tbody tr th:only-of-type {\n",
       "        vertical-align: middle;\n",
       "    }\n",
       "\n",
       "    .dataframe tbody tr th {\n",
       "        vertical-align: top;\n",
       "    }\n",
       "\n",
       "    .dataframe thead th {\n",
       "        text-align: right;\n",
       "    }\n",
       "</style>\n",
       "<table border=\"1\" class=\"dataframe\">\n",
       "  <thead>\n",
       "    <tr style=\"text-align: right;\">\n",
       "      <th></th>\n",
       "      <th>Salario</th>\n",
       "      <th>Anos_Educ_Superior</th>\n",
       "      <th>Tempo_Empresa</th>\n",
       "      <th>Tempo_de_Carreira</th>\n",
       "      <th>Possui_Skill_Dados</th>\n",
       "    </tr>\n",
       "  </thead>\n",
       "  <tbody>\n",
       "    <tr>\n",
       "      <th>0</th>\n",
       "      <td>5517.4</td>\n",
       "      <td>3</td>\n",
       "      <td>3</td>\n",
       "      <td>9.777079</td>\n",
       "      <td>Não</td>\n",
       "    </tr>\n",
       "    <tr>\n",
       "      <th>1</th>\n",
       "      <td>6399.9</td>\n",
       "      <td>4</td>\n",
       "      <td>6</td>\n",
       "      <td>3.765998</td>\n",
       "      <td>Não</td>\n",
       "    </tr>\n",
       "    <tr>\n",
       "      <th>2</th>\n",
       "      <td>6206.7</td>\n",
       "      <td>6</td>\n",
       "      <td>3</td>\n",
       "      <td>7.926264</td>\n",
       "      <td>Não</td>\n",
       "    </tr>\n",
       "    <tr>\n",
       "      <th>3</th>\n",
       "      <td>6060.6</td>\n",
       "      <td>4</td>\n",
       "      <td>5</td>\n",
       "      <td>2.233497</td>\n",
       "      <td>Não</td>\n",
       "    </tr>\n",
       "    <tr>\n",
       "      <th>4</th>\n",
       "      <td>6122.7</td>\n",
       "      <td>2</td>\n",
       "      <td>9</td>\n",
       "      <td>26.821842</td>\n",
       "      <td>Não</td>\n",
       "    </tr>\n",
       "  </tbody>\n",
       "</table>\n",
       "</div>"
      ],
      "text/plain": [
       "   Salario  Anos_Educ_Superior  Tempo_Empresa  Tempo_de_Carreira  \\\n",
       "0   5517.4                   3              3           9.777079   \n",
       "1   6399.9                   4              6           3.765998   \n",
       "2   6206.7                   6              3           7.926264   \n",
       "3   6060.6                   4              5           2.233497   \n",
       "4   6122.7                   2              9          26.821842   \n",
       "\n",
       "  Possui_Skill_Dados  \n",
       "0                Não  \n",
       "1                Não  \n",
       "2                Não  \n",
       "3                Não  \n",
       "4                Não  "
      ]
     },
     "execution_count": 3,
     "metadata": {},
     "output_type": "execute_result"
    }
   ],
   "source": [
    "df.head()"
   ]
  },
  {
   "cell_type": "markdown",
   "metadata": {},
   "source": [
    "### Análise Exploratória dos Dados"
   ]
  },
  {
   "cell_type": "code",
   "execution_count": 4,
   "metadata": {},
   "outputs": [
    {
     "data": {
      "image/png": "[encoded data removed]",
      "text/plain": [
       "<Figure size 1080x360 with 3 Axes>"
      ]
     },
     "metadata": {
      "needs_background": "light"
     },
     "output_type": "display_data"
    }
   ],
   "source": [
    "fig, ((ax1,ax2,ax3)) = plt.subplots(1,3,sharey=True,figsize=(15,5))\n",
    "ax1.scatter(df['Anos_Educ_Superior'],df['Salario']);\n",
    "ax2.scatter(df['Tempo_Empresa'],df['Salario']);\n",
    "ax3.scatter(df['Tempo_de_Carreira'],df['Salario']);"
   ]
  },
  {
   "cell_type": "code",
   "execution_count": 5,
   "metadata": {},
   "outputs": [
    {
     "data": {
      "image/png": "[encoded data removed]",
      "text/plain": [
       "<Figure size 432x288 with 1 Axes>"
      ]
     },
     "metadata": {
      "needs_background": "light"
     },
     "output_type": "display_data"
    }
   ],
   "source": [
    "sns.boxplot(x=df['Possui_Skill_Dados'], y=df['Salario']);"
   ]
  },
  {
   "cell_type": "markdown",
   "metadata": {},
   "source": [
    "Como a distribuição entre quem tem e não tem skill de dados é tão diferente, é praticamente certo que essa variável contribuirá para que o modelo explique ainda mais a variabilidade da variável salário, ou seja, aumente o R². **Na prática**: as estimativas realizadas pelo modelo serão ainda melhores."
   ]
  },
  {
   "cell_type": "code",
   "execution_count": 6,
   "metadata": {},
   "outputs": [
    {
     "data": {
      "image/png": "[encoded data removed]",
      "text/plain": [
       "<Figure size 576x432 with 2 Axes>"
      ]
     },
     "metadata": {
      "needs_background": "light"
     },
     "output_type": "display_data"
    }
   ],
   "source": [
    "fig = plt.figure(figsize=(8,6))\n",
    "sns.heatmap(df.corr(),\n",
    "            cmap='RdBu_r',\n",
    "            vmin=-1, vmax=1,\n",
    "            annot=True);"
   ]
  },
  {
   "cell_type": "markdown",
   "metadata": {},
   "source": [
    "### Preparação dos Dados"
   ]
  },
  {
   "cell_type": "markdown",
   "metadata": {},
   "source": [
    "#### Criando variáveis Dummy"
   ]
  },
  {
   "cell_type": "code",
   "execution_count": 7,
   "metadata": {},
   "outputs": [
    {
     "data": {
      "text/html": [
       "<div>\n",
       "<style scoped>\n",
       "    .dataframe tbody tr th:only-of-type {\n",
       "        vertical-align: middle;\n",
       "    }\n",
       "\n",
       "    .dataframe tbody tr th {\n",
       "        vertical-align: top;\n",
       "    }\n",
       "\n",
       "    .dataframe thead th {\n",
       "        text-align: right;\n",
       "    }\n",
       "</style>\n",
       "<table border=\"1\" class=\"dataframe\">\n",
       "  <thead>\n",
       "    <tr style=\"text-align: right;\">\n",
       "      <th></th>\n",
       "      <th>Salario</th>\n",
       "      <th>Anos_Educ_Superior</th>\n",
       "      <th>Tempo_Empresa</th>\n",
       "      <th>Tempo_de_Carreira</th>\n",
       "      <th>Possui_Skill_Dados</th>\n",
       "    </tr>\n",
       "  </thead>\n",
       "  <tbody>\n",
       "    <tr>\n",
       "      <th>39</th>\n",
       "      <td>8082.2</td>\n",
       "      <td>4</td>\n",
       "      <td>20</td>\n",
       "      <td>43.252417</td>\n",
       "      <td>Sim</td>\n",
       "    </tr>\n",
       "    <tr>\n",
       "      <th>25</th>\n",
       "      <td>4645.9</td>\n",
       "      <td>0</td>\n",
       "      <td>5</td>\n",
       "      <td>12.640970</td>\n",
       "      <td>Não</td>\n",
       "    </tr>\n",
       "    <tr>\n",
       "      <th>26</th>\n",
       "      <td>5736.9</td>\n",
       "      <td>7</td>\n",
       "      <td>0</td>\n",
       "      <td>8.222066</td>\n",
       "      <td>Não</td>\n",
       "    </tr>\n",
       "    <tr>\n",
       "      <th>44</th>\n",
       "      <td>6235.4</td>\n",
       "      <td>4</td>\n",
       "      <td>6</td>\n",
       "      <td>6.578993</td>\n",
       "      <td>Não</td>\n",
       "    </tr>\n",
       "    <tr>\n",
       "      <th>35</th>\n",
       "      <td>9857.1</td>\n",
       "      <td>8</td>\n",
       "      <td>12</td>\n",
       "      <td>23.448417</td>\n",
       "      <td>Sim</td>\n",
       "    </tr>\n",
       "  </tbody>\n",
       "</table>\n",
       "</div>"
      ],
      "text/plain": [
       "    Salario  Anos_Educ_Superior  Tempo_Empresa  Tempo_de_Carreira  \\\n",
       "39   8082.2                   4             20          43.252417   \n",
       "25   4645.9                   0              5          12.640970   \n",
       "26   5736.9                   7              0           8.222066   \n",
       "44   6235.4                   4              6           6.578993   \n",
       "35   9857.1                   8             12          23.448417   \n",
       "\n",
       "   Possui_Skill_Dados  \n",
       "39                Sim  \n",
       "25                Não  \n",
       "26                Não  \n",
       "44                Não  \n",
       "35                Sim  "
      ]
     },
     "execution_count": 7,
     "metadata": {},
     "output_type": "execute_result"
    }
   ],
   "source": [
    "df.sample(5, random_state=42)"
   ]
  },
  {
   "cell_type": "code",
   "execution_count": 8,
   "metadata": {},
   "outputs": [
    {
     "data": {
      "text/html": [
       "<div>\n",
       "<style scoped>\n",
       "    .dataframe tbody tr th:only-of-type {\n",
       "        vertical-align: middle;\n",
       "    }\n",
       "\n",
       "    .dataframe tbody tr th {\n",
       "        vertical-align: top;\n",
       "    }\n",
       "\n",
       "    .dataframe thead th {\n",
       "        text-align: right;\n",
       "    }\n",
       "</style>\n",
       "<table border=\"1\" class=\"dataframe\">\n",
       "  <thead>\n",
       "    <tr style=\"text-align: right;\">\n",
       "      <th></th>\n",
       "      <th>Salario</th>\n",
       "      <th>Anos_Educ_Superior</th>\n",
       "      <th>Tempo_Empresa</th>\n",
       "      <th>Tempo_de_Carreira</th>\n",
       "      <th>Possui_Skill_Dados_Sim</th>\n",
       "    </tr>\n",
       "  </thead>\n",
       "  <tbody>\n",
       "    <tr>\n",
       "      <th>39</th>\n",
       "      <td>8082.2</td>\n",
       "      <td>4</td>\n",
       "      <td>20</td>\n",
       "      <td>43.252417</td>\n",
       "      <td>1</td>\n",
       "    </tr>\n",
       "    <tr>\n",
       "      <th>25</th>\n",
       "      <td>4645.9</td>\n",
       "      <td>0</td>\n",
       "      <td>5</td>\n",
       "      <td>12.640970</td>\n",
       "      <td>0</td>\n",
       "    </tr>\n",
       "    <tr>\n",
       "      <th>26</th>\n",
       "      <td>5736.9</td>\n",
       "      <td>7</td>\n",
       "      <td>0</td>\n",
       "      <td>8.222066</td>\n",
       "      <td>0</td>\n",
       "    </tr>\n",
       "    <tr>\n",
       "      <th>44</th>\n",
       "      <td>6235.4</td>\n",
       "      <td>4</td>\n",
       "      <td>6</td>\n",
       "      <td>6.578993</td>\n",
       "      <td>0</td>\n",
       "    </tr>\n",
       "    <tr>\n",
       "      <th>35</th>\n",
       "      <td>9857.1</td>\n",
       "      <td>8</td>\n",
       "      <td>12</td>\n",
       "      <td>23.448417</td>\n",
       "      <td>1</td>\n",
       "    </tr>\n",
       "  </tbody>\n",
       "</table>\n",
       "</div>"
      ],
      "text/plain": [
       "    Salario  Anos_Educ_Superior  Tempo_Empresa  Tempo_de_Carreira  \\\n",
       "39   8082.2                   4             20          43.252417   \n",
       "25   4645.9                   0              5          12.640970   \n",
       "26   5736.9                   7              0           8.222066   \n",
       "44   6235.4                   4              6           6.578993   \n",
       "35   9857.1                   8             12          23.448417   \n",
       "\n",
       "    Possui_Skill_Dados_Sim  \n",
       "39                       1  \n",
       "25                       0  \n",
       "26                       0  \n",
       "44                       0  \n",
       "35                       1  "
      ]
     },
     "execution_count": 8,
     "metadata": {},
     "output_type": "execute_result"
    }
   ],
   "source": [
    "# 1a Forma: Usando get_dummies()\n",
    "df2 = pd.get_dummies(df, drop_first=True)\n",
    "df2.sample(5, random_state=42)"
   ]
  },
  {
   "cell_type": "code",
   "execution_count": 9,
   "metadata": {},
   "outputs": [
    {
     "data": {
      "text/html": [
       "<div>\n",
       "<style scoped>\n",
       "    .dataframe tbody tr th:only-of-type {\n",
       "        vertical-align: middle;\n",
       "    }\n",
       "\n",
       "    .dataframe tbody tr th {\n",
       "        vertical-align: top;\n",
       "    }\n",
       "\n",
       "    .dataframe thead th {\n",
       "        text-align: right;\n",
       "    }\n",
       "</style>\n",
       "<table border=\"1\" class=\"dataframe\">\n",
       "  <thead>\n",
       "    <tr style=\"text-align: right;\">\n",
       "      <th></th>\n",
       "      <th>Salario</th>\n",
       "      <th>Anos_Educ_Superior</th>\n",
       "      <th>Tempo_Empresa</th>\n",
       "      <th>Tempo_de_Carreira</th>\n",
       "      <th>Possui_Skill_Dados</th>\n",
       "      <th>Possui_Skill_Dados_Sim</th>\n",
       "    </tr>\n",
       "  </thead>\n",
       "  <tbody>\n",
       "    <tr>\n",
       "      <th>39</th>\n",
       "      <td>8082.2</td>\n",
       "      <td>4</td>\n",
       "      <td>20</td>\n",
       "      <td>43.252417</td>\n",
       "      <td>Sim</td>\n",
       "      <td>1</td>\n",
       "    </tr>\n",
       "    <tr>\n",
       "      <th>25</th>\n",
       "      <td>4645.9</td>\n",
       "      <td>0</td>\n",
       "      <td>5</td>\n",
       "      <td>12.640970</td>\n",
       "      <td>Não</td>\n",
       "      <td>0</td>\n",
       "    </tr>\n",
       "    <tr>\n",
       "      <th>26</th>\n",
       "      <td>5736.9</td>\n",
       "      <td>7</td>\n",
       "      <td>0</td>\n",
       "      <td>8.222066</td>\n",
       "      <td>Não</td>\n",
       "      <td>0</td>\n",
       "    </tr>\n",
       "    <tr>\n",
       "      <th>44</th>\n",
       "      <td>6235.4</td>\n",
       "      <td>4</td>\n",
       "      <td>6</td>\n",
       "      <td>6.578993</td>\n",
       "      <td>Não</td>\n",
       "      <td>0</td>\n",
       "    </tr>\n",
       "    <tr>\n",
       "      <th>35</th>\n",
       "      <td>9857.1</td>\n",
       "      <td>8</td>\n",
       "      <td>12</td>\n",
       "      <td>23.448417</td>\n",
       "      <td>Sim</td>\n",
       "      <td>1</td>\n",
       "    </tr>\n",
       "  </tbody>\n",
       "</table>\n",
       "</div>"
      ],
      "text/plain": [
       "    Salario  Anos_Educ_Superior  Tempo_Empresa  Tempo_de_Carreira  \\\n",
       "39   8082.2                   4             20          43.252417   \n",
       "25   4645.9                   0              5          12.640970   \n",
       "26   5736.9                   7              0           8.222066   \n",
       "44   6235.4                   4              6           6.578993   \n",
       "35   9857.1                   8             12          23.448417   \n",
       "\n",
       "   Possui_Skill_Dados  Possui_Skill_Dados_Sim  \n",
       "39                Sim                       1  \n",
       "25                Não                       0  \n",
       "26                Não                       0  \n",
       "44                Não                       0  \n",
       "35                Sim                       1  "
      ]
     },
     "execution_count": 9,
     "metadata": {},
     "output_type": "execute_result"
    }
   ],
   "source": [
    "# 2a Forma: Usando np.where()\n",
    "df3 = df.copy() # Copia o dataframe\n",
    "df3['Possui_Skill_Dados_Sim'] = np.where(df['Possui_Skill_Dados'] == 'Sim', 1, 0) # Essa função é análoga à função SE() do Excel\n",
    "df3.sample(5, random_state=42)"
   ]
  },
  {
   "cell_type": "code",
   "execution_count": 10,
   "metadata": {},
   "outputs": [
    {
     "data": {
      "text/html": [
       "<div>\n",
       "<style scoped>\n",
       "    .dataframe tbody tr th:only-of-type {\n",
       "        vertical-align: middle;\n",
       "    }\n",
       "\n",
       "    .dataframe tbody tr th {\n",
       "        vertical-align: top;\n",
       "    }\n",
       "\n",
       "    .dataframe thead th {\n",
       "        text-align: right;\n",
       "    }\n",
       "</style>\n",
       "<table border=\"1\" class=\"dataframe\">\n",
       "  <thead>\n",
       "    <tr style=\"text-align: right;\">\n",
       "      <th></th>\n",
       "      <th>Salario</th>\n",
       "      <th>Anos_Educ_Superior</th>\n",
       "      <th>Tempo_Empresa</th>\n",
       "      <th>Tempo_de_Carreira</th>\n",
       "      <th>Possui_Skill_Dados</th>\n",
       "      <th>Possui_Skill_Dados_Sim</th>\n",
       "    </tr>\n",
       "  </thead>\n",
       "  <tbody>\n",
       "    <tr>\n",
       "      <th>39</th>\n",
       "      <td>8082.2</td>\n",
       "      <td>4</td>\n",
       "      <td>20</td>\n",
       "      <td>43.252417</td>\n",
       "      <td>Sim</td>\n",
       "      <td>1</td>\n",
       "    </tr>\n",
       "    <tr>\n",
       "      <th>25</th>\n",
       "      <td>4645.9</td>\n",
       "      <td>0</td>\n",
       "      <td>5</td>\n",
       "      <td>12.640970</td>\n",
       "      <td>Não</td>\n",
       "      <td>0</td>\n",
       "    </tr>\n",
       "    <tr>\n",
       "      <th>26</th>\n",
       "      <td>5736.9</td>\n",
       "      <td>7</td>\n",
       "      <td>0</td>\n",
       "      <td>8.222066</td>\n",
       "      <td>Não</td>\n",
       "      <td>0</td>\n",
       "    </tr>\n",
       "    <tr>\n",
       "      <th>44</th>\n",
       "      <td>6235.4</td>\n",
       "      <td>4</td>\n",
       "      <td>6</td>\n",
       "      <td>6.578993</td>\n",
       "      <td>Não</td>\n",
       "      <td>0</td>\n",
       "    </tr>\n",
       "    <tr>\n",
       "      <th>35</th>\n",
       "      <td>9857.1</td>\n",
       "      <td>8</td>\n",
       "      <td>12</td>\n",
       "      <td>23.448417</td>\n",
       "      <td>Sim</td>\n",
       "      <td>1</td>\n",
       "    </tr>\n",
       "  </tbody>\n",
       "</table>\n",
       "</div>"
      ],
      "text/plain": [
       "    Salario  Anos_Educ_Superior  Tempo_Empresa  Tempo_de_Carreira  \\\n",
       "39   8082.2                   4             20          43.252417   \n",
       "25   4645.9                   0              5          12.640970   \n",
       "26   5736.9                   7              0           8.222066   \n",
       "44   6235.4                   4              6           6.578993   \n",
       "35   9857.1                   8             12          23.448417   \n",
       "\n",
       "   Possui_Skill_Dados  Possui_Skill_Dados_Sim  \n",
       "39                Sim                       1  \n",
       "25                Não                       0  \n",
       "26                Não                       0  \n",
       "44                Não                       0  \n",
       "35                Sim                       1  "
      ]
     },
     "execution_count": 10,
     "metadata": {},
     "output_type": "execute_result"
    }
   ],
   "source": [
    "# 3a Forma: Usando map()\n",
    "# Criação do De/Para a ser usado com a função .map()\n",
    "de_para = {'Sim': 1, 'Não': 0} \n",
    "\n",
    "df4 = df.copy() # Copia o dataframe\n",
    "df4['Possui_Skill_Dados_Sim'] = df['Possui_Skill_Dados'].map(de_para)\n",
    "df4.sample(5, random_state=42)"
   ]
  },
  {
   "cell_type": "markdown",
   "metadata": {},
   "source": [
    "### Ajuste do Modelo de Regressão usando o Statsmodels (Pacote de Modelos Estatísticos)"
   ]
  },
  {
   "cell_type": "code",
   "execution_count": 11,
   "metadata": {},
   "outputs": [
    {
     "data": {
      "text/html": [
       "<div>\n",
       "<style scoped>\n",
       "    .dataframe tbody tr th:only-of-type {\n",
       "        vertical-align: middle;\n",
       "    }\n",
       "\n",
       "    .dataframe tbody tr th {\n",
       "        vertical-align: top;\n",
       "    }\n",
       "\n",
       "    .dataframe thead th {\n",
       "        text-align: right;\n",
       "    }\n",
       "</style>\n",
       "<table border=\"1\" class=\"dataframe\">\n",
       "  <thead>\n",
       "    <tr style=\"text-align: right;\">\n",
       "      <th></th>\n",
       "      <th>Salario</th>\n",
       "      <th>Anos_Educ_Superior</th>\n",
       "      <th>Tempo_Empresa</th>\n",
       "      <th>Tempo_de_Carreira</th>\n",
       "      <th>Possui_Skill_Dados_Sim</th>\n",
       "    </tr>\n",
       "  </thead>\n",
       "  <tbody>\n",
       "    <tr>\n",
       "      <th>0</th>\n",
       "      <td>5517.4</td>\n",
       "      <td>3</td>\n",
       "      <td>3</td>\n",
       "      <td>9.777079</td>\n",
       "      <td>0</td>\n",
       "    </tr>\n",
       "    <tr>\n",
       "      <th>1</th>\n",
       "      <td>6399.9</td>\n",
       "      <td>4</td>\n",
       "      <td>6</td>\n",
       "      <td>3.765998</td>\n",
       "      <td>0</td>\n",
       "    </tr>\n",
       "    <tr>\n",
       "      <th>2</th>\n",
       "      <td>6206.7</td>\n",
       "      <td>6</td>\n",
       "      <td>3</td>\n",
       "      <td>7.926264</td>\n",
       "      <td>0</td>\n",
       "    </tr>\n",
       "    <tr>\n",
       "      <th>3</th>\n",
       "      <td>6060.6</td>\n",
       "      <td>4</td>\n",
       "      <td>5</td>\n",
       "      <td>2.233497</td>\n",
       "      <td>0</td>\n",
       "    </tr>\n",
       "    <tr>\n",
       "      <th>4</th>\n",
       "      <td>6122.7</td>\n",
       "      <td>2</td>\n",
       "      <td>9</td>\n",
       "      <td>26.821842</td>\n",
       "      <td>0</td>\n",
       "    </tr>\n",
       "  </tbody>\n",
       "</table>\n",
       "</div>"
      ],
      "text/plain": [
       "   Salario  Anos_Educ_Superior  Tempo_Empresa  Tempo_de_Carreira  \\\n",
       "0   5517.4                   3              3           9.777079   \n",
       "1   6399.9                   4              6           3.765998   \n",
       "2   6206.7                   6              3           7.926264   \n",
       "3   6060.6                   4              5           2.233497   \n",
       "4   6122.7                   2              9          26.821842   \n",
       "\n",
       "   Possui_Skill_Dados_Sim  \n",
       "0                       0  \n",
       "1                       0  \n",
       "2                       0  \n",
       "3                       0  \n",
       "4                       0  "
      ]
     },
     "execution_count": 11,
     "metadata": {},
     "output_type": "execute_result"
    }
   ],
   "source": [
    "df2.head()"
   ]
  },
  {
   "cell_type": "code",
   "execution_count": 12,
   "metadata": {},
   "outputs": [],
   "source": [
    "# Variável resposta\n",
    "y = df2['Salario']\n",
    "\n",
    "# Variáveis explicativas\n",
    "df2['intercepto'] = 1 \n",
    "\n",
    "x = df2[['intercepto',\n",
    "         'Anos_Educ_Superior',\n",
    "         'Tempo_Empresa',\n",
    "         'Tempo_de_Carreira',\n",
    "         'Possui_Skill_Dados_Sim']]"
   ]
  },
  {
   "cell_type": "code",
   "execution_count": 13,
   "metadata": {},
   "outputs": [
    {
     "name": "stdout",
     "output_type": "stream",
     "text": [
      "                            OLS Regression Results                            \n",
      "==============================================================================\n",
      "Dep. Variable:                Salario   R-squared:                       0.866\n",
      "Model:                            OLS   Adj. R-squared:                  0.853\n",
      "Method:                 Least Squares   F-statistic:                     66.10\n",
      "Date:                Thu, 10 Feb 2022   Prob (F-statistic):           2.49e-17\n",
      "Time:                        09:53:41   Log-Likelihood:                -366.46\n",
      "No. Observations:                  46   AIC:                             742.9\n",
      "Df Residuals:                      41   BIC:                             752.1\n",
      "Df Model:                           4                                         \n",
      "Covariance Type:            nonrobust                                         \n",
      "==========================================================================================\n",
      "                             coef    std err          t      P>|t|      [0.025      0.975]\n",
      "------------------------------------------------------------------------------------------\n",
      "intercepto              4405.3062    235.322     18.720      0.000    3930.063    4880.549\n",
      "Anos_Educ_Superior       256.9131     51.716      4.968      0.000     152.471     361.355\n",
      "Tempo_Empresa            105.5732     43.975      2.401      0.021      16.765     194.382\n",
      "Tempo_de_Carreira        -20.0142     20.456     -0.978      0.334     -61.326      21.298\n",
      "Possui_Skill_Dados_Sim  1831.4010    305.750      5.990      0.000    1213.927    2448.875\n",
      "==============================================================================\n",
      "Omnibus:                        7.813   Durbin-Watson:                   1.769\n",
      "Prob(Omnibus):                  0.020   Jarque-Bera (JB):                7.910\n",
      "Skew:                          -0.627   Prob(JB):                       0.0192\n",
      "Kurtosis:                       4.599   Cond. No.                         86.7\n",
      "==============================================================================\n",
      "\n",
      "Warnings:\n",
      "[1] Standard Errors assume that the covariance matrix of the errors is correctly specified.\n"
     ]
    }
   ],
   "source": [
    "# Ajusta o modelo e retorna os resultados\n",
    "modelo = sm.OLS(y , x)\n",
    "resultado = modelo.fit()\n",
    "print(resultado.summary())"
   ]
  },
  {
   "cell_type": "markdown",
   "metadata": {},
   "source": [
    "Como identificamos um problema de multicolinearidade, e o coeficiente da variável \"Tempo_de_Carreira\" apresentou-se estatisticamente igual a zero, vamos excluí-la do modelo.\n",
    "\n",
    "As informações contidas na variável \"Tempo_de_Carreira\" já estão representadas na variável \"Tempo_Empresa\"."
   ]
  },
  {
   "cell_type": "code",
   "execution_count": 14,
   "metadata": {},
   "outputs": [],
   "source": [
    "# Variável resposta\n",
    "y = df2['Salario']\n",
    "\n",
    "# Variáveis explicativas\n",
    "df2['intercepto'] = 1 \n",
    "\n",
    "x = df2[['intercepto',\n",
    "         'Anos_Educ_Superior',\n",
    "         'Tempo_Empresa',\n",
    "         'Possui_Skill_Dados_Sim']]"
   ]
  },
  {
   "cell_type": "code",
   "execution_count": 15,
   "metadata": {},
   "outputs": [
    {
     "name": "stdout",
     "output_type": "stream",
     "text": [
      "                            OLS Regression Results                            \n",
      "==============================================================================\n",
      "Dep. Variable:                Salario   R-squared:                       0.863\n",
      "Model:                            OLS   Adj. R-squared:                  0.853\n",
      "Method:                 Least Squares   F-statistic:                     87.90\n",
      "Date:                Thu, 10 Feb 2022   Prob (F-statistic):           3.87e-18\n",
      "Time:                        09:53:41   Log-Likelihood:                -366.99\n",
      "No. Observations:                  46   AIC:                             742.0\n",
      "Df Residuals:                      42   BIC:                             749.3\n",
      "Df Model:                           3                                         \n",
      "Covariance Type:            nonrobust                                         \n",
      "==========================================================================================\n",
      "                             coef    std err          t      P>|t|      [0.025      0.975]\n",
      "------------------------------------------------------------------------------------------\n",
      "intercepto              4412.5391    235.086     18.770      0.000    3938.115    4886.963\n",
      "Anos_Educ_Superior       247.8857     50.860      4.874      0.000     145.246     350.526\n",
      "Tempo_Empresa             67.2629     20.004      3.362      0.002      26.893     107.633\n",
      "Possui_Skill_Dados_Sim  1861.7774    304.015      6.124      0.000    1248.251    2475.304\n",
      "==============================================================================\n",
      "Omnibus:                        7.711   Durbin-Watson:                   1.812\n",
      "Prob(Omnibus):                  0.021   Jarque-Bera (JB):                8.524\n",
      "Skew:                          -0.555   Prob(JB):                       0.0141\n",
      "Kurtosis:                       4.793   Cond. No.                         40.2\n",
      "==============================================================================\n",
      "\n",
      "Warnings:\n",
      "[1] Standard Errors assume that the covariance matrix of the errors is correctly specified.\n"
     ]
    }
   ],
   "source": [
    "# Ajusta o modelo e retorna os resultados\n",
    "modelo = sm.OLS(y , x)\n",
    "resultado = modelo.fit()\n",
    "print(resultado.summary())"
   ]
  },
  {
   "cell_type": "markdown",
   "metadata": {},
   "source": [
    "### Equação do modelo"
   ]
  },
  {
   "cell_type": "markdown",
   "metadata": {},
   "source": [
    "Salário = $\\beta_0$ + $\\beta_1$ x Anos Educação Superior + $\\beta_2$ x Tempo Empresa + $\\beta_3$ x Possui Skill Dados (Sim)"
   ]
  },
  {
   "cell_type": "markdown",
   "metadata": {},
   "source": [
    "### Diagnóstico do Modelo: Análise dos Resíduos"
   ]
  },
  {
   "cell_type": "code",
   "execution_count": 16,
   "metadata": {},
   "outputs": [],
   "source": [
    "def grafico_residuos(resultado):\n",
    "    resid_graf = sns.scatterplot(x=list(range(0,len(resultado.resid_pearson))),\n",
    "                                 y=resultado.resid_pearson.tolist())\n",
    "    \n",
    "    # Localizando valor mínimo dos resíduos\n",
    "    r_aux = resultado.resid_pearson.tolist()\n",
    "    r_aux.append(-3)\n",
    "    ymin = min(r_aux) * 1.1\n",
    "    \n",
    "    # Localizando valor máximo dos resíduos\n",
    "    r_aux = resultado.resid_pearson.tolist()\n",
    "    r_aux.append(+3)\n",
    "    ymax = max(r_aux) * 1.1\n",
    "    \n",
    "    resid_graf.set(ylim=(ymin, ymax))\n",
    "    \n",
    "    ax1 = resid_graf.axes\n",
    "    ax1.axhline( 0, color='black', ls='--')\n",
    "    ax1.axhline(-2, color='black', ls='--')\n",
    "    ax1.axhline(+2, color='black', ls='--')\n",
    "    plt.show()"
   ]
  },
  {
   "cell_type": "code",
   "execution_count": 17,
   "metadata": {},
   "outputs": [
    {
     "data": {
      "text/plain": [
       "2.3000000000000003"
      ]
     },
     "execution_count": 17,
     "metadata": {},
     "output_type": "execute_result"
    }
   ],
   "source": [
    "len(df.index)*0.05"
   ]
  },
  {
   "cell_type": "code",
   "execution_count": 18,
   "metadata": {},
   "outputs": [
    {
     "data": {
      "image/png": "[encoded data removed]",
      "text/plain": [
       "<Figure size 432x288 with 1 Axes>"
      ]
     },
     "metadata": {
      "needs_background": "light"
     },
     "output_type": "display_data"
    }
   ],
   "source": [
    "grafico_residuos(resultado)"
   ]
  },
  {
   "cell_type": "markdown",
   "metadata": {},
   "source": [
    "#### Normalidade dos Resíduos"
   ]
  },
  {
   "cell_type": "code",
   "execution_count": 19,
   "metadata": {},
   "outputs": [
    {
     "data": {
      "image/png": "[encoded data removed]",
      "text/plain": [
       "<Figure size 432x288 with 1 Axes>"
      ]
     },
     "metadata": {
      "needs_background": "light"
     },
     "output_type": "display_data"
    }
   ],
   "source": [
    "# Construção de histograma para avaliar a distribuição dos resíduos\n",
    "sns.distplot(resultado.resid_pearson);"
   ]
  },
  {
   "cell_type": "code",
   "execution_count": 20,
   "metadata": {},
   "outputs": [
    {
     "name": "stdout",
     "output_type": "stream",
     "text": [
      "Estatística=0.951, p-valor=0.054\n",
      "\n"
     ]
    }
   ],
   "source": [
    "# Realização de Teste de Hipóteses para avaliar Normalidade\n",
    "from scipy.stats import shapiro\n",
    "normalidade = shapiro(resultado.resid_pearson)\n",
    "print('Estatística=%.3f, p-valor=%.3f\\n' % (normalidade.statistic, normalidade.pvalue))"
   ]
  },
  {
   "cell_type": "markdown",
   "metadata": {},
   "source": [
    "#### Homocedasticidade dos Resíduos"
   ]
  },
  {
   "cell_type": "code",
   "execution_count": 21,
   "metadata": {},
   "outputs": [],
   "source": [
    "from statsmodels.stats.diagnostic import het_white\n",
    "labels = ['LM Statistic', 'LM-Test p-value', 'F-Statistic', 'F-Test p-value']"
   ]
  },
  {
   "cell_type": "code",
   "execution_count": 22,
   "metadata": {},
   "outputs": [],
   "source": [
    "white_test = het_white(resultado.resid_pearson,\n",
    "                       resultado.model.exog)"
   ]
  },
  {
   "cell_type": "code",
   "execution_count": 23,
   "metadata": {},
   "outputs": [
    {
     "name": "stdout",
     "output_type": "stream",
     "text": [
      "{'LM Statistic': 11.715298949479557, 'LM-Test p-value': 0.16436570335976206, 'F-Statistic': 1.5803917193707147, 'F-Test p-value': 0.16425024727281154}\n"
     ]
    }
   ],
   "source": [
    "print(dict(zip(labels, white_test)))"
   ]
  },
  {
   "cell_type": "markdown",
   "metadata": {},
   "source": [
    "### Interpretação do Modelo"
   ]
  },
  {
   "cell_type": "markdown",
   "metadata": {},
   "source": [
    "**Intercepto ou $\\beta_0$**: Salário médio de um colaborador sem educação superior, recém chegado na empresa e sem skills de dados é de `R$4.412,54`.<br>\n",
    "**$\\beta_1$** x Anos de Educação Superior: Cada ano adicional de educação superior, mantendo tempo de empresa e possui skill de dados constantes, gera um aumento médio de `R$247,89`.<br>\n",
    "**$\\beta_2$** x Tempo de Empresa: Cada ano adicional de tempo de empresa, mantendo os anos de educação superior e possui skill de dados constantes, gera um aumento médio de `R$67,26`.<br>\n",
    "**$\\beta_3$** x Possui Skill de Dados: Adquirir skills de dados, mantendo os anos de educação superior e tempo de empresa constantes, gera um aumento médio de `R$1.861,78`."
   ]
  },
  {
   "cell_type": "code",
   "execution_count": null,
   "metadata": {},
   "outputs": [],
   "source": []
  }
 ],
 "metadata": {
  "kernelspec": {
   "display_name": "Python 3",
   "language": "python",
   "name": "python3"
  },
  "language_info": {
   "codemirror_mode": {
    "name": "ipython",
    "version": 3
   },
   "file_extension": ".py",
   "mimetype": "text/x-python",
   "name": "python",
   "nbconvert_exporter": "python",
   "pygments_lexer": "ipython3",
   "version": "3.8.3"
  },
  "toc-autonumbering": true
 },
 "nbformat": 4,
 "nbformat_minor": 4
}
