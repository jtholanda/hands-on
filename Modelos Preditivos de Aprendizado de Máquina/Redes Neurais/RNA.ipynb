{
 "cells": [
  {
   "cell_type": "markdown",
   "metadata": {},
   "source": [
    "<img src=\"https://s3-sa-east-1.amazonaws.com/preditiva.ai/diversos/preditiva_assinatura.jpg\">\n",
    "\n",
    "# Redes Neurais Artificiais: Risco de Doença Cardíaca\n",
    "\n",
    "[Cleveland Clinic Foundation](https://www.kaggle.com/datasets/johnsmith88/heart-disease-dataset)"
   ]
  },
  {
   "cell_type": "markdown",
   "metadata": {},
   "source": [
    "## Importação das bibliotecas"
   ]
  },
  {
   "cell_type": "code",
   "execution_count": 1,
   "metadata": {},
   "outputs": [],
   "source": [
    "# Pacotes de preparação dos dados\n",
    "import numpy as np\n",
    "import pandas as pd\n",
    "import scipy\n",
    "\n",
    "# Pacotes gráficos\n",
    "%matplotlib inline\n",
    "import matplotlib\n",
    "import matplotlib.pyplot as plt\n",
    "import seaborn as sns\n",
    "\n",
    "# Pacotes de modelagem\n",
    "from sklearn.preprocessing import OneHotEncoder\n",
    "from sklearn.preprocessing import StandardScaler\n",
    "\n",
    "import tensorflow as tf\n",
    "gpus = tf.config.experimental.list_physical_devices('GPU')\n",
    "for gpu in gpus:\n",
    "    tf.config.experimental.set_memory_growth(gpu, True)\n",
    "from tensorflow import keras\n",
    "from tensorflow.keras import layers\n",
    "\n",
    "# Funções customizadas\n",
    "import preditiva"
   ]
  },
  {
   "cell_type": "markdown",
   "metadata": {},
   "source": [
    "## Importação da base de dados"
   ]
  },
  {
   "cell_type": "code",
   "execution_count": 2,
   "metadata": {},
   "outputs": [
    {
     "data": {
      "text/html": [
       "<div>\n",
       "<style scoped>\n",
       "    .dataframe tbody tr th:only-of-type {\n",
       "        vertical-align: middle;\n",
       "    }\n",
       "\n",
       "    .dataframe tbody tr th {\n",
       "        vertical-align: top;\n",
       "    }\n",
       "\n",
       "    .dataframe thead th {\n",
       "        text-align: right;\n",
       "    }\n",
       "</style>\n",
       "<table border=\"1\" class=\"dataframe\">\n",
       "  <thead>\n",
       "    <tr style=\"text-align: right;\">\n",
       "      <th></th>\n",
       "      <th>age</th>\n",
       "      <th>sex</th>\n",
       "      <th>cp</th>\n",
       "      <th>trestbps</th>\n",
       "      <th>chol</th>\n",
       "      <th>fbs</th>\n",
       "      <th>restecg</th>\n",
       "      <th>thalach</th>\n",
       "      <th>exang</th>\n",
       "      <th>oldpeak</th>\n",
       "      <th>slope</th>\n",
       "      <th>ca</th>\n",
       "      <th>thal</th>\n",
       "      <th>target</th>\n",
       "    </tr>\n",
       "  </thead>\n",
       "  <tbody>\n",
       "    <tr>\n",
       "      <th>0</th>\n",
       "      <td>63</td>\n",
       "      <td>1</td>\n",
       "      <td>1</td>\n",
       "      <td>145</td>\n",
       "      <td>233</td>\n",
       "      <td>1</td>\n",
       "      <td>2</td>\n",
       "      <td>150</td>\n",
       "      <td>0</td>\n",
       "      <td>2.3</td>\n",
       "      <td>3</td>\n",
       "      <td>0</td>\n",
       "      <td>fixed</td>\n",
       "      <td>0</td>\n",
       "    </tr>\n",
       "    <tr>\n",
       "      <th>1</th>\n",
       "      <td>67</td>\n",
       "      <td>1</td>\n",
       "      <td>4</td>\n",
       "      <td>160</td>\n",
       "      <td>286</td>\n",
       "      <td>0</td>\n",
       "      <td>2</td>\n",
       "      <td>108</td>\n",
       "      <td>1</td>\n",
       "      <td>1.5</td>\n",
       "      <td>2</td>\n",
       "      <td>3</td>\n",
       "      <td>normal</td>\n",
       "      <td>1</td>\n",
       "    </tr>\n",
       "    <tr>\n",
       "      <th>2</th>\n",
       "      <td>67</td>\n",
       "      <td>1</td>\n",
       "      <td>4</td>\n",
       "      <td>120</td>\n",
       "      <td>229</td>\n",
       "      <td>0</td>\n",
       "      <td>2</td>\n",
       "      <td>129</td>\n",
       "      <td>1</td>\n",
       "      <td>2.6</td>\n",
       "      <td>2</td>\n",
       "      <td>2</td>\n",
       "      <td>reversible</td>\n",
       "      <td>0</td>\n",
       "    </tr>\n",
       "    <tr>\n",
       "      <th>3</th>\n",
       "      <td>37</td>\n",
       "      <td>1</td>\n",
       "      <td>3</td>\n",
       "      <td>130</td>\n",
       "      <td>250</td>\n",
       "      <td>0</td>\n",
       "      <td>0</td>\n",
       "      <td>187</td>\n",
       "      <td>0</td>\n",
       "      <td>3.5</td>\n",
       "      <td>3</td>\n",
       "      <td>0</td>\n",
       "      <td>normal</td>\n",
       "      <td>0</td>\n",
       "    </tr>\n",
       "    <tr>\n",
       "      <th>4</th>\n",
       "      <td>41</td>\n",
       "      <td>0</td>\n",
       "      <td>2</td>\n",
       "      <td>130</td>\n",
       "      <td>204</td>\n",
       "      <td>0</td>\n",
       "      <td>2</td>\n",
       "      <td>172</td>\n",
       "      <td>0</td>\n",
       "      <td>1.4</td>\n",
       "      <td>1</td>\n",
       "      <td>0</td>\n",
       "      <td>normal</td>\n",
       "      <td>0</td>\n",
       "    </tr>\n",
       "  </tbody>\n",
       "</table>\n",
       "</div>"
      ],
      "text/plain": [
       "   age  sex  cp  trestbps  chol  fbs  restecg  thalach  exang  oldpeak  slope  \\\n",
       "0   63    1   1       145   233    1        2      150      0      2.3      3   \n",
       "1   67    1   4       160   286    0        2      108      1      1.5      2   \n",
       "2   67    1   4       120   229    0        2      129      1      2.6      2   \n",
       "3   37    1   3       130   250    0        0      187      0      3.5      3   \n",
       "4   41    0   2       130   204    0        2      172      0      1.4      1   \n",
       "\n",
       "   ca        thal  target  \n",
       "0   0       fixed       0  \n",
       "1   3      normal       1  \n",
       "2   2  reversible       0  \n",
       "3   0      normal       0  \n",
       "4   0      normal       0  "
      ]
     },
     "execution_count": 2,
     "metadata": {},
     "output_type": "execute_result"
    }
   ],
   "source": [
    "file_url = \"http://storage.googleapis.com/download.tensorflow.org/data/heart.csv\"\n",
    "df = pd.read_csv(file_url)\n",
    "df.head()"
   ]
  },
  {
   "attachments": {
    "dfaf8138-e734-4129-b108-61258b21b134.png": {
     "image/png": "[encoded data removed]"
    }
   },
   "cell_type": "markdown",
   "metadata": {},
   "source": [
    "![image.png](attachment:dfaf8138-e734-4129-b108-61258b21b134.png)"
   ]
  },
  {
   "cell_type": "markdown",
   "metadata": {
    "tags": []
   },
   "source": [
    "## Preparação dos Dados"
   ]
  },
  {
   "cell_type": "markdown",
   "metadata": {
    "tags": []
   },
   "source": [
    "### Missing Values"
   ]
  },
  {
   "cell_type": "code",
   "execution_count": 3,
   "metadata": {
    "tags": []
   },
   "outputs": [
    {
     "data": {
      "text/plain": [
       "age         0\n",
       "sex         0\n",
       "cp          0\n",
       "trestbps    0\n",
       "chol        0\n",
       "fbs         0\n",
       "restecg     0\n",
       "thalach     0\n",
       "exang       0\n",
       "oldpeak     0\n",
       "slope       0\n",
       "ca          0\n",
       "thal        0\n",
       "target      0\n",
       "dtype: int64"
      ]
     },
     "execution_count": 3,
     "metadata": {},
     "output_type": "execute_result"
    }
   ],
   "source": [
    "df.isnull().sum()"
   ]
  },
  {
   "cell_type": "markdown",
   "metadata": {
    "tags": []
   },
   "source": [
    "### Duplicações"
   ]
  },
  {
   "cell_type": "code",
   "execution_count": 4,
   "metadata": {
    "tags": []
   },
   "outputs": [
    {
     "data": {
      "text/plain": [
       "0"
      ]
     },
     "execution_count": 4,
     "metadata": {},
     "output_type": "execute_result"
    }
   ],
   "source": [
    "df.duplicated().sum()"
   ]
  },
  {
   "cell_type": "markdown",
   "metadata": {},
   "source": [
    "### Tipos de Variáveis"
   ]
  },
  {
   "cell_type": "code",
   "execution_count": 5,
   "metadata": {},
   "outputs": [
    {
     "name": "stdout",
     "output_type": "stream",
     "text": [
      "<class 'pandas.core.frame.DataFrame'>\n",
      "RangeIndex: 303 entries, 0 to 302\n",
      "Data columns (total 14 columns):\n",
      " #   Column    Non-Null Count  Dtype  \n",
      "---  ------    --------------  -----  \n",
      " 0   age       303 non-null    int64  \n",
      " 1   sex       303 non-null    int64  \n",
      " 2   cp        303 non-null    int64  \n",
      " 3   trestbps  303 non-null    int64  \n",
      " 4   chol      303 non-null    int64  \n",
      " 5   fbs       303 non-null    int64  \n",
      " 6   restecg   303 non-null    int64  \n",
      " 7   thalach   303 non-null    int64  \n",
      " 8   exang     303 non-null    int64  \n",
      " 9   oldpeak   303 non-null    float64\n",
      " 10  slope     303 non-null    int64  \n",
      " 11  ca        303 non-null    int64  \n",
      " 12  thal      303 non-null    object \n",
      " 13  target    303 non-null    int64  \n",
      "dtypes: float64(1), int64(12), object(1)\n",
      "memory usage: 33.3+ KB\n"
     ]
    }
   ],
   "source": [
    "df.info()"
   ]
  },
  {
   "cell_type": "code",
   "execution_count": 6,
   "metadata": {},
   "outputs": [],
   "source": [
    "# Conversão de variáveis numéricas em categóricas\n",
    "df['cp'] = df['cp'].astype(object)\n",
    "df['restecg'] = df['restecg'].astype(object)\n",
    "df['ca_cat'] = df['ca'].astype(object)"
   ]
  },
  {
   "cell_type": "code",
   "execution_count": 7,
   "metadata": {},
   "outputs": [
    {
     "name": "stdout",
     "output_type": "stream",
     "text": [
      "<class 'pandas.core.frame.DataFrame'>\n",
      "RangeIndex: 303 entries, 0 to 302\n",
      "Data columns (total 15 columns):\n",
      " #   Column    Non-Null Count  Dtype  \n",
      "---  ------    --------------  -----  \n",
      " 0   age       303 non-null    int64  \n",
      " 1   sex       303 non-null    int64  \n",
      " 2   cp        303 non-null    object \n",
      " 3   trestbps  303 non-null    int64  \n",
      " 4   chol      303 non-null    int64  \n",
      " 5   fbs       303 non-null    int64  \n",
      " 6   restecg   303 non-null    object \n",
      " 7   thalach   303 non-null    int64  \n",
      " 8   exang     303 non-null    int64  \n",
      " 9   oldpeak   303 non-null    float64\n",
      " 10  slope     303 non-null    int64  \n",
      " 11  ca        303 non-null    int64  \n",
      " 12  thal      303 non-null    object \n",
      " 13  target    303 non-null    int64  \n",
      " 14  ca_cat    303 non-null    object \n",
      "dtypes: float64(1), int64(10), object(4)\n",
      "memory usage: 35.6+ KB\n"
     ]
    }
   ],
   "source": [
    "df.info()"
   ]
  },
  {
   "cell_type": "markdown",
   "metadata": {
    "tags": []
   },
   "source": [
    "## Análise Exploratória dos Dados"
   ]
  },
  {
   "cell_type": "markdown",
   "metadata": {},
   "source": [
    "### Dispersão por Classe"
   ]
  },
  {
   "cell_type": "code",
   "execution_count": null,
   "metadata": {},
   "outputs": [],
   "source": [
    "matplotlib.use('module://ipykernel.pylab.backend_inline')\n",
    "sns.pairplot(df, hue='target');"
   ]
  },
  {
   "cell_type": "markdown",
   "metadata": {},
   "source": [
    "### Relatórios Pandas Profiling e SweetViz"
   ]
  },
  {
   "cell_type": "code",
   "execution_count": null,
   "metadata": {},
   "outputs": [],
   "source": [
    "perfil_pp, perfil_sv = preditiva.gera_relatorios_aed(df=df,\n",
    "                                                     target_feat='target')\n",
    "sns.reset_defaults()"
   ]
  },
  {
   "cell_type": "markdown",
   "metadata": {},
   "source": [
    "## Desenvolvimento dos Modelos\n",
    "Para desenvolvermos as Redes Neurais Artificiais utilizaremos uma das bibliotecas mais populares: [Tensorflow](https://www.tensorflow.org/?hl=pt-br)"
   ]
  },
  {
   "cell_type": "markdown",
   "metadata": {},
   "source": [
    "### Definição do *Target* e das *Features*"
   ]
  },
  {
   "cell_type": "code",
   "execution_count": null,
   "metadata": {},
   "outputs": [],
   "source": [
    "df.info()"
   ]
  },
  {
   "cell_type": "code",
   "execution_count": 8,
   "metadata": {},
   "outputs": [],
   "source": [
    "# Target (variável resposta)\n",
    "y_var = 'target'\n",
    "y = df[y_var]\n",
    "\n",
    "# Features (variáveis explicativas)\n",
    "# Variáveis Numéricas\n",
    "x_var_num = [\n",
    "    'age', 'sex', 'trestbps', 'chol', 'fbs', 'thalach',\n",
    "     'exang', 'oldpeak', 'slope', 'ca',\n",
    "    ]\n",
    "x_num = df[x_var_num].to_numpy()\n",
    "\n",
    "# Variáveis Categóricas / Qualitativas\n",
    "x_var_cat = ['cp', 'restecg', 'thal', 'ca_cat']\n",
    "x_cat = df[x_var_cat]"
   ]
  },
  {
   "cell_type": "markdown",
   "metadata": {},
   "source": [
    "### Pré-processamento"
   ]
  },
  {
   "cell_type": "code",
   "execution_count": 9,
   "metadata": {},
   "outputs": [],
   "source": [
    "# Criação das variáveis dummies para variáveis categóricas\n",
    "x_cat_enc = OneHotEncoder()\n",
    "x_cat = x_cat_enc.fit_transform(x_cat).toarray()\n",
    "\n",
    "# Unificação da base de dados\n",
    "x = np.concatenate([x_num, x_cat], axis=1)"
   ]
  },
  {
   "cell_type": "markdown",
   "metadata": {},
   "source": [
    "### Divisão das bases em Treino e Teste"
   ]
  },
  {
   "cell_type": "code",
   "execution_count": 10,
   "metadata": {},
   "outputs": [],
   "source": [
    "# Divisão em treino e teste\n",
    "from sklearn.model_selection import train_test_split\n",
    "x_train, x_test, y_train, y_test = train_test_split(x, y, \n",
    "                                                    test_size=0.30,\n",
    "                                                    random_state=42)"
   ]
  },
  {
   "cell_type": "markdown",
   "metadata": {},
   "source": [
    "### Padronização da Escala"
   ]
  },
  {
   "cell_type": "code",
   "execution_count": 11,
   "metadata": {},
   "outputs": [],
   "source": [
    "# Padronização da Escala usando conjunto de treino\n",
    "x_scaler = StandardScaler()\n",
    "x_scaler.fit(x_train)\n",
    "x_train_scaled = x_scaler.transform(x_train)\n",
    "x_test_scaled = x_scaler.transform(x_test)"
   ]
  },
  {
   "cell_type": "markdown",
   "metadata": {},
   "source": [
    "### Definição da RNA MLP"
   ]
  },
  {
   "cell_type": "code",
   "execution_count": null,
   "metadata": {},
   "outputs": [],
   "source": [
    "model = keras.Sequential()\n",
    "\n",
    "# Camada Oculta 1\n",
    "model.add(layers.Dense(4, \n",
    "                       activation='tanh', \n",
    "                       kernel_regularizer=keras.regularizers.l1_l2(l1=0.01, l2=0.01),\n",
    "                       input_dim=x_train_scaled.shape[1]))\n",
    "model.add(layers.Dropout(0.2))\n",
    "\n",
    "# Camada Oculta 2\n",
    "model.add(layers.Dense(8, \n",
    "                       activation='relu', \n",
    "                       kernel_regularizer=keras.regularizers.l1_l2(l1=0.01, l2=0.01),\n",
    "                       input_dim=x_train_scaled.shape[1]))\n",
    "model.add(layers.Dropout(0.1))\n",
    "\n",
    "\n",
    "# Camada Saída\n",
    "model.add(layers.Dense(1, activation='sigmoid'))\n",
    "\n",
    "# Compilação do Modelo\n",
    "model.compile(loss='binary_crossentropy', \n",
    "              optimizer=keras.optimizers.Adam(),\n",
    "              metrics=keras.metrics.AUC(name='auc'))\n",
    "\n",
    "model.summary()"
   ]
  },
  {
   "cell_type": "markdown",
   "metadata": {},
   "source": [
    "### Avaliação da RNA antes do treinamento"
   ]
  },
  {
   "cell_type": "code",
   "execution_count": null,
   "metadata": {},
   "outputs": [],
   "source": [
    "score_train, metric_train = model.evaluate(x_train_scaled, y_train, verbose=0)\n",
    "score_test, metric_test = model.evaluate(x_test_scaled, y_test, verbose=0)\n",
    "\n",
    "print('AUC no conjunto de Treino: {:.1%}'.format(metric_train))\n",
    "print('AUC no conjunto de Teste: {:.1%}'.format(metric_test))"
   ]
  },
  {
   "cell_type": "markdown",
   "metadata": {},
   "source": [
    "### Treinamento da RNA MLP"
   ]
  },
  {
   "cell_type": "code",
   "execution_count": null,
   "metadata": {},
   "outputs": [],
   "source": [
    "rna_es = tf.keras.callbacks.EarlyStopping(\n",
    "    monitor=\"val_auc\",\n",
    "    min_delta=0.01,\n",
    "    patience = 20,\n",
    "    verbose=2,\n",
    "    mode='max',\n",
    "    restore_best_weights=True)\n",
    "\n",
    "historico = model.fit(x=x_train_scaled, \n",
    "                      y=y_train,\n",
    "                      epochs=50,\n",
    "                      batch_size=8,\n",
    "                      validation_split=0.1,\n",
    "                      verbose=1,\n",
    "                      callbacks=[rna_es])"
   ]
  },
  {
   "cell_type": "markdown",
   "metadata": {},
   "source": [
    "### Análise de Desempenho"
   ]
  },
  {
   "cell_type": "code",
   "execution_count": null,
   "metadata": {},
   "outputs": [],
   "source": [
    "score_train, metric_train = model.evaluate(x_train_scaled, y_train, verbose=0)\n",
    "score_test, metric_test = model.evaluate(x_test_scaled, y_test, verbose=0)\n",
    "\n",
    "print('AUC no conjunto de Treino: {:.1%}'.format(metric_train))\n",
    "print('AUC no conjunto de Teste: {:.1%}'.format(metric_test))"
   ]
  },
  {
   "cell_type": "code",
   "execution_count": null,
   "metadata": {},
   "outputs": [],
   "source": [
    "auc_treino = list(historico.history.keys())[1]\n",
    "auc_valid = list(historico.history.keys())[3]\n",
    "\n",
    "# Gráfico com a evolução do treinamento\n",
    "fig, ax = plt.subplots(figsize=(8, 8))\n",
    "plt.style.use('ggplot')\n",
    "plt.plot(historico.history[auc_treino])\n",
    "plt.plot(historico.history[auc_valid])\n",
    "plt.title('Desempenho do Modelo')\n",
    "plt.ylabel('AUC')\n",
    "plt.xlabel('Épocas')\n",
    "plt.legend(['Treino', 'Validação'], loc='upper left')\n",
    "plt.show()"
   ]
  },
  {
   "cell_type": "markdown",
   "metadata": {},
   "source": [
    "### Exploração dos hiperparâmetros"
   ]
  },
  {
   "cell_type": "code",
   "execution_count": 12,
   "metadata": {},
   "outputs": [],
   "source": [
    "def treina_rna(x_train_scaled, y_train, x_test_scaled, y_test, nnc1, dc1, nnc2):\n",
    "\n",
    "    # Definição do Modelo RNA\n",
    "    model = keras.Sequential()\n",
    "\n",
    "    # Camada Oculta 1\n",
    "    model.add(layers.Dense(nnc1, \n",
    "                           activation='tanh', \n",
    "                           kernel_regularizer=keras.regularizers.l1_l2(l1=0.01, l2=0.01),\n",
    "                           input_dim=x_train_scaled.shape[1]))\n",
    "    model.add(layers.Dropout(dc1))\n",
    "\n",
    "    # Camada Oculta 2\n",
    "    model.add(layers.Dense(nnc2, \n",
    "                           activation='relu', \n",
    "                           kernel_regularizer=keras.regularizers.l1_l2(l1=0.01, l2=0.01)))\n",
    "\n",
    "    # Camada Saída\n",
    "    model.add(layers.Dense(1, activation='sigmoid'))\n",
    "\n",
    "    # Compilação do Modelo\n",
    "    model.compile(loss='binary_crossentropy', \n",
    "                  optimizer=keras.optimizers.Adam(),\n",
    "                  metrics=keras.metrics.AUC(name='auc'))\n",
    "\n",
    "\n",
    "    # Treinamento do Modelo RNA\n",
    "    rna_es = tf.keras.callbacks.EarlyStopping(\n",
    "    monitor=\"val_auc\",\n",
    "    min_delta=0.01,\n",
    "    patience = 5,\n",
    "    verbose=0,\n",
    "    mode='max',\n",
    "    restore_best_weights=True)\n",
    "\n",
    "    historico = model.fit(x=x_train_scaled, \n",
    "                          y=y_train,\n",
    "                          epochs=50,\n",
    "                          batch_size=32,\n",
    "                          validation_split=0.1,\n",
    "                          verbose=0,\n",
    "                          callbacks=[rna_es])\n",
    "\n",
    "\n",
    "    \n",
    "    # Avaliação do Desempenho do Modelo RNA\n",
    "    score_train, metric_train = model.evaluate(x_train_scaled, y_train, verbose=0)\n",
    "    score_test, metric_test = model.evaluate(x_test_scaled, y_test, verbose=0)\n",
    "\n",
    "    \n",
    "    return model, (metric_train, metric_test)"
   ]
  },
  {
   "cell_type": "code",
   "execution_count": 19,
   "metadata": {},
   "outputs": [
    {
     "data": {
      "text/plain": [
       "48"
      ]
     },
     "execution_count": 19,
     "metadata": {},
     "output_type": "execute_result"
    }
   ],
   "source": [
    "4*3*4"
   ]
  },
  {
   "cell_type": "code",
   "execution_count": 17,
   "metadata": {},
   "outputs": [
    {
     "name": "stdout",
     "output_type": "stream",
     "text": [
      "1\n",
      "2\n",
      "3\n",
      "4\n"
     ]
    }
   ],
   "source": [
    "for r in range(1, 5):\n",
    "    print(r)"
   ]
  },
  {
   "cell_type": "code",
   "execution_count": 18,
   "metadata": {},
   "outputs": [
    {
     "data": {
      "text/plain": [
       "array([0. , 0.1, 0.2])"
      ]
     },
     "execution_count": 18,
     "metadata": {},
     "output_type": "execute_result"
    }
   ],
   "source": [
    "np.arange(0, 0.3, 0.1)"
   ]
  },
  {
   "cell_type": "code",
   "execution_count": 20,
   "metadata": {},
   "outputs": [
    {
     "name": "stdout",
     "output_type": "stream",
     "text": [
      "Treinando Modelo 0\n",
      "Treinando Modelo 1\n",
      "Treinando Modelo 2\n",
      "Treinando Modelo 3\n",
      "Treinando Modelo 4\n",
      "Treinando Modelo 5\n",
      "Treinando Modelo 6\n",
      "Treinando Modelo 7\n",
      "Treinando Modelo 8\n",
      "Treinando Modelo 9\n",
      "Treinando Modelo 10\n",
      "Treinando Modelo 11\n",
      "Treinando Modelo 12\n",
      "Treinando Modelo 13\n",
      "Treinando Modelo 14\n",
      "Treinando Modelo 15\n",
      "Treinando Modelo 16\n",
      "Treinando Modelo 17\n",
      "Treinando Modelo 18\n",
      "Treinando Modelo 19\n",
      "Treinando Modelo 20\n",
      "Treinando Modelo 21\n",
      "Treinando Modelo 22\n",
      "Treinando Modelo 23\n",
      "Treinando Modelo 24\n",
      "Treinando Modelo 25\n",
      "Treinando Modelo 26\n",
      "Treinando Modelo 27\n",
      "Treinando Modelo 28\n",
      "Treinando Modelo 29\n",
      "Treinando Modelo 30\n",
      "Treinando Modelo 31\n",
      "Treinando Modelo 32\n",
      "Treinando Modelo 33\n",
      "Treinando Modelo 34\n",
      "Treinando Modelo 35\n",
      "Treinando Modelo 36\n",
      "Treinando Modelo 37\n",
      "Treinando Modelo 38\n",
      "Treinando Modelo 39\n",
      "Treinando Modelo 40\n",
      "Treinando Modelo 41\n",
      "Treinando Modelo 42\n",
      "Treinando Modelo 43\n",
      "Treinando Modelo 44\n",
      "Treinando Modelo 45\n",
      "Treinando Modelo 46\n",
      "Treinando Modelo 47\n"
     ]
    }
   ],
   "source": [
    "lst_models = list()\n",
    "lst_nnc1 = list()\n",
    "lst_dc1 = list()\n",
    "lst_nnc2 = list()\n",
    "auc_train = list()\n",
    "auc_test = list()\n",
    "\n",
    "id_model = 0\n",
    "for nnc1 in range(1, 5):\n",
    "    for dc1 in np.arange(0, 0.3, 0.1):\n",
    "        for nnc2 in range(1, 5):\n",
    "                print(f'Treinando Modelo {id_model}')\n",
    "                lst_nnc1.append(nnc1)\n",
    "                lst_dc1.append(dc1)\n",
    "                lst_nnc2.append(nnc2)\n",
    "                modelo, auc = treina_rna(x_train_scaled, y_train, \n",
    "                                         x_test_scaled, y_test,\n",
    "                                         nnc1, dc1, nnc2)\n",
    "                lst_models.append(modelo)\n",
    "                auc_train.append(auc[0])\n",
    "                auc_test.append(auc[1])\n",
    "                id_model += 1"
   ]
  },
  {
   "cell_type": "code",
   "execution_count": 146,
   "metadata": {},
   "outputs": [
    {
     "data": {
      "text/html": [
       "<div>\n",
       "<style scoped>\n",
       "    .dataframe tbody tr th:only-of-type {\n",
       "        vertical-align: middle;\n",
       "    }\n",
       "\n",
       "    .dataframe tbody tr th {\n",
       "        vertical-align: top;\n",
       "    }\n",
       "\n",
       "    .dataframe thead th {\n",
       "        text-align: right;\n",
       "    }\n",
       "</style>\n",
       "<table border=\"1\" class=\"dataframe\">\n",
       "  <thead>\n",
       "    <tr style=\"text-align: right;\">\n",
       "      <th></th>\n",
       "      <th>Num Neuronios C1</th>\n",
       "      <th>Dropout C1</th>\n",
       "      <th>Num Neuronios C2</th>\n",
       "      <th>AUC Train</th>\n",
       "      <th>AUC Test</th>\n",
       "      <th>Modelo</th>\n",
       "      <th>Diferença</th>\n",
       "    </tr>\n",
       "  </thead>\n",
       "  <tbody>\n",
       "    <tr>\n",
       "      <th>0</th>\n",
       "      <td>1</td>\n",
       "      <td>0.0</td>\n",
       "      <td>1</td>\n",
       "      <td>0.896200</td>\n",
       "      <td>0.864428</td>\n",
       "      <td>&lt;tensorflow.python.keras.engine.sequential.Seq...</td>\n",
       "      <td>-0.031772</td>\n",
       "    </tr>\n",
       "    <tr>\n",
       "      <th>1</th>\n",
       "      <td>1</td>\n",
       "      <td>0.0</td>\n",
       "      <td>2</td>\n",
       "      <td>0.860806</td>\n",
       "      <td>0.778296</td>\n",
       "      <td>&lt;tensorflow.python.keras.engine.sequential.Seq...</td>\n",
       "      <td>-0.082510</td>\n",
       "    </tr>\n",
       "    <tr>\n",
       "      <th>2</th>\n",
       "      <td>1</td>\n",
       "      <td>0.0</td>\n",
       "      <td>3</td>\n",
       "      <td>0.499391</td>\n",
       "      <td>0.558147</td>\n",
       "      <td>&lt;tensorflow.python.keras.engine.sequential.Seq...</td>\n",
       "      <td>0.058756</td>\n",
       "    </tr>\n",
       "    <tr>\n",
       "      <th>3</th>\n",
       "      <td>1</td>\n",
       "      <td>0.0</td>\n",
       "      <td>4</td>\n",
       "      <td>0.418411</td>\n",
       "      <td>0.423197</td>\n",
       "      <td>&lt;tensorflow.python.keras.engine.sequential.Seq...</td>\n",
       "      <td>0.004785</td>\n",
       "    </tr>\n",
       "    <tr>\n",
       "      <th>4</th>\n",
       "      <td>1</td>\n",
       "      <td>0.1</td>\n",
       "      <td>1</td>\n",
       "      <td>0.674587</td>\n",
       "      <td>0.816853</td>\n",
       "      <td>&lt;tensorflow.python.keras.engine.sequential.Seq...</td>\n",
       "      <td>0.142266</td>\n",
       "    </tr>\n",
       "    <tr>\n",
       "      <th>5</th>\n",
       "      <td>1</td>\n",
       "      <td>0.1</td>\n",
       "      <td>2</td>\n",
       "      <td>0.663011</td>\n",
       "      <td>0.619714</td>\n",
       "      <td>&lt;tensorflow.python.keras.engine.sequential.Seq...</td>\n",
       "      <td>-0.043297</td>\n",
       "    </tr>\n",
       "    <tr>\n",
       "      <th>6</th>\n",
       "      <td>1</td>\n",
       "      <td>0.1</td>\n",
       "      <td>3</td>\n",
       "      <td>0.827074</td>\n",
       "      <td>0.833022</td>\n",
       "      <td>&lt;tensorflow.python.keras.engine.sequential.Seq...</td>\n",
       "      <td>0.005948</td>\n",
       "    </tr>\n",
       "    <tr>\n",
       "      <th>7</th>\n",
       "      <td>1</td>\n",
       "      <td>0.1</td>\n",
       "      <td>4</td>\n",
       "      <td>0.834884</td>\n",
       "      <td>0.828980</td>\n",
       "      <td>&lt;tensorflow.python.keras.engine.sequential.Seq...</td>\n",
       "      <td>-0.005904</td>\n",
       "    </tr>\n",
       "    <tr>\n",
       "      <th>8</th>\n",
       "      <td>1</td>\n",
       "      <td>0.2</td>\n",
       "      <td>1</td>\n",
       "      <td>0.294561</td>\n",
       "      <td>0.204602</td>\n",
       "      <td>&lt;tensorflow.python.keras.engine.sequential.Seq...</td>\n",
       "      <td>-0.089959</td>\n",
       "    </tr>\n",
       "    <tr>\n",
       "      <th>9</th>\n",
       "      <td>1</td>\n",
       "      <td>0.2</td>\n",
       "      <td>2</td>\n",
       "      <td>0.777889</td>\n",
       "      <td>0.740050</td>\n",
       "      <td>&lt;tensorflow.python.keras.engine.sequential.Seq...</td>\n",
       "      <td>-0.037839</td>\n",
       "    </tr>\n",
       "    <tr>\n",
       "      <th>10</th>\n",
       "      <td>1</td>\n",
       "      <td>0.2</td>\n",
       "      <td>3</td>\n",
       "      <td>0.624737</td>\n",
       "      <td>0.580846</td>\n",
       "      <td>&lt;tensorflow.python.keras.engine.sequential.Seq...</td>\n",
       "      <td>-0.043891</td>\n",
       "    </tr>\n",
       "    <tr>\n",
       "      <th>11</th>\n",
       "      <td>1</td>\n",
       "      <td>0.2</td>\n",
       "      <td>4</td>\n",
       "      <td>0.197186</td>\n",
       "      <td>0.184391</td>\n",
       "      <td>&lt;tensorflow.python.keras.engine.sequential.Seq...</td>\n",
       "      <td>-0.012796</td>\n",
       "    </tr>\n",
       "    <tr>\n",
       "      <th>12</th>\n",
       "      <td>2</td>\n",
       "      <td>0.0</td>\n",
       "      <td>1</td>\n",
       "      <td>0.701285</td>\n",
       "      <td>0.538246</td>\n",
       "      <td>&lt;tensorflow.python.keras.engine.sequential.Seq...</td>\n",
       "      <td>-0.163039</td>\n",
       "    </tr>\n",
       "    <tr>\n",
       "      <th>13</th>\n",
       "      <td>2</td>\n",
       "      <td>0.0</td>\n",
       "      <td>2</td>\n",
       "      <td>0.891825</td>\n",
       "      <td>0.898943</td>\n",
       "      <td>&lt;tensorflow.python.keras.engine.sequential.Seq...</td>\n",
       "      <td>0.007118</td>\n",
       "    </tr>\n",
       "    <tr>\n",
       "      <th>14</th>\n",
       "      <td>2</td>\n",
       "      <td>0.0</td>\n",
       "      <td>3</td>\n",
       "      <td>0.652986</td>\n",
       "      <td>0.669154</td>\n",
       "      <td>&lt;tensorflow.python.keras.engine.sequential.Seq...</td>\n",
       "      <td>0.016169</td>\n",
       "    </tr>\n",
       "    <tr>\n",
       "      <th>15</th>\n",
       "      <td>2</td>\n",
       "      <td>0.0</td>\n",
       "      <td>4</td>\n",
       "      <td>0.645397</td>\n",
       "      <td>0.701182</td>\n",
       "      <td>&lt;tensorflow.python.keras.engine.sequential.Seq...</td>\n",
       "      <td>0.055784</td>\n",
       "    </tr>\n",
       "    <tr>\n",
       "      <th>16</th>\n",
       "      <td>2</td>\n",
       "      <td>0.1</td>\n",
       "      <td>1</td>\n",
       "      <td>0.342196</td>\n",
       "      <td>0.260261</td>\n",
       "      <td>&lt;tensorflow.python.keras.engine.sequential.Seq...</td>\n",
       "      <td>-0.081934</td>\n",
       "    </tr>\n",
       "    <tr>\n",
       "      <th>17</th>\n",
       "      <td>2</td>\n",
       "      <td>0.1</td>\n",
       "      <td>2</td>\n",
       "      <td>0.909051</td>\n",
       "      <td>0.903296</td>\n",
       "      <td>&lt;tensorflow.python.keras.engine.sequential.Seq...</td>\n",
       "      <td>-0.005755</td>\n",
       "    </tr>\n",
       "    <tr>\n",
       "      <th>18</th>\n",
       "      <td>2</td>\n",
       "      <td>0.1</td>\n",
       "      <td>3</td>\n",
       "      <td>0.666999</td>\n",
       "      <td>0.680037</td>\n",
       "      <td>&lt;tensorflow.python.keras.engine.sequential.Seq...</td>\n",
       "      <td>0.013038</td>\n",
       "    </tr>\n",
       "    <tr>\n",
       "      <th>19</th>\n",
       "      <td>2</td>\n",
       "      <td>0.1</td>\n",
       "      <td>4</td>\n",
       "      <td>0.824748</td>\n",
       "      <td>0.887438</td>\n",
       "      <td>&lt;tensorflow.python.keras.engine.sequential.Seq...</td>\n",
       "      <td>0.062690</td>\n",
       "    </tr>\n",
       "    <tr>\n",
       "      <th>20</th>\n",
       "      <td>2</td>\n",
       "      <td>0.2</td>\n",
       "      <td>1</td>\n",
       "      <td>0.783095</td>\n",
       "      <td>0.773010</td>\n",
       "      <td>&lt;tensorflow.python.keras.engine.sequential.Seq...</td>\n",
       "      <td>-0.010085</td>\n",
       "    </tr>\n",
       "    <tr>\n",
       "      <th>21</th>\n",
       "      <td>2</td>\n",
       "      <td>0.2</td>\n",
       "      <td>2</td>\n",
       "      <td>0.242329</td>\n",
       "      <td>0.225435</td>\n",
       "      <td>&lt;tensorflow.python.keras.engine.sequential.Seq...</td>\n",
       "      <td>-0.016893</td>\n",
       "    </tr>\n",
       "    <tr>\n",
       "      <th>22</th>\n",
       "      <td>2</td>\n",
       "      <td>0.2</td>\n",
       "      <td>3</td>\n",
       "      <td>0.848455</td>\n",
       "      <td>0.822139</td>\n",
       "      <td>&lt;tensorflow.python.keras.engine.sequential.Seq...</td>\n",
       "      <td>-0.026315</td>\n",
       "    </tr>\n",
       "    <tr>\n",
       "      <th>23</th>\n",
       "      <td>2</td>\n",
       "      <td>0.2</td>\n",
       "      <td>4</td>\n",
       "      <td>0.871829</td>\n",
       "      <td>0.885883</td>\n",
       "      <td>&lt;tensorflow.python.keras.engine.sequential.Seq...</td>\n",
       "      <td>0.014054</td>\n",
       "    </tr>\n",
       "    <tr>\n",
       "      <th>24</th>\n",
       "      <td>3</td>\n",
       "      <td>0.0</td>\n",
       "      <td>1</td>\n",
       "      <td>0.551069</td>\n",
       "      <td>0.432525</td>\n",
       "      <td>&lt;tensorflow.python.keras.engine.sequential.Seq...</td>\n",
       "      <td>-0.118544</td>\n",
       "    </tr>\n",
       "    <tr>\n",
       "      <th>25</th>\n",
       "      <td>3</td>\n",
       "      <td>0.0</td>\n",
       "      <td>2</td>\n",
       "      <td>0.548189</td>\n",
       "      <td>0.480100</td>\n",
       "      <td>&lt;tensorflow.python.keras.engine.sequential.Seq...</td>\n",
       "      <td>-0.068089</td>\n",
       "    </tr>\n",
       "    <tr>\n",
       "      <th>26</th>\n",
       "      <td>3</td>\n",
       "      <td>0.0</td>\n",
       "      <td>3</td>\n",
       "      <td>0.875595</td>\n",
       "      <td>0.800373</td>\n",
       "      <td>&lt;tensorflow.python.keras.engine.sequential.Seq...</td>\n",
       "      <td>-0.075222</td>\n",
       "    </tr>\n",
       "    <tr>\n",
       "      <th>27</th>\n",
       "      <td>3</td>\n",
       "      <td>0.0</td>\n",
       "      <td>4</td>\n",
       "      <td>0.871829</td>\n",
       "      <td>0.878731</td>\n",
       "      <td>&lt;tensorflow.python.keras.engine.sequential.Seq...</td>\n",
       "      <td>0.006902</td>\n",
       "    </tr>\n",
       "    <tr>\n",
       "      <th>28</th>\n",
       "      <td>3</td>\n",
       "      <td>0.1</td>\n",
       "      <td>1</td>\n",
       "      <td>0.670212</td>\n",
       "      <td>0.669776</td>\n",
       "      <td>&lt;tensorflow.python.keras.engine.sequential.Seq...</td>\n",
       "      <td>-0.000435</td>\n",
       "    </tr>\n",
       "    <tr>\n",
       "      <th>29</th>\n",
       "      <td>3</td>\n",
       "      <td>0.1</td>\n",
       "      <td>2</td>\n",
       "      <td>0.593442</td>\n",
       "      <td>0.546331</td>\n",
       "      <td>&lt;tensorflow.python.keras.engine.sequential.Seq...</td>\n",
       "      <td>-0.047111</td>\n",
       "    </tr>\n",
       "    <tr>\n",
       "      <th>30</th>\n",
       "      <td>3</td>\n",
       "      <td>0.1</td>\n",
       "      <td>3</td>\n",
       "      <td>0.835992</td>\n",
       "      <td>0.737562</td>\n",
       "      <td>&lt;tensorflow.python.keras.engine.sequential.Seq...</td>\n",
       "      <td>-0.098430</td>\n",
       "    </tr>\n",
       "    <tr>\n",
       "      <th>31</th>\n",
       "      <td>3</td>\n",
       "      <td>0.1</td>\n",
       "      <td>4</td>\n",
       "      <td>0.893597</td>\n",
       "      <td>0.885261</td>\n",
       "      <td>&lt;tensorflow.python.keras.engine.sequential.Seq...</td>\n",
       "      <td>-0.008336</td>\n",
       "    </tr>\n",
       "    <tr>\n",
       "      <th>32</th>\n",
       "      <td>3</td>\n",
       "      <td>0.2</td>\n",
       "      <td>1</td>\n",
       "      <td>0.808519</td>\n",
       "      <td>0.699316</td>\n",
       "      <td>&lt;tensorflow.python.keras.engine.sequential.Seq...</td>\n",
       "      <td>-0.109203</td>\n",
       "    </tr>\n",
       "    <tr>\n",
       "      <th>33</th>\n",
       "      <td>3</td>\n",
       "      <td>0.2</td>\n",
       "      <td>2</td>\n",
       "      <td>0.711864</td>\n",
       "      <td>0.792599</td>\n",
       "      <td>&lt;tensorflow.python.keras.engine.sequential.Seq...</td>\n",
       "      <td>0.080735</td>\n",
       "    </tr>\n",
       "    <tr>\n",
       "      <th>34</th>\n",
       "      <td>3</td>\n",
       "      <td>0.2</td>\n",
       "      <td>3</td>\n",
       "      <td>0.740445</td>\n",
       "      <td>0.715174</td>\n",
       "      <td>&lt;tensorflow.python.keras.engine.sequential.Seq...</td>\n",
       "      <td>-0.025271</td>\n",
       "    </tr>\n",
       "    <tr>\n",
       "      <th>35</th>\n",
       "      <td>3</td>\n",
       "      <td>0.2</td>\n",
       "      <td>4</td>\n",
       "      <td>0.897308</td>\n",
       "      <td>0.923196</td>\n",
       "      <td>&lt;tensorflow.python.keras.engine.sequential.Seq...</td>\n",
       "      <td>0.025888</td>\n",
       "    </tr>\n",
       "    <tr>\n",
       "      <th>36</th>\n",
       "      <td>4</td>\n",
       "      <td>0.0</td>\n",
       "      <td>1</td>\n",
       "      <td>0.594716</td>\n",
       "      <td>0.489739</td>\n",
       "      <td>&lt;tensorflow.python.keras.engine.sequential.Seq...</td>\n",
       "      <td>-0.104977</td>\n",
       "    </tr>\n",
       "    <tr>\n",
       "      <th>37</th>\n",
       "      <td>4</td>\n",
       "      <td>0.0</td>\n",
       "      <td>2</td>\n",
       "      <td>0.810845</td>\n",
       "      <td>0.804105</td>\n",
       "      <td>&lt;tensorflow.python.keras.engine.sequential.Seq...</td>\n",
       "      <td>-0.006741</td>\n",
       "    </tr>\n",
       "    <tr>\n",
       "      <th>38</th>\n",
       "      <td>4</td>\n",
       "      <td>0.0</td>\n",
       "      <td>3</td>\n",
       "      <td>0.847402</td>\n",
       "      <td>0.795087</td>\n",
       "      <td>&lt;tensorflow.python.keras.engine.sequential.Seq...</td>\n",
       "      <td>-0.052315</td>\n",
       "    </tr>\n",
       "    <tr>\n",
       "      <th>39</th>\n",
       "      <td>4</td>\n",
       "      <td>0.0</td>\n",
       "      <td>4</td>\n",
       "      <td>0.777058</td>\n",
       "      <td>0.773632</td>\n",
       "      <td>&lt;tensorflow.python.keras.engine.sequential.Seq...</td>\n",
       "      <td>-0.003426</td>\n",
       "    </tr>\n",
       "    <tr>\n",
       "      <th>40</th>\n",
       "      <td>4</td>\n",
       "      <td>0.1</td>\n",
       "      <td>1</td>\n",
       "      <td>0.642461</td>\n",
       "      <td>0.755286</td>\n",
       "      <td>&lt;tensorflow.python.keras.engine.sequential.Seq...</td>\n",
       "      <td>0.112825</td>\n",
       "    </tr>\n",
       "    <tr>\n",
       "      <th>41</th>\n",
       "      <td>4</td>\n",
       "      <td>0.1</td>\n",
       "      <td>2</td>\n",
       "      <td>0.792844</td>\n",
       "      <td>0.781094</td>\n",
       "      <td>&lt;tensorflow.python.keras.engine.sequential.Seq...</td>\n",
       "      <td>-0.011749</td>\n",
       "    </tr>\n",
       "    <tr>\n",
       "      <th>42</th>\n",
       "      <td>4</td>\n",
       "      <td>0.1</td>\n",
       "      <td>3</td>\n",
       "      <td>0.647114</td>\n",
       "      <td>0.763993</td>\n",
       "      <td>&lt;tensorflow.python.keras.engine.sequential.Seq...</td>\n",
       "      <td>0.116878</td>\n",
       "    </tr>\n",
       "    <tr>\n",
       "      <th>43</th>\n",
       "      <td>4</td>\n",
       "      <td>0.1</td>\n",
       "      <td>4</td>\n",
       "      <td>0.906060</td>\n",
       "      <td>0.872202</td>\n",
       "      <td>&lt;tensorflow.python.keras.engine.sequential.Seq...</td>\n",
       "      <td>-0.033858</td>\n",
       "    </tr>\n",
       "    <tr>\n",
       "      <th>44</th>\n",
       "      <td>4</td>\n",
       "      <td>0.2</td>\n",
       "      <td>1</td>\n",
       "      <td>0.901241</td>\n",
       "      <td>0.877177</td>\n",
       "      <td>&lt;tensorflow.python.keras.engine.sequential.Seq...</td>\n",
       "      <td>-0.024064</td>\n",
       "    </tr>\n",
       "    <tr>\n",
       "      <th>45</th>\n",
       "      <td>4</td>\n",
       "      <td>0.2</td>\n",
       "      <td>2</td>\n",
       "      <td>0.846516</td>\n",
       "      <td>0.785759</td>\n",
       "      <td>&lt;tensorflow.python.keras.engine.sequential.Seq...</td>\n",
       "      <td>-0.060757</td>\n",
       "    </tr>\n",
       "    <tr>\n",
       "      <th>46</th>\n",
       "      <td>4</td>\n",
       "      <td>0.2</td>\n",
       "      <td>3</td>\n",
       "      <td>0.826299</td>\n",
       "      <td>0.760883</td>\n",
       "      <td>&lt;tensorflow.python.keras.engine.sequential.Seq...</td>\n",
       "      <td>-0.065416</td>\n",
       "    </tr>\n",
       "    <tr>\n",
       "      <th>47</th>\n",
       "      <td>4</td>\n",
       "      <td>0.2</td>\n",
       "      <td>4</td>\n",
       "      <td>0.887670</td>\n",
       "      <td>0.873756</td>\n",
       "      <td>&lt;tensorflow.python.keras.engine.sequential.Seq...</td>\n",
       "      <td>-0.013914</td>\n",
       "    </tr>\n",
       "  </tbody>\n",
       "</table>\n",
       "</div>"
      ],
      "text/plain": [
       "    Num Neuronios C1  Dropout C1  Num Neuronios C2  AUC Train  AUC Test  \\\n",
       "0                  1         0.0                 1   0.896200  0.864428   \n",
       "1                  1         0.0                 2   0.860806  0.778296   \n",
       "2                  1         0.0                 3   0.499391  0.558147   \n",
       "3                  1         0.0                 4   0.418411  0.423197   \n",
       "4                  1         0.1                 1   0.674587  0.816853   \n",
       "5                  1         0.1                 2   0.663011  0.619714   \n",
       "6                  1         0.1                 3   0.827074  0.833022   \n",
       "7                  1         0.1                 4   0.834884  0.828980   \n",
       "8                  1         0.2                 1   0.294561  0.204602   \n",
       "9                  1         0.2                 2   0.777889  0.740050   \n",
       "10                 1         0.2                 3   0.624737  0.580846   \n",
       "11                 1         0.2                 4   0.197186  0.184391   \n",
       "12                 2         0.0                 1   0.701285  0.538246   \n",
       "13                 2         0.0                 2   0.891825  0.898943   \n",
       "14                 2         0.0                 3   0.652986  0.669154   \n",
       "15                 2         0.0                 4   0.645397  0.701182   \n",
       "16                 2         0.1                 1   0.342196  0.260261   \n",
       "17                 2         0.1                 2   0.909051  0.903296   \n",
       "18                 2         0.1                 3   0.666999  0.680037   \n",
       "19                 2         0.1                 4   0.824748  0.887438   \n",
       "20                 2         0.2                 1   0.783095  0.773010   \n",
       "21                 2         0.2                 2   0.242329  0.225435   \n",
       "22                 2         0.2                 3   0.848455  0.822139   \n",
       "23                 2         0.2                 4   0.871829  0.885883   \n",
       "24                 3         0.0                 1   0.551069  0.432525   \n",
       "25                 3         0.0                 2   0.548189  0.480100   \n",
       "26                 3         0.0                 3   0.875595  0.800373   \n",
       "27                 3         0.0                 4   0.871829  0.878731   \n",
       "28                 3         0.1                 1   0.670212  0.669776   \n",
       "29                 3         0.1                 2   0.593442  0.546331   \n",
       "30                 3         0.1                 3   0.835992  0.737562   \n",
       "31                 3         0.1                 4   0.893597  0.885261   \n",
       "32                 3         0.2                 1   0.808519  0.699316   \n",
       "33                 3         0.2                 2   0.711864  0.792599   \n",
       "34                 3         0.2                 3   0.740445  0.715174   \n",
       "35                 3         0.2                 4   0.897308  0.923196   \n",
       "36                 4         0.0                 1   0.594716  0.489739   \n",
       "37                 4         0.0                 2   0.810845  0.804105   \n",
       "38                 4         0.0                 3   0.847402  0.795087   \n",
       "39                 4         0.0                 4   0.777058  0.773632   \n",
       "40                 4         0.1                 1   0.642461  0.755286   \n",
       "41                 4         0.1                 2   0.792844  0.781094   \n",
       "42                 4         0.1                 3   0.647114  0.763993   \n",
       "43                 4         0.1                 4   0.906060  0.872202   \n",
       "44                 4         0.2                 1   0.901241  0.877177   \n",
       "45                 4         0.2                 2   0.846516  0.785759   \n",
       "46                 4         0.2                 3   0.826299  0.760883   \n",
       "47                 4         0.2                 4   0.887670  0.873756   \n",
       "\n",
       "                                               Modelo  Diferença  \n",
       "0   <tensorflow.python.keras.engine.sequential.Seq...  -0.031772  \n",
       "1   <tensorflow.python.keras.engine.sequential.Seq...  -0.082510  \n",
       "2   <tensorflow.python.keras.engine.sequential.Seq...   0.058756  \n",
       "3   <tensorflow.python.keras.engine.sequential.Seq...   0.004785  \n",
       "4   <tensorflow.python.keras.engine.sequential.Seq...   0.142266  \n",
       "5   <tensorflow.python.keras.engine.sequential.Seq...  -0.043297  \n",
       "6   <tensorflow.python.keras.engine.sequential.Seq...   0.005948  \n",
       "7   <tensorflow.python.keras.engine.sequential.Seq...  -0.005904  \n",
       "8   <tensorflow.python.keras.engine.sequential.Seq...  -0.089959  \n",
       "9   <tensorflow.python.keras.engine.sequential.Seq...  -0.037839  \n",
       "10  <tensorflow.python.keras.engine.sequential.Seq...  -0.043891  \n",
       "11  <tensorflow.python.keras.engine.sequential.Seq...  -0.012796  \n",
       "12  <tensorflow.python.keras.engine.sequential.Seq...  -0.163039  \n",
       "13  <tensorflow.python.keras.engine.sequential.Seq...   0.007118  \n",
       "14  <tensorflow.python.keras.engine.sequential.Seq...   0.016169  \n",
       "15  <tensorflow.python.keras.engine.sequential.Seq...   0.055784  \n",
       "16  <tensorflow.python.keras.engine.sequential.Seq...  -0.081934  \n",
       "17  <tensorflow.python.keras.engine.sequential.Seq...  -0.005755  \n",
       "18  <tensorflow.python.keras.engine.sequential.Seq...   0.013038  \n",
       "19  <tensorflow.python.keras.engine.sequential.Seq...   0.062690  \n",
       "20  <tensorflow.python.keras.engine.sequential.Seq...  -0.010085  \n",
       "21  <tensorflow.python.keras.engine.sequential.Seq...  -0.016893  \n",
       "22  <tensorflow.python.keras.engine.sequential.Seq...  -0.026315  \n",
       "23  <tensorflow.python.keras.engine.sequential.Seq...   0.014054  \n",
       "24  <tensorflow.python.keras.engine.sequential.Seq...  -0.118544  \n",
       "25  <tensorflow.python.keras.engine.sequential.Seq...  -0.068089  \n",
       "26  <tensorflow.python.keras.engine.sequential.Seq...  -0.075222  \n",
       "27  <tensorflow.python.keras.engine.sequential.Seq...   0.006902  \n",
       "28  <tensorflow.python.keras.engine.sequential.Seq...  -0.000435  \n",
       "29  <tensorflow.python.keras.engine.sequential.Seq...  -0.047111  \n",
       "30  <tensorflow.python.keras.engine.sequential.Seq...  -0.098430  \n",
       "31  <tensorflow.python.keras.engine.sequential.Seq...  -0.008336  \n",
       "32  <tensorflow.python.keras.engine.sequential.Seq...  -0.109203  \n",
       "33  <tensorflow.python.keras.engine.sequential.Seq...   0.080735  \n",
       "34  <tensorflow.python.keras.engine.sequential.Seq...  -0.025271  \n",
       "35  <tensorflow.python.keras.engine.sequential.Seq...   0.025888  \n",
       "36  <tensorflow.python.keras.engine.sequential.Seq...  -0.104977  \n",
       "37  <tensorflow.python.keras.engine.sequential.Seq...  -0.006741  \n",
       "38  <tensorflow.python.keras.engine.sequential.Seq...  -0.052315  \n",
       "39  <tensorflow.python.keras.engine.sequential.Seq...  -0.003426  \n",
       "40  <tensorflow.python.keras.engine.sequential.Seq...   0.112825  \n",
       "41  <tensorflow.python.keras.engine.sequential.Seq...  -0.011749  \n",
       "42  <tensorflow.python.keras.engine.sequential.Seq...   0.116878  \n",
       "43  <tensorflow.python.keras.engine.sequential.Seq...  -0.033858  \n",
       "44  <tensorflow.python.keras.engine.sequential.Seq...  -0.024064  \n",
       "45  <tensorflow.python.keras.engine.sequential.Seq...  -0.060757  \n",
       "46  <tensorflow.python.keras.engine.sequential.Seq...  -0.065416  \n",
       "47  <tensorflow.python.keras.engine.sequential.Seq...  -0.013914  "
      ]
     },
     "execution_count": 146,
     "metadata": {},
     "output_type": "execute_result"
    }
   ],
   "source": [
    "busca_rna = pd.DataFrame(list(zip(lst_nnc1, lst_dc1, lst_nnc2, auc_train, auc_test, lst_models)), \n",
    "                        columns=['Num Neuronios C1', 'Dropout C1',\n",
    "                                 'Num Neuronios C2',\n",
    "                                 'AUC Train', 'AUC Test', \n",
    "                                 'Modelo'\n",
    "                                ])\n",
    "busca_rna['Diferença'] = busca_rna['AUC Test'] - busca_rna['AUC Train']\n",
    "busca_rna"
   ]
  },
  {
   "cell_type": "code",
   "execution_count": 147,
   "metadata": {},
   "outputs": [],
   "source": [
    "def analise_hiperparametro(hp, busca):\n",
    "    matplotlib.use('module://ipykernel.pylab.backend_inline')\n",
    "    sns.set()\n",
    "\n",
    "    fig, axes = plt.subplots(1, 2, figsize=(9, 4))\n",
    "    fig.suptitle(t='Análise do Hiperparâmetro: '+hp, fontsize=12)\n",
    "\n",
    "    sns.lineplot(ax=axes[0], x=busca[hp], y=busca['AUC Train'])\n",
    "    sns.lineplot(ax=axes[0], x=busca[hp], y=busca['AUC Test'])\n",
    "    axes[0].legend(labels=['Treino', 'Teste'])\n",
    "\n",
    "    sns.lineplot(ax=axes[1], x=busca[hp], y=busca['Diferença'])\n",
    "\n",
    "    fig.tight_layout()    "
   ]
  },
  {
   "cell_type": "code",
   "execution_count": 148,
   "metadata": {},
   "outputs": [
    {
     "data": {
      "image/png": "[encoded data removed]",
      "text/plain": [
       "<Figure size 648x288 with 2 Axes>"
      ]
     },
     "metadata": {},
     "output_type": "display_data"
    }
   ],
   "source": [
    "analise_hiperparametro('Num Neuronios C1', busca_rna)"
   ]
  },
  {
   "cell_type": "code",
   "execution_count": 149,
   "metadata": {},
   "outputs": [
    {
     "data": {
      "image/png": "[encoded data removed]",
      "text/plain": [
       "<Figure size 648x288 with 2 Axes>"
      ]
     },
     "metadata": {},
     "output_type": "display_data"
    }
   ],
   "source": [
    "analise_hiperparametro('Num Neuronios C2', busca_rna)"
   ]
  },
  {
   "cell_type": "code",
   "execution_count": 150,
   "metadata": {},
   "outputs": [
    {
     "data": {
      "image/png": "[encoded data removed]",
      "text/plain": [
       "<Figure size 648x288 with 2 Axes>"
      ]
     },
     "metadata": {},
     "output_type": "display_data"
    }
   ],
   "source": [
    "analise_hiperparametro('Dropout C1', busca_rna)"
   ]
  },
  {
   "cell_type": "code",
   "execution_count": 151,
   "metadata": {},
   "outputs": [
    {
     "data": {
      "image/png": "[encoded data removed]",
      "text/plain": [
       "<Figure size 432x288 with 1 Axes>"
      ]
     },
     "metadata": {},
     "output_type": "display_data"
    }
   ],
   "source": [
    "desemp_graf = sns.scatterplot(busca_rna['AUC Test'], \n",
    "                              busca_rna['Diferença'])\n",
    "ax1 = desemp_graf.axes\n",
    "ax1.axhline( 0, color='black', ls='--', linewidth = 1)\n",
    "ax1.axhline(-0.05, color='black', ls='--', linewidth = 1)\n",
    "ax1.axhline( 0.05, color='black', ls='--', linewidth = 1)\n",
    "plt.show()"
   ]
  },
  {
   "cell_type": "code",
   "execution_count": 152,
   "metadata": {},
   "outputs": [
    {
     "data": {
      "text/html": [
       "<div>\n",
       "<style scoped>\n",
       "    .dataframe tbody tr th:only-of-type {\n",
       "        vertical-align: middle;\n",
       "    }\n",
       "\n",
       "    .dataframe tbody tr th {\n",
       "        vertical-align: top;\n",
       "    }\n",
       "\n",
       "    .dataframe thead th {\n",
       "        text-align: right;\n",
       "    }\n",
       "</style>\n",
       "<table border=\"1\" class=\"dataframe\">\n",
       "  <thead>\n",
       "    <tr style=\"text-align: right;\">\n",
       "      <th></th>\n",
       "      <th>Num Neuronios C1</th>\n",
       "      <th>Dropout C1</th>\n",
       "      <th>Num Neuronios C2</th>\n",
       "      <th>AUC Train</th>\n",
       "      <th>AUC Test</th>\n",
       "      <th>Modelo</th>\n",
       "      <th>Diferença</th>\n",
       "    </tr>\n",
       "  </thead>\n",
       "  <tbody>\n",
       "    <tr>\n",
       "      <th>31</th>\n",
       "      <td>3</td>\n",
       "      <td>0.1</td>\n",
       "      <td>4</td>\n",
       "      <td>0.893597</td>\n",
       "      <td>0.885261</td>\n",
       "      <td>&lt;tensorflow.python.keras.engine.sequential.Seq...</td>\n",
       "      <td>-0.008336</td>\n",
       "    </tr>\n",
       "    <tr>\n",
       "      <th>17</th>\n",
       "      <td>2</td>\n",
       "      <td>0.1</td>\n",
       "      <td>2</td>\n",
       "      <td>0.909051</td>\n",
       "      <td>0.903296</td>\n",
       "      <td>&lt;tensorflow.python.keras.engine.sequential.Seq...</td>\n",
       "      <td>-0.005755</td>\n",
       "    </tr>\n",
       "    <tr>\n",
       "      <th>13</th>\n",
       "      <td>2</td>\n",
       "      <td>0.0</td>\n",
       "      <td>2</td>\n",
       "      <td>0.891825</td>\n",
       "      <td>0.898943</td>\n",
       "      <td>&lt;tensorflow.python.keras.engine.sequential.Seq...</td>\n",
       "      <td>0.007118</td>\n",
       "    </tr>\n",
       "    <tr>\n",
       "      <th>23</th>\n",
       "      <td>2</td>\n",
       "      <td>0.2</td>\n",
       "      <td>4</td>\n",
       "      <td>0.871829</td>\n",
       "      <td>0.885883</td>\n",
       "      <td>&lt;tensorflow.python.keras.engine.sequential.Seq...</td>\n",
       "      <td>0.014054</td>\n",
       "    </tr>\n",
       "    <tr>\n",
       "      <th>35</th>\n",
       "      <td>3</td>\n",
       "      <td>0.2</td>\n",
       "      <td>4</td>\n",
       "      <td>0.897308</td>\n",
       "      <td>0.923196</td>\n",
       "      <td>&lt;tensorflow.python.keras.engine.sequential.Seq...</td>\n",
       "      <td>0.025888</td>\n",
       "    </tr>\n",
       "  </tbody>\n",
       "</table>\n",
       "</div>"
      ],
      "text/plain": [
       "    Num Neuronios C1  Dropout C1  Num Neuronios C2  AUC Train  AUC Test  \\\n",
       "31                 3         0.1                 4   0.893597  0.885261   \n",
       "17                 2         0.1                 2   0.909051  0.903296   \n",
       "13                 2         0.0                 2   0.891825  0.898943   \n",
       "23                 2         0.2                 4   0.871829  0.885883   \n",
       "35                 3         0.2                 4   0.897308  0.923196   \n",
       "\n",
       "                                               Modelo  Diferença  \n",
       "31  <tensorflow.python.keras.engine.sequential.Seq...  -0.008336  \n",
       "17  <tensorflow.python.keras.engine.sequential.Seq...  -0.005755  \n",
       "13  <tensorflow.python.keras.engine.sequential.Seq...   0.007118  \n",
       "23  <tensorflow.python.keras.engine.sequential.Seq...   0.014054  \n",
       "35  <tensorflow.python.keras.engine.sequential.Seq...   0.025888  "
      ]
     },
     "execution_count": 152,
     "metadata": {},
     "output_type": "execute_result"
    }
   ],
   "source": [
    "busca_rna.loc[\n",
    "    (busca_rna['Diferença'] > -0.05) &\n",
    "    (busca_rna['Diferença'] <  0.05) &\n",
    "    (busca_rna['AUC Test'] > 0.88)\n",
    "    ].sort_values(by=['Diferença', 'AUC Test', 'Num Neuronios C1', 'Num Neuronios C2'],\n",
    "                  ascending=[True, False, True, True])"
   ]
  },
  {
   "cell_type": "markdown",
   "metadata": {},
   "source": [
    "## Estimação do Risco de Doença Cardíaca de um novo paciente"
   ]
  },
  {
   "attachments": {
    "f3cf383a-a323-4452-ba6f-e2f22b8c3abd.png": {
     "image/png": "[encoded data removed]"
    }
   },
   "cell_type": "markdown",
   "metadata": {},
   "source": [
    "![image.png](attachment:f3cf383a-a323-4452-ba6f-e2f22b8c3abd.png)"
   ]
  },
  {
   "cell_type": "code",
   "execution_count": 153,
   "metadata": {},
   "outputs": [
    {
     "data": {
      "text/html": [
       "<div>\n",
       "<style scoped>\n",
       "    .dataframe tbody tr th:only-of-type {\n",
       "        vertical-align: middle;\n",
       "    }\n",
       "\n",
       "    .dataframe tbody tr th {\n",
       "        vertical-align: top;\n",
       "    }\n",
       "\n",
       "    .dataframe thead th {\n",
       "        text-align: right;\n",
       "    }\n",
       "</style>\n",
       "<table border=\"1\" class=\"dataframe\">\n",
       "  <thead>\n",
       "    <tr style=\"text-align: right;\">\n",
       "      <th></th>\n",
       "      <th>age</th>\n",
       "      <th>sex</th>\n",
       "      <th>cp</th>\n",
       "      <th>trestbps</th>\n",
       "      <th>chol</th>\n",
       "      <th>fbs</th>\n",
       "      <th>restecg</th>\n",
       "      <th>thalach</th>\n",
       "      <th>exang</th>\n",
       "      <th>oldpeak</th>\n",
       "      <th>slope</th>\n",
       "      <th>ca</th>\n",
       "      <th>thal</th>\n",
       "    </tr>\n",
       "  </thead>\n",
       "  <tbody>\n",
       "    <tr>\n",
       "      <th>0</th>\n",
       "      <td>35</td>\n",
       "      <td>0</td>\n",
       "      <td>1</td>\n",
       "      <td>123</td>\n",
       "      <td>280</td>\n",
       "      <td>0</td>\n",
       "      <td>1</td>\n",
       "      <td>162</td>\n",
       "      <td>1</td>\n",
       "      <td>1.8</td>\n",
       "      <td>2</td>\n",
       "      <td>2</td>\n",
       "      <td>normal</td>\n",
       "    </tr>\n",
       "  </tbody>\n",
       "</table>\n",
       "</div>"
      ],
      "text/plain": [
       "   age  sex  cp  trestbps  chol  fbs  restecg  thalach  exang  oldpeak  slope  \\\n",
       "0   35    0   1       123   280    0        1      162      1      1.8      2   \n",
       "\n",
       "   ca    thal  \n",
       "0   2  normal  "
      ]
     },
     "execution_count": 153,
     "metadata": {},
     "output_type": "execute_result"
    }
   ],
   "source": [
    "df_paciente = pd.DataFrame.from_dict({'age':[35],\n",
    "                                      'sex':[0],\n",
    "                                      'cp':[1],\n",
    "                                      'trestbps':[123],\n",
    "                                      'chol':[280],\n",
    "                                      'fbs':[0],\n",
    "                                      'restecg':[1],\n",
    "                                      'thalach':[162],\n",
    "                                      'exang':[1],\n",
    "                                      'oldpeak':[1.8],\n",
    "                                      'slope':[2],\n",
    "                                      'ca':[2],\n",
    "                                      'thal':['normal']\n",
    "                                     })\n",
    "\n",
    "df_paciente"
   ]
  },
  {
   "cell_type": "code",
   "execution_count": 154,
   "metadata": {},
   "outputs": [],
   "source": [
    "def prepara_x(df, x_cat_enc, x_scaler):\n",
    "    \n",
    "    # Conversão de variáveis numéricas em categóricas\n",
    "    df['cp'] = df['cp'].astype(object)\n",
    "    df['restecg'] = df['restecg'].astype(object)\n",
    "    df['ca_cat'] = df['ca'].astype(object)\n",
    "\n",
    "    # Features (variáveis explicativas)\n",
    "    # Variáveis Numéricas\n",
    "    x_var_num = [\n",
    "        'age', 'sex', 'trestbps', 'chol', 'fbs', 'thalach',\n",
    "         'exang', 'oldpeak', 'slope', 'ca',\n",
    "        ]\n",
    "    x_num = df[x_var_num].to_numpy()\n",
    "\n",
    "    # Variáveis Categóricas / Qualitativas\n",
    "    x_var_cat = ['cp', 'restecg', 'thal', 'ca_cat']\n",
    "    x_cat = df[x_var_cat]\n",
    "\n",
    "    # Criação das variáveis dummies para variáveis categóricas\n",
    "    x_cat = x_cat_enc.transform(x_cat).toarray()\n",
    "\n",
    "    # Unificação da base de dados\n",
    "    x = np.concatenate([x_num, x_cat], axis=1)\n",
    "\n",
    "    x_scaled = x_scaler.transform(x)\n",
    "    \n",
    "    return x_scaled"
   ]
  },
  {
   "cell_type": "code",
   "execution_count": 158,
   "metadata": {},
   "outputs": [
    {
     "data": {
      "text/plain": [
       "[array([0, 1, 2, 3, 4], dtype=object),\n",
       " array([0, 1, 2], dtype=object),\n",
       " array(['1', '2', 'fixed', 'normal', 'reversible'], dtype=object),\n",
       " array([0, 1, 2, 3], dtype=object)]"
      ]
     },
     "execution_count": 158,
     "metadata": {},
     "output_type": "execute_result"
    }
   ],
   "source": [
    "x_cat_enc.categories_"
   ]
  },
  {
   "cell_type": "code",
   "execution_count": 164,
   "metadata": {},
   "outputs": [
    {
     "data": {
      "text/plain": [
       "array([8.10782084e+01, 2.16157885e-01, 3.18980843e+02, 2.50722114e+03,\n",
       "       1.31430224e-01, 5.52119326e+02, 2.21164115e-01, 1.31632876e+00,\n",
       "       4.03168387e-01, 8.80562478e-01, 9.34496262e-03, 7.37584550e-02,\n",
       "       1.47116412e-01, 1.94375222e-01, 2.48909754e-01, 2.49644001e-01,\n",
       "       9.34496262e-03, 2.49199003e-01, 4.69473122e-03, 4.69473122e-03,\n",
       "       6.16767533e-02, 2.47775009e-01, 2.34959060e-01, 2.44993770e-01,\n",
       "       1.75151299e-01, 1.18080278e-01, 6.16767533e-02])"
      ]
     },
     "execution_count": 164,
     "metadata": {},
     "output_type": "execute_result"
    }
   ],
   "source": [
    "x_scaler.var_"
   ]
  },
  {
   "cell_type": "code",
   "execution_count": 155,
   "metadata": {},
   "outputs": [
    {
     "data": {
      "text/plain": [
       "array([[-2.13471391, -1.47111492, -0.50788001,  0.63860667, -0.42936877,\n",
       "         0.52816366,  1.42427927,  0.66685714,  0.65373777,  1.38737266,\n",
       "        -0.09759001,  3.38682569, -0.46732302, -0.59914469, -0.93600545,\n",
       "        -1.0384755 , 10.24695077, -0.94491118, -0.06884284, -0.06884284,\n",
       "        -0.26590801,  0.90971765, -0.77849894, -1.15311332, -0.54100178,\n",
       "         2.51203997, -0.26590801]])"
      ]
     },
     "execution_count": 155,
     "metadata": {},
     "output_type": "execute_result"
    }
   ],
   "source": [
    "x_paciente = prepara_x(df_paciente, x_cat_enc, x_scaler)\n",
    "x_paciente"
   ]
  },
  {
   "cell_type": "code",
   "execution_count": 165,
   "metadata": {},
   "outputs": [],
   "source": [
    "modelo_selecionado = busca_rna.iloc[35]['Modelo']"
   ]
  },
  {
   "cell_type": "code",
   "execution_count": 169,
   "metadata": {},
   "outputs": [
    {
     "data": {
      "text/plain": [
       "[<tensorflow.python.keras.metrics.Mean at 0x1b751b710a0>,\n",
       " <tensorflow.python.keras.metrics.AUC at 0x1b751b66d00>]"
      ]
     },
     "execution_count": 169,
     "metadata": {},
     "output_type": "execute_result"
    }
   ],
   "source": [
    "modelo_selecionado.metrics"
   ]
  },
  {
   "cell_type": "code",
   "execution_count": 170,
   "metadata": {},
   "outputs": [
    {
     "data": {
      "text/plain": [
       "array([[0.4721195]], dtype=float32)"
      ]
     },
     "execution_count": 170,
     "metadata": {},
     "output_type": "execute_result"
    }
   ],
   "source": [
    "modelo_selecionado.predict(x_paciente)"
   ]
  },
  {
   "cell_type": "code",
   "execution_count": null,
   "metadata": {},
   "outputs": [],
   "source": []
  }
 ],
 "metadata": {
  "kernelspec": {
   "display_name": "Python 3",
   "language": "python",
   "name": "python3"
  },
  "language_info": {
   "codemirror_mode": {
    "name": "ipython",
    "version": 3
   },
   "file_extension": ".py",
   "mimetype": "text/x-python",
   "name": "python",
   "nbconvert_exporter": "python",
   "pygments_lexer": "ipython3",
   "version": "3.8.3"
  },
  "toc-autonumbering": true
 },
 "nbformat": 4,
 "nbformat_minor": 4
}
