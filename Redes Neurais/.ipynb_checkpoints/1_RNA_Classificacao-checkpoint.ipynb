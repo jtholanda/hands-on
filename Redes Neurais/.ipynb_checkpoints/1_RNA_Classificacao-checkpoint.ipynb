{
 "cells": [
  {
   "cell_type": "markdown",
   "metadata": {},
   "source": [
    "<img src=\"https://s3-sa-east-1.amazonaws.com/preditiva.ai/diversos/preditiva_assinatura.jpg\">\n",
    "\n",
    "# Redes Neurais Artificiais: Risco de Doença Cardíaca\n",
    "\n",
    "[Cleveland Clinic Foundation](https://www.kaggle.com/datasets/johnsmith88/heart-disease-dataset)"
   ]
  },
  {
   "cell_type": "markdown",
   "metadata": {},
   "source": [
    "## Importação das bibliotecas"
   ]
  },
  {
   "cell_type": "code",
   "execution_count": 1,
   "metadata": {},
   "outputs": [],
   "source": [
    "# Pacotes de preparação dos dados\n",
    "import numpy as np\n",
    "import pandas as pd\n",
    "import scipy\n",
    "\n",
    "# Pacotes gráficos\n",
    "%matplotlib inline\n",
    "import matplotlib\n",
    "import matplotlib.pyplot as plt\n",
    "import seaborn as sns\n",
    "\n",
    "# Pacotes de modelagem\n",
    "from sklearn.preprocessing import OneHotEncoder\n",
    "from sklearn.preprocessing import StandardScaler\n",
    "\n",
    "import tensorflow as tf\n",
    "gpus = tf.config.experimental.list_physical_devices('GPU')\n",
    "for gpu in gpus:\n",
    "    tf.config.experimental.set_memory_growth(gpu, True)\n",
    "from tensorflow import keras\n",
    "from tensorflow.keras import layers\n",
    "\n",
    "# Funções customizadas\n",
    "import preditiva"
   ]
  },
  {
   "cell_type": "markdown",
   "metadata": {},
   "source": [
    "## Importação da base de dados"
   ]
  },
  {
   "cell_type": "code",
   "execution_count": 2,
   "metadata": {},
   "outputs": [
    {
     "data": {
      "text/html": [
       "<div>\n",
       "<style scoped>\n",
       "    .dataframe tbody tr th:only-of-type {\n",
       "        vertical-align: middle;\n",
       "    }\n",
       "\n",
       "    .dataframe tbody tr th {\n",
       "        vertical-align: top;\n",
       "    }\n",
       "\n",
       "    .dataframe thead th {\n",
       "        text-align: right;\n",
       "    }\n",
       "</style>\n",
       "<table border=\"1\" class=\"dataframe\">\n",
       "  <thead>\n",
       "    <tr style=\"text-align: right;\">\n",
       "      <th></th>\n",
       "      <th>age</th>\n",
       "      <th>sex</th>\n",
       "      <th>cp</th>\n",
       "      <th>trestbps</th>\n",
       "      <th>chol</th>\n",
       "      <th>fbs</th>\n",
       "      <th>restecg</th>\n",
       "      <th>thalach</th>\n",
       "      <th>exang</th>\n",
       "      <th>oldpeak</th>\n",
       "      <th>slope</th>\n",
       "      <th>ca</th>\n",
       "      <th>thal</th>\n",
       "      <th>target</th>\n",
       "    </tr>\n",
       "  </thead>\n",
       "  <tbody>\n",
       "    <tr>\n",
       "      <th>0</th>\n",
       "      <td>63</td>\n",
       "      <td>1</td>\n",
       "      <td>1</td>\n",
       "      <td>145</td>\n",
       "      <td>233</td>\n",
       "      <td>1</td>\n",
       "      <td>2</td>\n",
       "      <td>150</td>\n",
       "      <td>0</td>\n",
       "      <td>2.3</td>\n",
       "      <td>3</td>\n",
       "      <td>0</td>\n",
       "      <td>fixed</td>\n",
       "      <td>0</td>\n",
       "    </tr>\n",
       "    <tr>\n",
       "      <th>1</th>\n",
       "      <td>67</td>\n",
       "      <td>1</td>\n",
       "      <td>4</td>\n",
       "      <td>160</td>\n",
       "      <td>286</td>\n",
       "      <td>0</td>\n",
       "      <td>2</td>\n",
       "      <td>108</td>\n",
       "      <td>1</td>\n",
       "      <td>1.5</td>\n",
       "      <td>2</td>\n",
       "      <td>3</td>\n",
       "      <td>normal</td>\n",
       "      <td>1</td>\n",
       "    </tr>\n",
       "    <tr>\n",
       "      <th>2</th>\n",
       "      <td>67</td>\n",
       "      <td>1</td>\n",
       "      <td>4</td>\n",
       "      <td>120</td>\n",
       "      <td>229</td>\n",
       "      <td>0</td>\n",
       "      <td>2</td>\n",
       "      <td>129</td>\n",
       "      <td>1</td>\n",
       "      <td>2.6</td>\n",
       "      <td>2</td>\n",
       "      <td>2</td>\n",
       "      <td>reversible</td>\n",
       "      <td>0</td>\n",
       "    </tr>\n",
       "    <tr>\n",
       "      <th>3</th>\n",
       "      <td>37</td>\n",
       "      <td>1</td>\n",
       "      <td>3</td>\n",
       "      <td>130</td>\n",
       "      <td>250</td>\n",
       "      <td>0</td>\n",
       "      <td>0</td>\n",
       "      <td>187</td>\n",
       "      <td>0</td>\n",
       "      <td>3.5</td>\n",
       "      <td>3</td>\n",
       "      <td>0</td>\n",
       "      <td>normal</td>\n",
       "      <td>0</td>\n",
       "    </tr>\n",
       "    <tr>\n",
       "      <th>4</th>\n",
       "      <td>41</td>\n",
       "      <td>0</td>\n",
       "      <td>2</td>\n",
       "      <td>130</td>\n",
       "      <td>204</td>\n",
       "      <td>0</td>\n",
       "      <td>2</td>\n",
       "      <td>172</td>\n",
       "      <td>0</td>\n",
       "      <td>1.4</td>\n",
       "      <td>1</td>\n",
       "      <td>0</td>\n",
       "      <td>normal</td>\n",
       "      <td>0</td>\n",
       "    </tr>\n",
       "  </tbody>\n",
       "</table>\n",
       "</div>"
      ],
      "text/plain": [
       "   age  sex  cp  trestbps  chol  fbs  restecg  thalach  exang  oldpeak  slope  \\\n",
       "0   63    1   1       145   233    1        2      150      0      2.3      3   \n",
       "1   67    1   4       160   286    0        2      108      1      1.5      2   \n",
       "2   67    1   4       120   229    0        2      129      1      2.6      2   \n",
       "3   37    1   3       130   250    0        0      187      0      3.5      3   \n",
       "4   41    0   2       130   204    0        2      172      0      1.4      1   \n",
       "\n",
       "   ca        thal  target  \n",
       "0   0       fixed       0  \n",
       "1   3      normal       1  \n",
       "2   2  reversible       0  \n",
       "3   0      normal       0  \n",
       "4   0      normal       0  "
      ]
     },
     "execution_count": 2,
     "metadata": {},
     "output_type": "execute_result"
    }
   ],
   "source": [
    "file_url = \"http://storage.googleapis.com/download.tensorflow.org/data/heart.csv\"\n",
    "df = pd.read_csv(file_url)\n",
    "df.head()"
   ]
  },
  {
   "attachments": {
    "dfaf8138-e734-4129-b108-61258b21b134.png": {
     "image/png": "[encoded data removed]"
    }
   },
   "cell_type": "markdown",
   "metadata": {},
   "source": [
    "![image.png](attachment:dfaf8138-e734-4129-b108-61258b21b134.png)"
   ]
  },
  {
   "cell_type": "markdown",
   "metadata": {
    "tags": []
   },
   "source": [
    "## Preparação dos Dados"
   ]
  },
  {
   "cell_type": "markdown",
   "metadata": {
    "tags": []
   },
   "source": [
    "### Missing Values"
   ]
  },
  {
   "cell_type": "code",
   "execution_count": 3,
   "metadata": {
    "tags": []
   },
   "outputs": [
    {
     "data": {
      "text/plain": [
       "age         0\n",
       "sex         0\n",
       "cp          0\n",
       "trestbps    0\n",
       "chol        0\n",
       "fbs         0\n",
       "restecg     0\n",
       "thalach     0\n",
       "exang       0\n",
       "oldpeak     0\n",
       "slope       0\n",
       "ca          0\n",
       "thal        0\n",
       "target      0\n",
       "dtype: int64"
      ]
     },
     "execution_count": 3,
     "metadata": {},
     "output_type": "execute_result"
    }
   ],
   "source": [
    "df.isnull().sum()"
   ]
  },
  {
   "cell_type": "markdown",
   "metadata": {
    "tags": []
   },
   "source": [
    "### Duplicações"
   ]
  },
  {
   "cell_type": "code",
   "execution_count": 4,
   "metadata": {
    "tags": []
   },
   "outputs": [
    {
     "data": {
      "text/plain": [
       "0"
      ]
     },
     "execution_count": 4,
     "metadata": {},
     "output_type": "execute_result"
    }
   ],
   "source": [
    "df.duplicated().sum()"
   ]
  },
  {
   "cell_type": "markdown",
   "metadata": {},
   "source": [
    "### Tipos de Variáveis"
   ]
  },
  {
   "cell_type": "code",
   "execution_count": 5,
   "metadata": {},
   "outputs": [
    {
     "name": "stdout",
     "output_type": "stream",
     "text": [
      "<class 'pandas.core.frame.DataFrame'>\n",
      "RangeIndex: 303 entries, 0 to 302\n",
      "Data columns (total 14 columns):\n",
      " #   Column    Non-Null Count  Dtype  \n",
      "---  ------    --------------  -----  \n",
      " 0   age       303 non-null    int64  \n",
      " 1   sex       303 non-null    int64  \n",
      " 2   cp        303 non-null    int64  \n",
      " 3   trestbps  303 non-null    int64  \n",
      " 4   chol      303 non-null    int64  \n",
      " 5   fbs       303 non-null    int64  \n",
      " 6   restecg   303 non-null    int64  \n",
      " 7   thalach   303 non-null    int64  \n",
      " 8   exang     303 non-null    int64  \n",
      " 9   oldpeak   303 non-null    float64\n",
      " 10  slope     303 non-null    int64  \n",
      " 11  ca        303 non-null    int64  \n",
      " 12  thal      303 non-null    object \n",
      " 13  target    303 non-null    int64  \n",
      "dtypes: float64(1), int64(12), object(1)\n",
      "memory usage: 33.3+ KB\n"
     ]
    }
   ],
   "source": [
    "df.info()"
   ]
  },
  {
   "cell_type": "code",
   "execution_count": 6,
   "metadata": {},
   "outputs": [],
   "source": [
    "# Conversão de variáveis numéricas em categóricas\n",
    "df['cp'] = df['cp'].astype(object)\n",
    "df['restecg'] = df['restecg'].astype(object)\n",
    "df['ca_cat'] = df['ca'].astype(object)"
   ]
  },
  {
   "cell_type": "code",
   "execution_count": 7,
   "metadata": {},
   "outputs": [
    {
     "name": "stdout",
     "output_type": "stream",
     "text": [
      "<class 'pandas.core.frame.DataFrame'>\n",
      "RangeIndex: 303 entries, 0 to 302\n",
      "Data columns (total 15 columns):\n",
      " #   Column    Non-Null Count  Dtype  \n",
      "---  ------    --------------  -----  \n",
      " 0   age       303 non-null    int64  \n",
      " 1   sex       303 non-null    int64  \n",
      " 2   cp        303 non-null    object \n",
      " 3   trestbps  303 non-null    int64  \n",
      " 4   chol      303 non-null    int64  \n",
      " 5   fbs       303 non-null    int64  \n",
      " 6   restecg   303 non-null    object \n",
      " 7   thalach   303 non-null    int64  \n",
      " 8   exang     303 non-null    int64  \n",
      " 9   oldpeak   303 non-null    float64\n",
      " 10  slope     303 non-null    int64  \n",
      " 11  ca        303 non-null    int64  \n",
      " 12  thal      303 non-null    object \n",
      " 13  target    303 non-null    int64  \n",
      " 14  ca_cat    303 non-null    object \n",
      "dtypes: float64(1), int64(10), object(4)\n",
      "memory usage: 35.6+ KB\n"
     ]
    }
   ],
   "source": [
    "df.info()"
   ]
  },
  {
   "cell_type": "markdown",
   "metadata": {
    "tags": []
   },
   "source": [
    "## Análise Exploratória dos Dados"
   ]
  },
  {
   "cell_type": "markdown",
   "metadata": {},
   "source": [
    "### Dispersão por Classe"
   ]
  },
  {
   "cell_type": "code",
   "execution_count": null,
   "metadata": {},
   "outputs": [],
   "source": [
    "matplotlib.use('module://ipykernel.pylab.backend_inline')\n",
    "sns.pairplot(df, hue='target');"
   ]
  },
  {
   "cell_type": "markdown",
   "metadata": {},
   "source": [
    "### Relatórios Pandas Profiling e SweetViz"
   ]
  },
  {
   "cell_type": "code",
   "execution_count": 8,
   "metadata": {},
   "outputs": [
    {
     "data": {
      "application/vnd.jupyter.widget-view+json": {
       "model_id": "a054eb166c3d42dfb37fde3629b25863",
       "version_major": 2,
       "version_minor": 0
      },
      "text/plain": [
       "HBox(children=(FloatProgress(value=0.0, description='Summarize dataset', max=5.0, style=ProgressStyle(descript…"
      ]
     },
     "metadata": {},
     "output_type": "display_data"
    },
    {
     "name": "stdout",
     "output_type": "stream",
     "text": [
      "\n"
     ]
    },
    {
     "data": {
      "application/vnd.jupyter.widget-view+json": {
       "model_id": "a4ff396c1e8c46f390842591f2973994",
       "version_major": 2,
       "version_minor": 0
      },
      "text/plain": [
       "HBox(children=(FloatProgress(value=0.0, description='Generate report structure', max=1.0, style=ProgressStyle(…"
      ]
     },
     "metadata": {},
     "output_type": "display_data"
    },
    {
     "name": "stdout",
     "output_type": "stream",
     "text": [
      "\n"
     ]
    },
    {
     "data": {
      "application/vnd.jupyter.widget-view+json": {
       "model_id": "c043d28c3f184e7ba01aa9bbcf517c83",
       "version_major": 2,
       "version_minor": 0
      },
      "text/plain": [
       "HBox(children=(FloatProgress(value=0.0, description='Render HTML', max=1.0, style=ProgressStyle(description_wi…"
      ]
     },
     "metadata": {},
     "output_type": "display_data"
    },
    {
     "name": "stdout",
     "output_type": "stream",
     "text": [
      "\n"
     ]
    },
    {
     "data": {
      "application/vnd.jupyter.widget-view+json": {
       "model_id": "f84da68061474bdfa8d15f5b02d64a02",
       "version_major": 2,
       "version_minor": 0
      },
      "text/plain": [
       "HBox(children=(FloatProgress(value=0.0, description='Export report to file', max=1.0, style=ProgressStyle(desc…"
      ]
     },
     "metadata": {},
     "output_type": "display_data"
    },
    {
     "name": "stderr",
     "output_type": "stream",
     "text": [
      ":TARGET::                          |█▎                   | [  6%]   00:00  -> (00:00 left)"
     ]
    },
    {
     "name": "stdout",
     "output_type": "stream",
     "text": [
      "\n"
     ]
    },
    {
     "name": "stderr",
     "output_type": "stream",
     "text": [
      ":FEATURES DONE:                    |█████████████████████| [100%]   00:03  -> (00:00 left)\n",
      ":PAIRWISE DONE:                    |█████████████████████| [100%]   00:00  -> (00:00 left)\n"
     ]
    },
    {
     "name": "stdout",
     "output_type": "stream",
     "text": [
      "Creating Associations graph... DONE!\n",
      "Report base_aed_sv.html was generated! NOTEBOOK/COLAB USERS: no browser will pop up, the report is saved in your notebook/colab files.\n"
     ]
    }
   ],
   "source": [
    "perfil_pp, perfil_sv = preditiva.gera_relatorios_aed(df=df,\n",
    "                                                     target_feat='target')\n",
    "sns.reset_defaults()"
   ]
  },
  {
   "cell_type": "markdown",
   "metadata": {},
   "source": [
    "## Desenvolvimento dos Modelos\n",
    "Para desenvolvermos as Redes Neurais Artificiais utilizaremos uma das bibliotecas mais populares: [Tensorflow](https://www.tensorflow.org/?hl=pt-br)"
   ]
  },
  {
   "cell_type": "markdown",
   "metadata": {},
   "source": [
    "### Definição do *Target* e das *Features*"
   ]
  },
  {
   "cell_type": "code",
   "execution_count": 9,
   "metadata": {},
   "outputs": [
    {
     "name": "stdout",
     "output_type": "stream",
     "text": [
      "<class 'pandas.core.frame.DataFrame'>\n",
      "RangeIndex: 303 entries, 0 to 302\n",
      "Data columns (total 15 columns):\n",
      " #   Column    Non-Null Count  Dtype  \n",
      "---  ------    --------------  -----  \n",
      " 0   age       303 non-null    int64  \n",
      " 1   sex       303 non-null    int64  \n",
      " 2   cp        303 non-null    object \n",
      " 3   trestbps  303 non-null    int64  \n",
      " 4   chol      303 non-null    int64  \n",
      " 5   fbs       303 non-null    int64  \n",
      " 6   restecg   303 non-null    object \n",
      " 7   thalach   303 non-null    int64  \n",
      " 8   exang     303 non-null    int64  \n",
      " 9   oldpeak   303 non-null    float64\n",
      " 10  slope     303 non-null    int64  \n",
      " 11  ca        303 non-null    int64  \n",
      " 12  thal      303 non-null    object \n",
      " 13  target    303 non-null    int64  \n",
      " 14  ca_cat    303 non-null    object \n",
      "dtypes: float64(1), int64(10), object(4)\n",
      "memory usage: 35.6+ KB\n"
     ]
    }
   ],
   "source": [
    "df.info()"
   ]
  },
  {
   "cell_type": "code",
   "execution_count": 10,
   "metadata": {},
   "outputs": [],
   "source": [
    "# Target (variável resposta)\n",
    "y_var = 'target'\n",
    "y = df[y_var]\n",
    "\n",
    "# Features (variáveis explicativas)\n",
    "# Variáveis Numéricas\n",
    "x_var_num = [\n",
    "    'age', 'sex', 'trestbps', 'chol', 'fbs', 'thalach',\n",
    "     'exang', 'oldpeak', 'slope', 'ca',\n",
    "    ]\n",
    "x_num = df[x_var_num].to_numpy()\n",
    "\n",
    "# Variáveis Categóricas / Qualitativas\n",
    "x_var_cat = ['cp', 'restecg', 'thal', 'ca_cat']\n",
    "x_cat = df[x_var_cat]"
   ]
  },
  {
   "cell_type": "markdown",
   "metadata": {},
   "source": [
    "### Pré-processamento"
   ]
  },
  {
   "cell_type": "code",
   "execution_count": 11,
   "metadata": {},
   "outputs": [
    {
     "data": {
      "text/html": [
       "<div>\n",
       "<style scoped>\n",
       "    .dataframe tbody tr th:only-of-type {\n",
       "        vertical-align: middle;\n",
       "    }\n",
       "\n",
       "    .dataframe tbody tr th {\n",
       "        vertical-align: top;\n",
       "    }\n",
       "\n",
       "    .dataframe thead th {\n",
       "        text-align: right;\n",
       "    }\n",
       "</style>\n",
       "<table border=\"1\" class=\"dataframe\">\n",
       "  <thead>\n",
       "    <tr style=\"text-align: right;\">\n",
       "      <th></th>\n",
       "      <th>cp</th>\n",
       "      <th>restecg</th>\n",
       "      <th>thal</th>\n",
       "      <th>ca_cat</th>\n",
       "    </tr>\n",
       "  </thead>\n",
       "  <tbody>\n",
       "    <tr>\n",
       "      <th>0</th>\n",
       "      <td>1</td>\n",
       "      <td>2</td>\n",
       "      <td>fixed</td>\n",
       "      <td>0</td>\n",
       "    </tr>\n",
       "    <tr>\n",
       "      <th>1</th>\n",
       "      <td>4</td>\n",
       "      <td>2</td>\n",
       "      <td>normal</td>\n",
       "      <td>3</td>\n",
       "    </tr>\n",
       "    <tr>\n",
       "      <th>2</th>\n",
       "      <td>4</td>\n",
       "      <td>2</td>\n",
       "      <td>reversible</td>\n",
       "      <td>2</td>\n",
       "    </tr>\n",
       "    <tr>\n",
       "      <th>3</th>\n",
       "      <td>3</td>\n",
       "      <td>0</td>\n",
       "      <td>normal</td>\n",
       "      <td>0</td>\n",
       "    </tr>\n",
       "    <tr>\n",
       "      <th>4</th>\n",
       "      <td>2</td>\n",
       "      <td>2</td>\n",
       "      <td>normal</td>\n",
       "      <td>0</td>\n",
       "    </tr>\n",
       "    <tr>\n",
       "      <th>...</th>\n",
       "      <td>...</td>\n",
       "      <td>...</td>\n",
       "      <td>...</td>\n",
       "      <td>...</td>\n",
       "    </tr>\n",
       "    <tr>\n",
       "      <th>298</th>\n",
       "      <td>1</td>\n",
       "      <td>2</td>\n",
       "      <td>fixed</td>\n",
       "      <td>0</td>\n",
       "    </tr>\n",
       "    <tr>\n",
       "      <th>299</th>\n",
       "      <td>4</td>\n",
       "      <td>2</td>\n",
       "      <td>reversible</td>\n",
       "      <td>0</td>\n",
       "    </tr>\n",
       "    <tr>\n",
       "      <th>300</th>\n",
       "      <td>4</td>\n",
       "      <td>2</td>\n",
       "      <td>reversible</td>\n",
       "      <td>1</td>\n",
       "    </tr>\n",
       "    <tr>\n",
       "      <th>301</th>\n",
       "      <td>4</td>\n",
       "      <td>2</td>\n",
       "      <td>reversible</td>\n",
       "      <td>2</td>\n",
       "    </tr>\n",
       "    <tr>\n",
       "      <th>302</th>\n",
       "      <td>4</td>\n",
       "      <td>2</td>\n",
       "      <td>reversible</td>\n",
       "      <td>3</td>\n",
       "    </tr>\n",
       "  </tbody>\n",
       "</table>\n",
       "<p>303 rows × 4 columns</p>\n",
       "</div>"
      ],
      "text/plain": [
       "    cp restecg        thal ca_cat\n",
       "0    1       2       fixed      0\n",
       "1    4       2      normal      3\n",
       "2    4       2  reversible      2\n",
       "3    3       0      normal      0\n",
       "4    2       2      normal      0\n",
       "..  ..     ...         ...    ...\n",
       "298  1       2       fixed      0\n",
       "299  4       2  reversible      0\n",
       "300  4       2  reversible      1\n",
       "301  4       2  reversible      2\n",
       "302  4       2  reversible      3\n",
       "\n",
       "[303 rows x 4 columns]"
      ]
     },
     "execution_count": 11,
     "metadata": {},
     "output_type": "execute_result"
    }
   ],
   "source": [
    "x_cat"
   ]
  },
  {
   "cell_type": "code",
   "execution_count": 12,
   "metadata": {},
   "outputs": [],
   "source": [
    "# Criação das variáveis dummies para variáveis categóricas\n",
    "x_cat_enc = OneHotEncoder()\n",
    "x_cat = x_cat_enc.fit_transform(x_cat).toarray()\n",
    "\n",
    "# Unificação da base de dados\n",
    "x = np.concatenate([x_num, x_cat], axis=1)"
   ]
  },
  {
   "cell_type": "code",
   "execution_count": 14,
   "metadata": {},
   "outputs": [
    {
     "data": {
      "text/plain": [
       "(303, 27)"
      ]
     },
     "execution_count": 14,
     "metadata": {},
     "output_type": "execute_result"
    }
   ],
   "source": [
    "x.shape"
   ]
  },
  {
   "cell_type": "markdown",
   "metadata": {},
   "source": [
    "### Divisão das bases em Treino e Teste"
   ]
  },
  {
   "cell_type": "code",
   "execution_count": 15,
   "metadata": {},
   "outputs": [],
   "source": [
    "# Divisão em treino e teste\n",
    "from sklearn.model_selection import train_test_split\n",
    "x_train, x_test, y_train, y_test = train_test_split(x, y, \n",
    "                                                    test_size=0.30,\n",
    "                                                    random_state=42)"
   ]
  },
  {
   "cell_type": "markdown",
   "metadata": {},
   "source": [
    "### Padronização da Escala"
   ]
  },
  {
   "cell_type": "code",
   "execution_count": 16,
   "metadata": {},
   "outputs": [],
   "source": [
    "# Padronização da Escala usando conjunto de treino\n",
    "x_scaler = StandardScaler()\n",
    "x_scaler.fit(x_train)\n",
    "x_train_scaled = x_scaler.transform(x_train)\n",
    "x_test_scaled = x_scaler.transform(x_test)"
   ]
  },
  {
   "cell_type": "markdown",
   "metadata": {},
   "source": [
    "### Definição da RNA MLP"
   ]
  },
  {
   "cell_type": "code",
   "execution_count": 18,
   "metadata": {},
   "outputs": [
    {
     "data": {
      "text/plain": [
       "(212, 27)"
      ]
     },
     "execution_count": 18,
     "metadata": {},
     "output_type": "execute_result"
    }
   ],
   "source": [
    "x_train_scaled.shape"
   ]
  },
  {
   "cell_type": "code",
   "execution_count": 19,
   "metadata": {},
   "outputs": [
    {
     "data": {
      "text/plain": [
       "(212,)"
      ]
     },
     "execution_count": 19,
     "metadata": {},
     "output_type": "execute_result"
    }
   ],
   "source": [
    "y_train.shape"
   ]
  },
  {
   "cell_type": "code",
   "execution_count": 31,
   "metadata": {},
   "outputs": [
    {
     "name": "stdout",
     "output_type": "stream",
     "text": [
      "Model: \"sequential_1\"\n",
      "_________________________________________________________________\n",
      "Layer (type)                 Output Shape              Param #   \n",
      "=================================================================\n",
      "dense_2 (Dense)              (None, 4)                 112       \n",
      "_________________________________________________________________\n",
      "dropout_1 (Dropout)          (None, 4)                 0         \n",
      "_________________________________________________________________\n",
      "dense_3 (Dense)              (None, 8)                 40        \n",
      "_________________________________________________________________\n",
      "dropout_2 (Dropout)          (None, 8)                 0         \n",
      "_________________________________________________________________\n",
      "dense_4 (Dense)              (None, 1)                 9         \n",
      "=================================================================\n",
      "Total params: 161\n",
      "Trainable params: 161\n",
      "Non-trainable params: 0\n",
      "_________________________________________________________________\n"
     ]
    }
   ],
   "source": [
    "model = keras.Sequential()\n",
    "\n",
    "# Camada Oculta 1\n",
    "model.add(layers.Dense(4, \n",
    "                       activation='tanh', \n",
    "                       kernel_regularizer=keras.regularizers.l1_l2(l1=0.01, l2=0.01),\n",
    "                       input_dim=x_train_scaled.shape[1]))\n",
    "model.add(layers.Dropout(0.2))\n",
    "\n",
    "# Camada Oculta 2\n",
    "model.add(layers.Dense(8, \n",
    "                       activation='relu', \n",
    "                       kernel_regularizer=keras.regularizers.l1_l2(l1=0.01, l2=0.01),\n",
    "                       input_dim=x_train_scaled.shape[1]))\n",
    "model.add(layers.Dropout(0.1))\n",
    "\n",
    "\n",
    "# Camada Saída\n",
    "model.add(layers.Dense(1, activation='sigmoid'))\n",
    "\n",
    "# Compilação do Modelo\n",
    "model.compile(loss='binary_crossentropy', \n",
    "              optimizer=keras.optimizers.Adam(),\n",
    "              metrics=keras.metrics.AUC(name='auc'))\n",
    "\n",
    "model.summary()"
   ]
  },
  {
   "cell_type": "code",
   "execution_count": 23,
   "metadata": {},
   "outputs": [
    {
     "data": {
      "text/plain": [
       "5"
      ]
     },
     "execution_count": 23,
     "metadata": {},
     "output_type": "execute_result"
    }
   ],
   "source": [
    "(4*1)+1"
   ]
  },
  {
   "cell_type": "markdown",
   "metadata": {},
   "source": [
    "### Avaliação da RNA antes do treinamento"
   ]
  },
  {
   "cell_type": "code",
   "execution_count": 32,
   "metadata": {},
   "outputs": [
    {
     "name": "stdout",
     "output_type": "stream",
     "text": [
      "AUC no conjunto de Treino: 70.3%\n",
      "AUC no conjunto de Teste: 50.6%\n"
     ]
    }
   ],
   "source": [
    "score_train, metric_train = model.evaluate(x_train_scaled, y_train, verbose=0)\n",
    "score_test, metric_test = model.evaluate(x_test_scaled, y_test, verbose=0)\n",
    "\n",
    "print('AUC no conjunto de Treino: {:.1%}'.format(metric_train))\n",
    "print('AUC no conjunto de Teste: {:.1%}'.format(metric_test))"
   ]
  },
  {
   "cell_type": "markdown",
   "metadata": {},
   "source": [
    "### Treinamento da RNA MLP"
   ]
  },
  {
   "cell_type": "code",
   "execution_count": 27,
   "metadata": {},
   "outputs": [
    {
     "data": {
      "text/plain": [
       "23.85"
      ]
     },
     "execution_count": 27,
     "metadata": {},
     "output_type": "execute_result"
    }
   ],
   "source": [
    "(212*0.9)/8"
   ]
  },
  {
   "cell_type": "code",
   "execution_count": 33,
   "metadata": {},
   "outputs": [
    {
     "name": "stdout",
     "output_type": "stream",
     "text": [
      "Epoch 1/50\n",
      "24/24 [==============================] - 1s 17ms/step - loss: 1.1985 - auc: 0.6714 - val_loss: 1.1612 - val_auc: 0.7765\n",
      "Epoch 2/50\n",
      "24/24 [==============================] - 0s 13ms/step - loss: 1.1337 - auc: 0.7343 - val_loss: 1.1013 - val_auc: 0.8235\n",
      "Epoch 3/50\n",
      "24/24 [==============================] - 0s 13ms/step - loss: 1.0974 - auc: 0.7340 - val_loss: 1.0478 - val_auc: 0.8353\n",
      "Epoch 4/50\n",
      "24/24 [==============================] - 0s 15ms/step - loss: 1.0316 - auc: 0.8173 - val_loss: 1.0024 - val_auc: 0.8529\n",
      "Epoch 5/50\n",
      "24/24 [==============================] - 0s 13ms/step - loss: 0.9955 - auc: 0.7968 - val_loss: 0.9587 - val_auc: 0.8529\n",
      "Epoch 6/50\n",
      "24/24 [==============================] - 0s 13ms/step - loss: 0.9630 - auc: 0.7778 - val_loss: 0.9173 - val_auc: 0.8647\n",
      "Epoch 7/50\n",
      "24/24 [==============================] - 0s 14ms/step - loss: 0.9382 - auc: 0.7681 - val_loss: 0.8791 - val_auc: 0.8765\n",
      "Epoch 8/50\n",
      "24/24 [==============================] - 0s 13ms/step - loss: 0.9007 - auc: 0.7905 - val_loss: 0.8432 - val_auc: 0.8941\n",
      "Epoch 9/50\n",
      "24/24 [==============================] - 0s 13ms/step - loss: 0.8409 - auc: 0.8638 - val_loss: 0.8081 - val_auc: 0.8941\n",
      "Epoch 10/50\n",
      "24/24 [==============================] - 0s 13ms/step - loss: 0.8131 - auc: 0.8654 - val_loss: 0.7734 - val_auc: 0.9059\n",
      "Epoch 11/50\n",
      "24/24 [==============================] - 0s 13ms/step - loss: 0.7839 - auc: 0.8486 - val_loss: 0.7400 - val_auc: 0.9059\n",
      "Epoch 12/50\n",
      "24/24 [==============================] - 0s 13ms/step - loss: 0.7584 - auc: 0.8641 - val_loss: 0.7091 - val_auc: 0.9294\n",
      "Epoch 13/50\n",
      "24/24 [==============================] - 0s 13ms/step - loss: 0.7207 - auc: 0.8827 - val_loss: 0.6761 - val_auc: 0.9294\n",
      "Epoch 14/50\n",
      "24/24 [==============================] - 0s 14ms/step - loss: 0.6977 - auc: 0.8802 - val_loss: 0.6520 - val_auc: 0.9353\n",
      "Epoch 15/50\n",
      "24/24 [==============================] - 0s 14ms/step - loss: 0.6897 - auc: 0.8770 - val_loss: 0.6258 - val_auc: 0.9412\n",
      "Epoch 16/50\n",
      "24/24 [==============================] - 0s 14ms/step - loss: 0.6560 - auc: 0.9041 - val_loss: 0.6002 - val_auc: 0.9529\n",
      "Epoch 17/50\n",
      "24/24 [==============================] - 0s 13ms/step - loss: 0.6304 - auc: 0.9009 - val_loss: 0.5775 - val_auc: 0.9588\n",
      "Epoch 18/50\n",
      "24/24 [==============================] - 0s 13ms/step - loss: 0.6094 - auc: 0.9076 - val_loss: 0.5569 - val_auc: 0.9588\n",
      "Epoch 19/50\n",
      "24/24 [==============================] - 0s 13ms/step - loss: 0.6036 - auc: 0.8986 - val_loss: 0.5416 - val_auc: 0.9529\n",
      "Epoch 20/50\n",
      "24/24 [==============================] - 0s 14ms/step - loss: 0.5873 - auc: 0.8955 - val_loss: 0.5245 - val_auc: 0.9529\n",
      "Epoch 21/50\n",
      "24/24 [==============================] - 0s 14ms/step - loss: 0.5697 - auc: 0.9051 - val_loss: 0.5113 - val_auc: 0.9529\n",
      "Epoch 22/50\n",
      "24/24 [==============================] - 0s 13ms/step - loss: 0.5447 - auc: 0.9335 - val_loss: 0.4954 - val_auc: 0.9588\n",
      "Epoch 23/50\n",
      "24/24 [==============================] - 0s 15ms/step - loss: 0.5279 - auc: 0.9302 - val_loss: 0.4831 - val_auc: 0.9647\n",
      "Epoch 24/50\n",
      "24/24 [==============================] - 0s 14ms/step - loss: 0.5477 - auc: 0.8964 - val_loss: 0.4724 - val_auc: 0.9647\n",
      "Epoch 25/50\n",
      "24/24 [==============================] - 0s 13ms/step - loss: 0.5272 - auc: 0.9054 - val_loss: 0.4634 - val_auc: 0.9647\n",
      "Epoch 26/50\n",
      "24/24 [==============================] - 0s 14ms/step - loss: 0.5272 - auc: 0.9106 - val_loss: 0.4542 - val_auc: 0.9647\n",
      "Epoch 27/50\n",
      "24/24 [==============================] - 0s 14ms/step - loss: 0.5212 - auc: 0.9178 - val_loss: 0.4491 - val_auc: 0.9647\n",
      "Epoch 28/50\n",
      "24/24 [==============================] - 0s 14ms/step - loss: 0.5107 - auc: 0.9041 - val_loss: 0.4411 - val_auc: 0.9647\n",
      "Epoch 29/50\n",
      "24/24 [==============================] - 0s 13ms/step - loss: 0.5067 - auc: 0.9099 - val_loss: 0.4355 - val_auc: 0.9647\n",
      "Epoch 30/50\n",
      "24/24 [==============================] - 0s 13ms/step - loss: 0.4973 - auc: 0.9139 - val_loss: 0.4283 - val_auc: 0.9647\n",
      "Epoch 31/50\n",
      "24/24 [==============================] - 0s 13ms/step - loss: 0.4972 - auc: 0.9050 - val_loss: 0.4231 - val_auc: 0.9647\n",
      "Epoch 32/50\n",
      "24/24 [==============================] - 0s 14ms/step - loss: 0.4841 - auc: 0.9175 - val_loss: 0.4181 - val_auc: 0.9647\n",
      "Epoch 33/50\n",
      "24/24 [==============================] - 0s 13ms/step - loss: 0.4957 - auc: 0.9024 - val_loss: 0.4140 - val_auc: 0.9647\n",
      "Epoch 34/50\n",
      "24/24 [==============================] - 0s 14ms/step - loss: 0.4671 - auc: 0.9257 - val_loss: 0.4091 - val_auc: 0.9706\n",
      "Epoch 35/50\n",
      "24/24 [==============================] - 0s 14ms/step - loss: 0.4668 - auc: 0.9211 - val_loss: 0.4041 - val_auc: 0.9706\n",
      "Epoch 36/50\n",
      "24/24 [==============================] - 0s 13ms/step - loss: 0.4792 - auc: 0.9141 - val_loss: 0.4015 - val_auc: 0.9706\n",
      "Epoch 37/50\n",
      "24/24 [==============================] - 0s 13ms/step - loss: 0.4788 - auc: 0.9052 - val_loss: 0.3999 - val_auc: 0.9706\n",
      "Epoch 38/50\n",
      "24/24 [==============================] - 0s 13ms/step - loss: 0.4787 - auc: 0.9007 - val_loss: 0.3979 - val_auc: 0.9706\n",
      "Epoch 39/50\n",
      "24/24 [==============================] - 0s 13ms/step - loss: 0.4712 - auc: 0.9115 - val_loss: 0.3957 - val_auc: 0.9706\n",
      "Epoch 40/50\n",
      "24/24 [==============================] - 0s 13ms/step - loss: 0.4594 - auc: 0.9114 - val_loss: 0.3931 - val_auc: 0.9647\n",
      "Epoch 41/50\n",
      "24/24 [==============================] - 0s 13ms/step - loss: 0.4682 - auc: 0.9124 - val_loss: 0.3933 - val_auc: 0.9706\n",
      "Epoch 42/50\n",
      "24/24 [==============================] - 0s 13ms/step - loss: 0.4494 - auc: 0.9163 - val_loss: 0.3912 - val_auc: 0.9647\n",
      "Epoch 43/50\n",
      "24/24 [==============================] - 0s 13ms/step - loss: 0.4524 - auc: 0.9162 - val_loss: 0.3876 - val_auc: 0.9706\n",
      "Restoring model weights from the end of the best epoch.\n",
      "Epoch 00043: early stopping\n"
     ]
    }
   ],
   "source": [
    "rna_es = tf.keras.callbacks.EarlyStopping(\n",
    "    monitor=\"val_auc\",\n",
    "    min_delta=0.01,\n",
    "    patience = 20,\n",
    "    verbose=2,\n",
    "    mode='max',\n",
    "    restore_best_weights=True)\n",
    "\n",
    "historico = model.fit(x=x_train_scaled, \n",
    "                      y=y_train,\n",
    "                      epochs=50,\n",
    "                      batch_size=8,\n",
    "                      validation_split=0.1,\n",
    "                      verbose=1,\n",
    "                      callbacks=[rna_es])"
   ]
  },
  {
   "cell_type": "markdown",
   "metadata": {},
   "source": [
    "### Análise de Desempenho"
   ]
  },
  {
   "cell_type": "code",
   "execution_count": 34,
   "metadata": {},
   "outputs": [
    {
     "name": "stdout",
     "output_type": "stream",
     "text": [
      "AUC no conjunto de Treino: 93.0%\n",
      "AUC no conjunto de Teste: 92.4%\n"
     ]
    }
   ],
   "source": [
    "score_train, metric_train = model.evaluate(x_train_scaled, y_train, verbose=0)\n",
    "score_test, metric_test = model.evaluate(x_test_scaled, y_test, verbose=0)\n",
    "\n",
    "print('AUC no conjunto de Treino: {:.1%}'.format(metric_train))\n",
    "print('AUC no conjunto de Teste: {:.1%}'.format(metric_test))"
   ]
  },
  {
   "cell_type": "code",
   "execution_count": 30,
   "metadata": {},
   "outputs": [
    {
     "data": {
      "text/plain": [
       "dict_keys(['loss', 'auc', 'val_loss', 'val_auc'])"
      ]
     },
     "execution_count": 30,
     "metadata": {},
     "output_type": "execute_result"
    }
   ],
   "source": [
    "historico.history.keys()"
   ]
  },
  {
   "cell_type": "code",
   "execution_count": 35,
   "metadata": {},
   "outputs": [
    {
     "data": {
      "image/png": "[encoded data removed]",
      "text/plain": [
       "<Figure size 800x800 with 1 Axes>"
      ]
     },
     "metadata": {},
     "output_type": "display_data"
    }
   ],
   "source": [
    "auc_treino = list(historico.history.keys())[1]\n",
    "auc_valid = list(historico.history.keys())[3]\n",
    "\n",
    "# Gráfico com a evolução do treinamento\n",
    "matplotlib.use('module://ipykernel.pylab.backend_inline')\n",
    "fig, ax = plt.subplots(figsize=(8, 8))\n",
    "plt.style.use('ggplot')\n",
    "plt.plot(historico.history[auc_treino])\n",
    "plt.plot(historico.history[auc_valid])\n",
    "plt.title('Desempenho do Modelo')\n",
    "plt.ylabel('AUC')\n",
    "plt.xlabel('Épocas')\n",
    "plt.legend(['Treino', 'Validação'], loc='upper left')\n",
    "plt.show()"
   ]
  },
  {
   "cell_type": "code",
   "execution_count": null,
   "metadata": {},
   "outputs": [],
   "source": []
  }
 ],
 "metadata": {
  "kernelspec": {
   "display_name": "Python 3",
   "language": "python",
   "name": "python3"
  },
  "language_info": {
   "codemirror_mode": {
    "name": "ipython",
    "version": 3
   },
   "file_extension": ".py",
   "mimetype": "text/x-python",
   "name": "python",
   "nbconvert_exporter": "python",
   "pygments_lexer": "ipython3",
   "version": "3.8.3"
  },
  "toc-autonumbering": true
 },
 "nbformat": 4,
 "nbformat_minor": 4
}
